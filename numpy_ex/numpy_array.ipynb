{
 "cells": [
  {
   "attachments": {},
   "cell_type": "markdown",
   "metadata": {},
   "source": [
    "1. Write a NumPy program to print the NumPy version in your system."
   ]
  },
  {
   "cell_type": "code",
   "execution_count": 1,
   "metadata": {},
   "outputs": [
    {
     "data": {
      "text/plain": [
       "'1.24.1'"
      ]
     },
     "execution_count": 1,
     "metadata": {},
     "output_type": "execute_result"
    }
   ],
   "source": [
    "import numpy as np\n",
    "\n",
    "np.__version__"
   ]
  },
  {
   "attachments": {},
   "cell_type": "markdown",
   "metadata": {},
   "source": [
    "2. Write a NumPy program to convert a list of numeric value into a one-dimensional NumPy array."
   ]
  },
  {
   "cell_type": "code",
   "execution_count": 2,
   "metadata": {},
   "outputs": [
    {
     "data": {
      "text/plain": [
       "array([ 12.23,  13.32, 100.  ,  36.32])"
      ]
     },
     "execution_count": 2,
     "metadata": {},
     "output_type": "execute_result"
    }
   ],
   "source": [
    "lst = [12.23, 13.32, 100, 36.32]\n",
    "np.array(lst)"
   ]
  },
  {
   "attachments": {},
   "cell_type": "markdown",
   "metadata": {},
   "source": [
    "3.Write a NumPy program to create a 3x3 matrix with values ranging from 2 to 10."
   ]
  },
  {
   "cell_type": "code",
   "execution_count": 3,
   "metadata": {},
   "outputs": [
    {
     "data": {
      "text/plain": [
       "array([[ 2,  3,  4],\n",
       "       [ 5,  6,  7],\n",
       "       [ 8,  9, 10]])"
      ]
     },
     "execution_count": 3,
     "metadata": {},
     "output_type": "execute_result"
    }
   ],
   "source": [
    "np.arange(2, 11).reshape((3, 3))"
   ]
  },
  {
   "attachments": {},
   "cell_type": "markdown",
   "metadata": {},
   "source": [
    "4. Write a NumPy program to create a null vector of size 10 and update sixth value to 11"
   ]
  },
  {
   "cell_type": "code",
   "execution_count": 4,
   "metadata": {},
   "outputs": [
    {
     "data": {
      "text/plain": [
       "array([ 0.,  0.,  0.,  0.,  0., 11.,  0.,  0.,  0.,  0.])"
      ]
     },
     "execution_count": 4,
     "metadata": {},
     "output_type": "execute_result"
    }
   ],
   "source": [
    "x = np.zeros(10)\n",
    "x[5] = 11\n",
    "x"
   ]
  },
  {
   "attachments": {},
   "cell_type": "markdown",
   "metadata": {},
   "source": [
    "5. Write a NumPy program to create an array with values ranging from 12 to 38"
   ]
  },
  {
   "cell_type": "code",
   "execution_count": 5,
   "metadata": {},
   "outputs": [
    {
     "data": {
      "text/plain": [
       "array([12, 13, 14, 15, 16, 17, 18, 19, 20, 21, 22, 23, 24, 25, 26, 27, 28,\n",
       "       29, 30, 31, 32, 33, 34, 35, 36, 37])"
      ]
     },
     "execution_count": 5,
     "metadata": {},
     "output_type": "execute_result"
    }
   ],
   "source": [
    "np.arange(12, 38)"
   ]
  },
  {
   "attachments": {},
   "cell_type": "markdown",
   "metadata": {},
   "source": [
    "6. Write a NumPy program to reverse an array (first element becomes last)"
   ]
  },
  {
   "cell_type": "code",
   "execution_count": 6,
   "metadata": {},
   "outputs": [
    {
     "data": {
      "text/plain": [
       "array([5, 4, 3, 2, 1])"
      ]
     },
     "execution_count": 6,
     "metadata": {},
     "output_type": "execute_result"
    }
   ],
   "source": [
    "y = np.array([1, 2, 3, 4, 5])\n",
    "y[::-1]"
   ]
  },
  {
   "attachments": {},
   "cell_type": "markdown",
   "metadata": {},
   "source": [
    "7. Write a NumPy program to convert an array to a float type."
   ]
  },
  {
   "cell_type": "code",
   "execution_count": 7,
   "metadata": {},
   "outputs": [
    {
     "name": "stdout",
     "output_type": "stream",
     "text": [
      "[1. 2. 3. 4. 5.]\n"
     ]
    },
    {
     "data": {
      "text/plain": [
       "array([6., 7., 8., 9.])"
      ]
     },
     "execution_count": 7,
     "metadata": {},
     "output_type": "execute_result"
    }
   ],
   "source": [
    "y = np.array([1, 2, 3, 4, 5], dtype=float)\n",
    "print(y)\n",
    "z = np.array([6, 7, 8, 9])\n",
    "np.asfarray(z)"
   ]
  },
  {
   "attachments": {},
   "cell_type": "markdown",
   "metadata": {},
   "source": [
    "8. Write a NumPy program to create a 2d array with 1 on the border and 0 inside"
   ]
  },
  {
   "cell_type": "code",
   "execution_count": 8,
   "metadata": {},
   "outputs": [
    {
     "data": {
      "text/plain": [
       "array([[1., 1., 1., 1., 1., 1.],\n",
       "       [1., 0., 0., 0., 0., 1.],\n",
       "       [1., 0., 0., 0., 0., 1.],\n",
       "       [1., 0., 0., 0., 0., 1.],\n",
       "       [1., 0., 0., 0., 0., 1.],\n",
       "       [1., 1., 1., 1., 1., 1.]])"
      ]
     },
     "execution_count": 8,
     "metadata": {},
     "output_type": "execute_result"
    }
   ],
   "source": [
    "a = np.ones((6, 6))\n",
    "a[1:-1, 1:-1] = 0\n",
    "a\n"
   ]
  },
  {
   "attachments": {},
   "cell_type": "markdown",
   "metadata": {},
   "source": [
    "9. Write a NumPy program to add a border (filled with 0's) around an existing array."
   ]
  },
  {
   "cell_type": "code",
   "execution_count": 9,
   "metadata": {},
   "outputs": [
    {
     "data": {
      "text/plain": [
       "array([[ 0,  0,  0,  0,  0,  0,  0],\n",
       "       [ 0,  1,  2,  3,  4,  5,  0],\n",
       "       [ 0,  6,  7,  8,  9, 10,  0],\n",
       "       [ 0, 11, 12, 13, 14, 15,  0],\n",
       "       [ 0, 16, 17, 18, 19, 20,  0],\n",
       "       [ 0, 21, 22, 23, 24, 25,  0],\n",
       "       [ 0,  0,  0,  0,  0,  0,  0]])"
      ]
     },
     "execution_count": 9,
     "metadata": {},
     "output_type": "execute_result"
    }
   ],
   "source": [
    "a1 = np.arange(1, 26).reshape(5, 5)\n",
    "a2 = np.pad(array=a1, pad_width=1, mode='constant', constant_values=0)\n",
    "a2"
   ]
  },
  {
   "attachments": {},
   "cell_type": "markdown",
   "metadata": {},
   "source": [
    "10. Write a NumPy program to create a 8x8 matrix and fill it with a checkerboard pattern."
   ]
  },
  {
   "cell_type": "code",
   "execution_count": 10,
   "metadata": {},
   "outputs": [
    {
     "data": {
      "text/plain": [
       "array([[1, 0, 1, 0, 1, 0, 1, 0],\n",
       "       [0, 1, 0, 1, 0, 1, 0, 1],\n",
       "       [1, 0, 1, 0, 1, 0, 1, 0],\n",
       "       [0, 1, 0, 1, 0, 1, 0, 1],\n",
       "       [1, 0, 1, 0, 1, 0, 1, 0],\n",
       "       [0, 1, 0, 1, 0, 1, 0, 1],\n",
       "       [1, 0, 1, 0, 1, 0, 1, 0],\n",
       "       [0, 1, 0, 1, 0, 1, 0, 1]])"
      ]
     },
     "execution_count": 10,
     "metadata": {},
     "output_type": "execute_result"
    }
   ],
   "source": [
    "arr = np.ones((8, 8), dtype=int)\n",
    "arr[0::2, 1::2] = 0\n",
    "arr[1::2, 0::2] = 0\n",
    "arr"
   ]
  },
  {
   "attachments": {},
   "cell_type": "markdown",
   "metadata": {},
   "source": [
    "11. Write a NumPy program to convert a list and tuple into arrays"
   ]
  },
  {
   "cell_type": "code",
   "execution_count": 11,
   "metadata": {},
   "outputs": [
    {
     "name": "stdout",
     "output_type": "stream",
     "text": [
      "[1 2 3 4 5]\n",
      "[[5 6 7 8 9]\n",
      " [1 1 1 1 1]]\n"
     ]
    }
   ],
   "source": [
    "lst = [1, 2, 3, 4, 5]\n",
    "tup = ((5, 6, 7, 8, 9),(1, 1, 1, 1, 1))\n",
    "\n",
    "print(np.array(lst))\n",
    "print(np.array(tup))"
   ]
  },
  {
   "attachments": {},
   "cell_type": "markdown",
   "metadata": {},
   "source": [
    "12. Write a NumPy program to append values to the end of an array."
   ]
  },
  {
   "cell_type": "code",
   "execution_count": 12,
   "metadata": {},
   "outputs": [
    {
     "data": {
      "text/plain": [
       "array([1, 2, 3, 4, 1, 1, 1, 1])"
      ]
     },
     "execution_count": 12,
     "metadata": {},
     "output_type": "execute_result"
    }
   ],
   "source": [
    "a = np.array([1, 2, 3, 4])\n",
    "b = np.array([1, 1, 1, 1])\n",
    "np.append(a, b)"
   ]
  },
  {
   "attachments": {},
   "cell_type": "markdown",
   "metadata": {},
   "source": [
    "13. Write a NumPy program to create an empty and a full array."
   ]
  },
  {
   "cell_type": "code",
   "execution_count": 13,
   "metadata": {},
   "outputs": [
    {
     "name": "stdout",
     "output_type": "stream",
     "text": [
      "[[0. 0. 0. 0. 0.]\n",
      " [0. 0. 0. 0. 0.]\n",
      " [0. 0. 0. 0. 0.]]\n",
      "[[5 5 5 5]\n",
      " [5 5 5 5]\n",
      " [5 5 5 5]]\n"
     ]
    }
   ],
   "source": [
    "print(np.empty((3, 5)))\n",
    "print(np.full((3, 4), 5))"
   ]
  },
  {
   "attachments": {},
   "cell_type": "markdown",
   "metadata": {},
   "source": [
    "14. Write a NumPy program to convert the values of Centigrade degrees into Fahrenheit degrees and vice versa. Values are stored into a NumPy array."
   ]
  },
  {
   "cell_type": "code",
   "execution_count": 14,
   "metadata": {},
   "outputs": [
    {
     "name": "stdout",
     "output_type": "stream",
     "text": [
      "Values in Fahrenheit degrees:\n",
      "[ 0.   12.   45.21 34.   99.91 32.  ]\n",
      "Values in  Centigrade degrees:\n",
      "[-17.78 -11.11   7.34   1.11  37.73   0.  ]\n"
     ]
    }
   ],
   "source": [
    "fvalues = [0, 12, 45.21, 34, 99.91, 32]\n",
    "F = np.array(fvalues)\n",
    "print(\"Values in Fahrenheit degrees:\")\n",
    "print(F)\n",
    "print(\"Values in  Centigrade degrees:\")\n",
    "print(np.round((5 * F / 9 - 5 * 32 / 9), 2))"
   ]
  },
  {
   "cell_type": "code",
   "execution_count": 15,
   "metadata": {},
   "outputs": [
    {
     "name": "stdout",
     "output_type": "stream",
     "text": [
      "Values in Centigrade degrees:\n",
      "[-17.78 -11.11   7.34   1.11  37.73   0.  ]\n",
      "Values in  Fahrenheit degrees:\n",
      "[-0.   12.   45.21 34.   99.91 32.  ]\n"
     ]
    }
   ],
   "source": [
    "cvalues = [-17.78, -11.11, 7.34, 1.11, 37.73, 0]\n",
    "C = np.array(cvalues)\n",
    "print(\"Values in Centigrade degrees:\")\n",
    "print(C)\n",
    "print(\"Values in  Fahrenheit degrees:\")\n",
    "print(np.round((9  * C / 5 + 32), 2))"
   ]
  },
  {
   "attachments": {},
   "cell_type": "markdown",
   "metadata": {},
   "source": [
    "15. Write a NumPy program to find the real and imaginary parts of an array of complex numbers."
   ]
  },
  {
   "cell_type": "code",
   "execution_count": 16,
   "metadata": {},
   "outputs": [
    {
     "name": "stdout",
     "output_type": "stream",
     "text": [
      "Real part of the array\n",
      "[1.         0.70710678]\n",
      "Imaginary part of the array\n",
      "[0.         0.70710678]\n"
     ]
    }
   ],
   "source": [
    "a = np.array([ 1.00000000 + 0.j,  0.70710678 + 0.70710678j])\n",
    "print('Real part of the array')\n",
    "r = np.real(a)\n",
    "print(r)\n",
    "print('Imaginary part of the array')\n",
    "i = np.imag(a)\n",
    "print(i)"
   ]
  },
  {
   "cell_type": "code",
   "execution_count": 17,
   "metadata": {},
   "outputs": [
    {
     "data": {
      "text/plain": [
       "array([1.        , 0.70710678])"
      ]
     },
     "execution_count": 17,
     "metadata": {},
     "output_type": "execute_result"
    }
   ],
   "source": [
    "a.real"
   ]
  },
  {
   "cell_type": "code",
   "execution_count": 18,
   "metadata": {},
   "outputs": [
    {
     "data": {
      "text/plain": [
       "array([0.        , 0.70710678])"
      ]
     },
     "execution_count": 18,
     "metadata": {},
     "output_type": "execute_result"
    }
   ],
   "source": [
    "a.imag"
   ]
  },
  {
   "attachments": {},
   "cell_type": "markdown",
   "metadata": {},
   "source": [
    "16. Write a NumPy program to find the number of elements of an array, length of one array element in bytes and total bytes consumed by the elements."
   ]
  },
  {
   "cell_type": "code",
   "execution_count": 19,
   "metadata": {},
   "outputs": [
    {
     "name": "stdout",
     "output_type": "stream",
     "text": [
      "The number of elements, is:  9\n",
      "The lenght of one array element in bytes is:  8\n",
      "The total bytes consumed by the elements is:  72\n"
     ]
    }
   ],
   "source": [
    "a = np.ones((3, 3))\n",
    "print('The number of elements, is: ', a.size)\n",
    "print('The lenght of one array element in bytes is: ', a.itemsize)\n",
    "print('The total bytes consumed by the elements is: ', a.nbytes)"
   ]
  },
  {
   "attachments": {},
   "cell_type": "markdown",
   "metadata": {},
   "source": [
    "17. Write a NumPy program to test whether each element of a 1-D array is also present in a second array."
   ]
  },
  {
   "cell_type": "code",
   "execution_count": 20,
   "metadata": {},
   "outputs": [
    {
     "name": "stdout",
     "output_type": "stream",
     "text": [
      "[0. 1. 2. 3. 4. 5. 6. 7. 8. 9.]\n",
      "[1. 1. 1. 1. 1. 1. 1. 1. 1. 1.]\n"
     ]
    },
    {
     "data": {
      "text/plain": [
       "array([False,  True, False, False, False, False, False, False, False,\n",
       "       False])"
      ]
     },
     "execution_count": 20,
     "metadata": {},
     "output_type": "execute_result"
    }
   ],
   "source": [
    "a = np.arange(10, dtype=float)\n",
    "print(a)\n",
    "b = np.ones(10)\n",
    "print(b)\n",
    "np.in1d(a, b)"
   ]
  },
  {
   "attachments": {},
   "cell_type": "markdown",
   "metadata": {},
   "source": [
    "18. Write a NumPy program to find common values between two arrays."
   ]
  },
  {
   "cell_type": "code",
   "execution_count": 21,
   "metadata": {},
   "outputs": [
    {
     "data": {
      "text/plain": [
       "array([10, 40])"
      ]
     },
     "execution_count": 21,
     "metadata": {},
     "output_type": "execute_result"
    }
   ],
   "source": [
    "arr1 = np.array([0, 10, 20, 40, 60])\n",
    "arr2 = np.array([10, 30, 40])\n",
    "np.intersect1d(arr1, arr2)"
   ]
  },
  {
   "attachments": {},
   "cell_type": "markdown",
   "metadata": {},
   "source": [
    "19. Write a NumPy program to get the unique elements of an array."
   ]
  },
  {
   "cell_type": "code",
   "execution_count": 22,
   "metadata": {},
   "outputs": [
    {
     "data": {
      "text/plain": [
       "array([10, 20, 30])"
      ]
     },
     "execution_count": 22,
     "metadata": {},
     "output_type": "execute_result"
    }
   ],
   "source": [
    "a = np.array([10, 10, 20, 20, 30, 30])\n",
    "np.unique(a)"
   ]
  },
  {
   "cell_type": "code",
   "execution_count": 23,
   "metadata": {},
   "outputs": [
    {
     "data": {
      "text/plain": [
       "array([1, 3, 4])"
      ]
     },
     "execution_count": 23,
     "metadata": {},
     "output_type": "execute_result"
    }
   ],
   "source": [
    "a = np.array([[1, 1, 3], [3, 3, 4]])\n",
    "np.unique(a)"
   ]
  },
  {
   "attachments": {},
   "cell_type": "markdown",
   "metadata": {},
   "source": [
    "20. Write a NumPy program to find the set difference of two arrays. The set difference will return the sorted, unique values in array1 that are not in array2"
   ]
  },
  {
   "cell_type": "code",
   "execution_count": 24,
   "metadata": {},
   "outputs": [
    {
     "name": "stdout",
     "output_type": "stream",
     "text": [
      "[ 0 10 20 40 60 80]\n",
      "[10 30 40 50 70 90]\n",
      "[ 0 20 60 80]\n"
     ]
    }
   ],
   "source": [
    "a1 = np.array([0, 10, 20, 40, 60, 80])\n",
    "a2 = np.array([10, 30, 40, 50, 70, 90])\n",
    "print(a1)\n",
    "print(a2)\n",
    "print(np.setdiff1d(a1, a2))"
   ]
  },
  {
   "attachments": {},
   "cell_type": "markdown",
   "metadata": {},
   "source": [
    "21. Write a NumPy program to find the set exclusive-or of two arrays. Set exclusive-or will return the sorted, unique values that are in only one (not both) of the input arrays."
   ]
  },
  {
   "cell_type": "code",
   "execution_count": 25,
   "metadata": {},
   "outputs": [
    {
     "name": "stdout",
     "output_type": "stream",
     "text": [
      "Array1:  [ 0 10 20 40 60 80]\n",
      "Array2:  [10 30 40 50 70]\n",
      "Unique values that are in only one (not both) of the input arrays:\n",
      "[ 0 20 30 50 60 70 80]\n"
     ]
    }
   ],
   "source": [
    "array1 = np.array([0, 10, 20, 40, 60, 80])\n",
    "print(\"Array1: \",array1)\n",
    "array2 = np.array([10, 30, 40, 50, 70])\n",
    "print(\"Array2: \",array2)\n",
    "print(\"Unique values that are in only one (not both) of the input arrays:\")\n",
    "print(np.setxor1d(array1, array2))"
   ]
  },
  {
   "attachments": {},
   "cell_type": "markdown",
   "metadata": {},
   "source": [
    "22. Write a NumPy program to find the union of two arrays. Union will return the unique, sorted array of values that are in either of the two input arrays."
   ]
  },
  {
   "cell_type": "code",
   "execution_count": 26,
   "metadata": {},
   "outputs": [
    {
     "data": {
      "text/plain": [
       "array([ 0, 10, 20, 30, 40, 50, 60, 70, 80])"
      ]
     },
     "execution_count": 26,
     "metadata": {},
     "output_type": "execute_result"
    }
   ],
   "source": [
    "np.union1d(array1, array2)"
   ]
  },
  {
   "attachments": {},
   "cell_type": "markdown",
   "metadata": {},
   "source": [
    "23. Write a NumPy program to test whether all elements in an array evaluate to True."
   ]
  },
  {
   "cell_type": "code",
   "execution_count": 27,
   "metadata": {},
   "outputs": [
    {
     "data": {
      "text/plain": [
       "True"
      ]
     },
     "execution_count": 27,
     "metadata": {},
     "output_type": "execute_result"
    }
   ],
   "source": [
    "np.alltrue(array2)"
   ]
  },
  {
   "attachments": {},
   "cell_type": "markdown",
   "metadata": {},
   "source": [
    "24. Write a NumPy program to test whether any array element along a given axis evaluates to True."
   ]
  },
  {
   "cell_type": "code",
   "execution_count": 28,
   "metadata": {},
   "outputs": [
    {
     "name": "stdout",
     "output_type": "stream",
     "text": [
      "[[ 0  1  2  3]\n",
      " [ 4  5  6  7]\n",
      " [ 8  9 10 11]]\n",
      "[ True  True  True  True]\n",
      "[ True  True  True]\n"
     ]
    },
    {
     "data": {
      "text/plain": [
       "True"
      ]
     },
     "execution_count": 28,
     "metadata": {},
     "output_type": "execute_result"
    }
   ],
   "source": [
    "a = np.arange(12).reshape((3, 4))\n",
    "print(a)\n",
    "b = a.any(axis=0)\n",
    "print(b)\n",
    "c = a.any(axis=1)\n",
    "print(c)\n",
    "np.any(array2)"
   ]
  },
  {
   "attachments": {},
   "cell_type": "markdown",
   "metadata": {},
   "source": [
    "25. Write a NumPy program to construct an array by repeating."
   ]
  },
  {
   "cell_type": "code",
   "execution_count": 29,
   "metadata": {},
   "outputs": [
    {
     "data": {
      "text/plain": [
       "array([1, 2, 3, 4, 1, 2, 3, 4, 1, 2, 3, 4])"
      ]
     },
     "execution_count": 29,
     "metadata": {},
     "output_type": "execute_result"
    }
   ],
   "source": [
    "a = np.array([1, 2, 3, 4])\n",
    "np.tile(a, 3)"
   ]
  },
  {
   "attachments": {},
   "cell_type": "markdown",
   "metadata": {},
   "source": [
    "26. Write a NumPy program to repeat elements of an array."
   ]
  },
  {
   "cell_type": "code",
   "execution_count": 30,
   "metadata": {},
   "outputs": [
    {
     "data": {
      "text/plain": [
       "array([1, 1, 2, 2, 3, 3, 4, 4])"
      ]
     },
     "execution_count": 30,
     "metadata": {},
     "output_type": "execute_result"
    }
   ],
   "source": [
    "np.repeat(a, 2)"
   ]
  },
  {
   "attachments": {},
   "cell_type": "markdown",
   "metadata": {},
   "source": [
    "27. Write a NumPy program to find the indices of the maximum and minimum values along the given axis of an array."
   ]
  },
  {
   "cell_type": "code",
   "execution_count": 31,
   "metadata": {},
   "outputs": [
    {
     "name": "stdout",
     "output_type": "stream",
     "text": [
      "Max index is:  6\n",
      "Min index is:  1\n"
     ]
    }
   ],
   "source": [
    "x = np.array([4, 2, 3, 3, 7, 8, 90, 2, 10]).reshape((3, 3))\n",
    "print('Max index is: ', np.argmax(x))\n",
    "print('Min index is: ', np.argmin(x))\n"
   ]
  },
  {
   "attachments": {},
   "cell_type": "markdown",
   "metadata": {},
   "source": [
    "28. Write a NumPy program compare two given arrays."
   ]
  },
  {
   "cell_type": "code",
   "execution_count": 32,
   "metadata": {},
   "outputs": [
    {
     "name": "stdout",
     "output_type": "stream",
     "text": [
      "[False False False]\n",
      "[ True  True False]\n",
      "[False False  True]\n",
      "[ True  True  True]\n",
      "[False False  True]\n",
      "[ True  True False]\n"
     ]
    }
   ],
   "source": [
    "x = np.array([1, 2, 3])\n",
    "y = np.array([2, 3, 3])\n",
    "\n",
    "print(np.greater(x, y))\n",
    "print(np.less(x, y))\n",
    "print(np.equal(x, y))\n",
    "print(np.less_equal(x, y))\n",
    "print(np.greater_equal(x, y))\n",
    "print(np.not_equal(x, y))"
   ]
  },
  {
   "attachments": {},
   "cell_type": "markdown",
   "metadata": {},
   "source": [
    "29. Write a NumPy program to sort an along the first, last axis of an array."
   ]
  },
  {
   "cell_type": "code",
   "execution_count": 33,
   "metadata": {},
   "outputs": [
    {
     "name": "stdout",
     "output_type": "stream",
     "text": [
      "[[2 5]\n",
      " [6 4]]\n",
      "----------\n",
      "[[2 4]\n",
      " [6 5]]\n",
      "----------\n",
      "[[2 5]\n",
      " [4 6]]\n"
     ]
    }
   ],
   "source": [
    "a = np.array([[2,5],[6,4]])\n",
    "print(a)\n",
    "print('-' * 10)\n",
    "print(np.sort(a, axis=0))\n",
    "print('-' * 10)\n",
    "print(np.sort(a, axis=1))"
   ]
  },
  {
   "attachments": {},
   "cell_type": "markdown",
   "metadata": {},
   "source": [
    "30. Write a NumPy program to sort pairs of first name and last name return their indices. (first by last name, then by first name)."
   ]
  },
  {
   "cell_type": "code",
   "execution_count": 34,
   "metadata": {},
   "outputs": [
    {
     "data": {
      "text/plain": [
       "array([1, 3, 2, 4, 0], dtype=int64)"
      ]
     },
     "execution_count": 34,
     "metadata": {},
     "output_type": "execute_result"
    }
   ],
   "source": [
    "first_names = ('Betsey', 'Shelley', 'Lanell', 'Genesis', 'Margery')\n",
    "last_names = ('Woolum', 'Battle', 'Plotner', 'Brien', 'Stahl')\n",
    "np.lexsort((first_names, last_names))"
   ]
  },
  {
   "attachments": {},
   "cell_type": "markdown",
   "metadata": {},
   "source": [
    "31. Write a NumPy program to get the values and indices of the elements that are bigger than 10 in a given array."
   ]
  },
  {
   "cell_type": "code",
   "execution_count": 35,
   "metadata": {},
   "outputs": [
    {
     "name": "stdout",
     "output_type": "stream",
     "text": [
      "Original array: \n",
      "[[ 0 10 20]\n",
      " [20 30 40]]\n",
      "Values bigger than 10 = [20 20 30 40]\n",
      "Their indices are  (array([0, 1, 1, 1], dtype=int64), array([2, 0, 1, 2], dtype=int64))\n"
     ]
    }
   ],
   "source": [
    "a = np.array([[0, 10, 20], [20, 30, 40]])\n",
    "print(\"Original array: \")\n",
    "print(a)\n",
    "print(\"Values bigger than 10 =\", a[a>10])\n",
    "print(\"Their indices are \", np.nonzero(a > 10))"
   ]
  },
  {
   "attachments": {},
   "cell_type": "markdown",
   "metadata": {},
   "source": [
    "32. Write a NumPy program to save a NumPy array to a text file."
   ]
  },
  {
   "cell_type": "code",
   "execution_count": 36,
   "metadata": {},
   "outputs": [],
   "source": [
    "arr3 = np.array([[0, 10, 20], [20, 30, 40]])\n",
    "np.savetxt('save.txt', arr3, delimiter=',')"
   ]
  },
  {
   "attachments": {},
   "cell_type": "markdown",
   "metadata": {},
   "source": [
    "33. Write a NumPy program to find the memory size of a NumPy array."
   ]
  },
  {
   "cell_type": "code",
   "execution_count": 37,
   "metadata": {},
   "outputs": [
    {
     "name": "stdout",
     "output_type": "stream",
     "text": [
      "24 bytes\n"
     ]
    }
   ],
   "source": [
    "print(\"%d bytes\" % (arr3.size * arr3.itemsize))"
   ]
  },
  {
   "attachments": {},
   "cell_type": "markdown",
   "metadata": {},
   "source": [
    "34. Write a NumPy program to create an array of ones and an array of zeros."
   ]
  },
  {
   "cell_type": "code",
   "execution_count": 38,
   "metadata": {},
   "outputs": [
    {
     "name": "stdout",
     "output_type": "stream",
     "text": [
      "[1. 1.]\n",
      "[1 1]\n",
      "[0. 0.]\n",
      "[0 0]\n"
     ]
    }
   ],
   "source": [
    "a = np.ones(2, dtype=float)\n",
    "print(a)\n",
    "b = np.ones(2, dtype=int)\n",
    "print(b)\n",
    "c = np.zeros(2, dtype=float)\n",
    "print(c)\n",
    "d = np.zeros(2, dtype=int)\n",
    "print(d)"
   ]
  },
  {
   "attachments": {},
   "cell_type": "markdown",
   "metadata": {},
   "source": [
    "35. Write a NumPy program to change the dimension of an array."
   ]
  },
  {
   "cell_type": "code",
   "execution_count": 39,
   "metadata": {},
   "outputs": [
    {
     "name": "stdout",
     "output_type": "stream",
     "text": [
      "[0 1 2 3 4 5 6 7 8]\n"
     ]
    },
    {
     "data": {
      "text/plain": [
       "array([[0, 1, 2],\n",
       "       [3, 4, 5],\n",
       "       [6, 7, 8]])"
      ]
     },
     "execution_count": 39,
     "metadata": {},
     "output_type": "execute_result"
    }
   ],
   "source": [
    "a = np.arange(9)\n",
    "print(a)\n",
    "a.reshape((3, 3))"
   ]
  },
  {
   "attachments": {},
   "cell_type": "markdown",
   "metadata": {},
   "source": [
    "36. Write a NumPy program to create a contiguous flattened array."
   ]
  },
  {
   "cell_type": "code",
   "execution_count": 40,
   "metadata": {},
   "outputs": [
    {
     "name": "stdout",
     "output_type": "stream",
     "text": [
      "[[10 20 30]\n",
      " [20 40 50]]\n"
     ]
    },
    {
     "data": {
      "text/plain": [
       "array([10, 20, 30, 20, 40, 50])"
      ]
     },
     "execution_count": 40,
     "metadata": {},
     "output_type": "execute_result"
    }
   ],
   "source": [
    "n = np.array([[10, 20, 30], [20, 40, 50]])\n",
    "print(n)\n",
    "n.ravel()\n"
   ]
  },
  {
   "attachments": {},
   "cell_type": "markdown",
   "metadata": {},
   "source": [
    "37. Write a NumPy program to create a 2-dimensional array of size 2 x 3 (composed of 4-byte integer elements), also print the shape, type and data type of the array."
   ]
  },
  {
   "cell_type": "code",
   "execution_count": 41,
   "metadata": {},
   "outputs": [
    {
     "name": "stdout",
     "output_type": "stream",
     "text": [
      "<class 'numpy.ndarray'>\n",
      "(2, 3)\n",
      "int32\n"
     ]
    }
   ],
   "source": [
    "x = np.array([[2, 4, 6], [6, 8, 10]], np.int32)\n",
    "print(type(x))\t\n",
    "print(x.shape)\n",
    "print(x.dtype)"
   ]
  },
  {
   "attachments": {},
   "cell_type": "markdown",
   "metadata": {},
   "source": [
    "38. Write a NumPy program to create a new shape to an array without changing its data."
   ]
  },
  {
   "cell_type": "code",
   "execution_count": 42,
   "metadata": {},
   "outputs": [
    {
     "name": "stdout",
     "output_type": "stream",
     "text": [
      "[0 1 2 3 4 5]\n",
      "[[0 1 2]\n",
      " [3 4 5]]\n",
      "[[0 1]\n",
      " [2 3]\n",
      " [4 5]]\n"
     ]
    }
   ],
   "source": [
    "x = np.arange(6)\n",
    "print(x)\n",
    "print(x.reshape((2, 3)))\n",
    "print(x.reshape((3, 2)))"
   ]
  },
  {
   "attachments": {},
   "cell_type": "markdown",
   "metadata": {},
   "source": [
    "39. Write a NumPy program to change the data type of an array."
   ]
  },
  {
   "cell_type": "code",
   "execution_count": 43,
   "metadata": {},
   "outputs": [
    {
     "name": "stdout",
     "output_type": "stream",
     "text": [
      "[[ 2  4  6]\n",
      " [ 6  8 10]]\n",
      "Data type of the array x is: int32\n",
      "New Type:  float64\n",
      "[[ 2.  4.  6.]\n",
      " [ 6.  8. 10.]]\n"
     ]
    }
   ],
   "source": [
    "x = np.array([[2, 4, 6], [6, 8, 10]], np.int32)\n",
    "print(x)\n",
    "print(\"Data type of the array x is:\",x.dtype)\n",
    "# Change the data type of x\n",
    "y = x.astype(float)\n",
    "print(\"New Type: \",y.dtype)\n",
    "print(y)"
   ]
  },
  {
   "attachments": {},
   "cell_type": "markdown",
   "metadata": {},
   "source": [
    "40. Write a NumPy program to create a new array of 3*5, filled with 2"
   ]
  },
  {
   "cell_type": "code",
   "execution_count": 44,
   "metadata": {},
   "outputs": [
    {
     "name": "stdout",
     "output_type": "stream",
     "text": [
      "[[2. 2. 2. 2. 2.]\n",
      " [2. 2. 2. 2. 2.]\n",
      " [2. 2. 2. 2. 2.]]\n",
      "----------\n",
      "[[2 2 2 2 2]\n",
      " [2 2 2 2 2]\n",
      " [2 2 2 2 2]]\n"
     ]
    }
   ],
   "source": [
    "print(np.ones((3, 5)) * 2)\n",
    "print('-' * 10)\n",
    "print(np.full((3, 5), 2))"
   ]
  },
  {
   "attachments": {},
   "cell_type": "markdown",
   "metadata": {},
   "source": [
    "41. Write a NumPy program to create an array of 10's with the same shape and type of a given array."
   ]
  },
  {
   "cell_type": "code",
   "execution_count": 45,
   "metadata": {},
   "outputs": [
    {
     "data": {
      "text/plain": [
       "array([10, 10, 10, 10], dtype=int64)"
      ]
     },
     "execution_count": 45,
     "metadata": {},
     "output_type": "execute_result"
    }
   ],
   "source": [
    "x = np.arange(4, dtype=np.int64)\n",
    "y = np.full_like(x, 10)\n",
    "y"
   ]
  },
  {
   "attachments": {},
   "cell_type": "markdown",
   "metadata": {},
   "source": [
    "42. Write a NumPy program to create a 2-D array with ones on a diagonal and zeros elsewhere."
   ]
  },
  {
   "cell_type": "code",
   "execution_count": 46,
   "metadata": {},
   "outputs": [
    {
     "data": {
      "text/plain": [
       "array([[1., 0., 0.],\n",
       "       [0., 1., 0.],\n",
       "       [0., 0., 1.]])"
      ]
     },
     "execution_count": 46,
     "metadata": {},
     "output_type": "execute_result"
    }
   ],
   "source": [
    "np.eye(9)\n",
    "np.identity(3)"
   ]
  },
  {
   "attachments": {},
   "cell_type": "markdown",
   "metadata": {},
   "source": [
    "43. Write a NumPy program to create a 2-D array whose diagonal equals [4, 5, 6, 8] and 0's elsewhere"
   ]
  },
  {
   "cell_type": "code",
   "execution_count": 47,
   "metadata": {},
   "outputs": [
    {
     "name": "stdout",
     "output_type": "stream",
     "text": [
      "[[4. 0. 0. 0.]\n",
      " [0. 5. 0. 0.]\n",
      " [0. 0. 6. 0.]\n",
      " [0. 0. 0. 8.]]\n",
      "[[4 0 0 0]\n",
      " [0 5 0 0]\n",
      " [0 0 6 0]\n",
      " [0 0 0 8]]\n"
     ]
    }
   ],
   "source": [
    "print(np.identity(4) * np.array([4, 5, 6, 8]))\n",
    "print(np.diagflat([4, 5 ,6 ,8]))"
   ]
  },
  {
   "attachments": {},
   "cell_type": "markdown",
   "metadata": {},
   "source": [
    "44. Write a NumPy program to create a 1-D array going from 0 to 50 and an array from 10 to 50"
   ]
  },
  {
   "cell_type": "code",
   "execution_count": 48,
   "metadata": {},
   "outputs": [
    {
     "name": "stdout",
     "output_type": "stream",
     "text": [
      "[ 0  1  2  3  4  5  6  7  8  9 10 11 12 13 14 15 16 17 18 19 20 21 22 23\n",
      " 24 25 26 27 28 29 30 31 32 33 34 35 36 37 38 39 40 41 42 43 44 45 46 47\n",
      " 48 49]\n",
      "[10 11 12 13 14 15 16 17 18 19 20 21 22 23 24 25 26 27 28 29 30 31 32 33\n",
      " 34 35 36 37 38 39 40 41 42 43 44 45 46 47 48 49]\n"
     ]
    }
   ],
   "source": [
    "print(np.arange(50))\n",
    "print(np.arange(10, 50))"
   ]
  },
  {
   "attachments": {},
   "cell_type": "markdown",
   "metadata": {},
   "source": [
    "45. Write a NumPy program to Create a 1-D array of 30 evenly spaced elements between 2.5. and 6.5, inclusive"
   ]
  },
  {
   "cell_type": "code",
   "execution_count": 49,
   "metadata": {},
   "outputs": [
    {
     "data": {
      "text/plain": [
       "array([2.5       , 2.63793103, 2.77586207, 2.9137931 , 3.05172414,\n",
       "       3.18965517, 3.32758621, 3.46551724, 3.60344828, 3.74137931,\n",
       "       3.87931034, 4.01724138, 4.15517241, 4.29310345, 4.43103448,\n",
       "       4.56896552, 4.70689655, 4.84482759, 4.98275862, 5.12068966,\n",
       "       5.25862069, 5.39655172, 5.53448276, 5.67241379, 5.81034483,\n",
       "       5.94827586, 6.0862069 , 6.22413793, 6.36206897, 6.5       ])"
      ]
     },
     "execution_count": 49,
     "metadata": {},
     "output_type": "execute_result"
    }
   ],
   "source": [
    "np.linspace(start=2.5, stop=6.5, num=30)"
   ]
  },
  {
   "attachments": {},
   "cell_type": "markdown",
   "metadata": {},
   "source": [
    "46. Write a NumPy program to create a 1-D array of 20 element spaced evenly on a log scale between 2. and 5., exclusive."
   ]
  },
  {
   "cell_type": "code",
   "execution_count": 50,
   "metadata": {},
   "outputs": [
    {
     "data": {
      "text/plain": [
       "array([  100.        ,   141.25375446,   199.5262315 ,   281.83829313,\n",
       "         398.10717055,   562.34132519,   794.32823472,  1122.0184543 ,\n",
       "        1584.89319246,  2238.72113857,  3162.27766017,  4466.83592151,\n",
       "        6309.5734448 ,  8912.50938134, 12589.25411794, 17782.79410039,\n",
       "       25118.8643151 , 35481.33892336, 50118.72336273, 70794.57843841])"
      ]
     },
     "execution_count": 50,
     "metadata": {},
     "output_type": "execute_result"
    }
   ],
   "source": [
    "np.logspace(start=2, stop=5, num=20, endpoint=False)"
   ]
  },
  {
   "attachments": {},
   "cell_type": "markdown",
   "metadata": {},
   "source": [
    "47. Write a NumPy program to create an array which looks like below array. Expected Output:\n",
    "[[ 0. 0. 0.]\n",
    "...........\n",
    "[1. 1. 0.]\n",
    "[ 1. 1. 1.]]"
   ]
  },
  {
   "cell_type": "code",
   "execution_count": 51,
   "metadata": {},
   "outputs": [
    {
     "data": {
      "text/plain": [
       "array([[0., 0., 0.],\n",
       "       [1., 0., 0.],\n",
       "       [1., 1., 0.],\n",
       "       [1., 1., 1.]])"
      ]
     },
     "execution_count": 51,
     "metadata": {},
     "output_type": "execute_result"
    }
   ],
   "source": [
    "np.tri(N=4, M=3, k=-1)"
   ]
  },
  {
   "attachments": {},
   "cell_type": "markdown",
   "metadata": {},
   "source": [
    "48. Write a NumPy program to create an array which looks like below array. Go to the editor\n",
    "Expected Output:\n",
    "[[ 2 3 4]\n",
    "[ 5 6 7]\n",
    "[ 0 9 10]\n",
    "[ 0 0 13]]"
   ]
  },
  {
   "cell_type": "code",
   "execution_count": 52,
   "metadata": {},
   "outputs": [
    {
     "data": {
      "text/plain": [
       "array([[ 2,  3,  4],\n",
       "       [ 5,  6,  7],\n",
       "       [ 0,  9, 10],\n",
       "       [ 0,  0, 13]])"
      ]
     },
     "execution_count": 52,
     "metadata": {},
     "output_type": "execute_result"
    }
   ],
   "source": [
    "np.triu(np.arange(2, 14).reshape(4, 3), -1)"
   ]
  },
  {
   "attachments": {},
   "cell_type": "markdown",
   "metadata": {},
   "source": [
    "49. Write a NumPy program to collapse a 3-D array into one dimension array."
   ]
  },
  {
   "cell_type": "code",
   "execution_count": 53,
   "metadata": {},
   "outputs": [
    {
     "name": "stdout",
     "output_type": "stream",
     "text": [
      "[[1. 0. 0.]\n",
      " [0. 1. 0.]\n",
      " [0. 0. 1.]]\n",
      "[1. 0. 0. 0. 1. 0. 0. 0. 1.]\n",
      "[1. 0. 0. 0. 1. 0. 0. 0. 1.]\n"
     ]
    }
   ],
   "source": [
    "x = np.eye(3)\n",
    "print(x)\n",
    "y = x.flatten()\n",
    "z = np.ravel(x, order='F')\n",
    "print(y)\n",
    "print(z)"
   ]
  },
  {
   "attachments": {},
   "cell_type": "markdown",
   "metadata": {},
   "source": [
    "50. Write a NumPy program to find the 4th element of a specified array."
   ]
  },
  {
   "cell_type": "code",
   "execution_count": 54,
   "metadata": {},
   "outputs": [
    {
     "name": "stdout",
     "output_type": "stream",
     "text": [
      "[[ 2  4  6]\n",
      " [ 6  8 10]]\n",
      "6\n"
     ]
    }
   ],
   "source": [
    "x = np.array([[2, 4, 6], [6, 8, 10]])\n",
    "print(x)\n",
    "y = x.flatten()\n",
    "print(y[3])"
   ]
  },
  {
   "cell_type": "code",
   "execution_count": 55,
   "metadata": {},
   "outputs": [
    {
     "data": {
      "text/plain": [
       "6"
      ]
     },
     "execution_count": 55,
     "metadata": {},
     "output_type": "execute_result"
    }
   ],
   "source": [
    "x.flat[3]"
   ]
  },
  {
   "attachments": {},
   "cell_type": "markdown",
   "metadata": {},
   "source": [
    "51. Write a NumPy program to interchange two axes of an array"
   ]
  },
  {
   "cell_type": "code",
   "execution_count": 56,
   "metadata": {},
   "outputs": [
    {
     "name": "stdout",
     "output_type": "stream",
     "text": [
      "[[0 1 2]\n",
      " [3 4 5]\n",
      " [6 7 8]]\n",
      "[[0 3 6]\n",
      " [1 4 7]\n",
      " [2 5 8]]\n"
     ]
    }
   ],
   "source": [
    "x = np.arange(9).reshape((3, 3))\n",
    "print(x)\n",
    "print(x.swapaxes(0, 1))"
   ]
  },
  {
   "attachments": {},
   "cell_type": "markdown",
   "metadata": {},
   "source": [
    "52. Write a NumPy program to move axes of an array to new positions. Other axes remain in their original order."
   ]
  },
  {
   "cell_type": "code",
   "execution_count": 57,
   "metadata": {},
   "outputs": [
    {
     "name": "stdout",
     "output_type": "stream",
     "text": [
      "[[[0. 0. 0. 0.]\n",
      "  [0. 0. 0. 0.]\n",
      "  [0. 0. 0. 0.]]\n",
      "\n",
      " [[0. 0. 0. 0.]\n",
      "  [0. 0. 0. 0.]\n",
      "  [0. 0. 0. 0.]]]\n",
      "(3, 4, 2)\n",
      "(4, 2, 3)\n"
     ]
    }
   ],
   "source": [
    "x = np.zeros((2, 3, 4))\n",
    "print(x)\n",
    "print(np.moveaxis(x, 0, -1).shape)\n",
    "print(np.moveaxis(x, -1, 0).shape)"
   ]
  },
  {
   "attachments": {},
   "cell_type": "markdown",
   "metadata": {},
   "source": [
    "53. Write a NumPy program to move the specified axis backwards, until it lies in a given position."
   ]
  },
  {
   "cell_type": "code",
   "execution_count": 58,
   "metadata": {},
   "outputs": [
    {
     "data": {
      "text/plain": [
       "(2, 5, 3, 4)"
      ]
     },
     "execution_count": 58,
     "metadata": {},
     "output_type": "execute_result"
    }
   ],
   "source": [
    "x = np.ones((2, 3, 4, 5))\n",
    "np.rollaxis(x, 3, 1).shape # moves the the axe with index 3 on the index 1 axe"
   ]
  },
  {
   "attachments": {},
   "cell_type": "markdown",
   "metadata": {},
   "source": [
    "54. Write a NumPy program to convert specified inputs to arrays with at least one dimension"
   ]
  },
  {
   "cell_type": "code",
   "execution_count": 59,
   "metadata": {},
   "outputs": [
    {
     "name": "stdout",
     "output_type": "stream",
     "text": [
      "[12.]\n",
      "[[0. 1. 2.]\n",
      " [3. 4. 5.]]\n",
      "[array([1]), array([3, 4])]\n"
     ]
    }
   ],
   "source": [
    "x = 12.0\n",
    "print(np.atleast_1d(x))\n",
    "x = np.arange(6.0).reshape((2, 3))\n",
    "print(np.atleast_1d(x))\n",
    "print(np.atleast_1d(1, [3, 4]))"
   ]
  },
  {
   "attachments": {},
   "cell_type": "markdown",
   "metadata": {},
   "source": [
    "55. Write a NumPy program to view inputs as arrays with at least two dimensions, three dimensions."
   ]
  },
  {
   "cell_type": "code",
   "execution_count": 60,
   "metadata": {},
   "outputs": [
    {
     "name": "stdout",
     "output_type": "stream",
     "text": [
      "[[3.]]\n",
      "[[0. 1. 2.]\n",
      " [3. 4. 5.]]\n",
      "[[[0.]\n",
      "  [1.]\n",
      "  [2.]]\n",
      "\n",
      " [[3.]\n",
      "  [4.]\n",
      "  [5.]]]\n"
     ]
    }
   ],
   "source": [
    "a = 3.0\n",
    "print(np.atleast_2d(a))\n",
    "a = np.arange(6.0).reshape((2, 3))\n",
    "print(np.atleast_2d(a))\n",
    "print(np.atleast_3d(a))"
   ]
  },
  {
   "attachments": {},
   "cell_type": "markdown",
   "metadata": {},
   "source": [
    "56. Write a NumPy program to insert a new axis within a 2-D array."
   ]
  },
  {
   "cell_type": "code",
   "execution_count": 61,
   "metadata": {},
   "outputs": [
    {
     "name": "stdout",
     "output_type": "stream",
     "text": [
      "[[ 0  1  2  3]\n",
      " [ 4  5  6  7]\n",
      " [ 8  9 10 11]]\n",
      "(3, 4)\n",
      "[[[ 0  1  2  3]]\n",
      "\n",
      " [[ 4  5  6  7]]\n",
      "\n",
      " [[ 8  9 10 11]]]\n",
      "(3, 1, 4)\n"
     ]
    }
   ],
   "source": [
    "x = np.arange(12).reshape((3, 4))\n",
    "print(x)\n",
    "print(x.shape)\n",
    "y = np.expand_dims(x, axis=1)\n",
    "print(y)\n",
    "print(y.shape)"
   ]
  },
  {
   "attachments": {},
   "cell_type": "markdown",
   "metadata": {},
   "source": [
    "57. Write a NumPy program to remove single-dimensional entries from a specified shape"
   ]
  },
  {
   "cell_type": "code",
   "execution_count": 62,
   "metadata": {},
   "outputs": [
    {
     "name": "stdout",
     "output_type": "stream",
     "text": [
      "(3, 1, 4, 1, 1)\n",
      "(3, 4)\n"
     ]
    }
   ],
   "source": [
    "x = np.ones((3, 1, 4, 1 ,1))\n",
    "print(x.shape)\n",
    "y = np.squeeze(x)\n",
    "print(y.shape)"
   ]
  },
  {
   "attachments": {},
   "cell_type": "markdown",
   "metadata": {},
   "source": [
    "58. Write a NumPy program to concatenate two 2-dimensional arrays"
   ]
  },
  {
   "cell_type": "code",
   "execution_count": 63,
   "metadata": {},
   "outputs": [
    {
     "name": "stdout",
     "output_type": "stream",
     "text": [
      "[[ 0  1  3  0  2  4]\n",
      " [ 5  7  9  6  8 10]]\n",
      "[[ 0  1  3]\n",
      " [ 5  7  9]\n",
      " [ 0  2  4]\n",
      " [ 6  8 10]]\n",
      "[[ 0  1  3]\n",
      " [ 5  7  9]\n",
      " [ 0  2  4]\n",
      " [ 6  8 10]]\n"
     ]
    }
   ],
   "source": [
    "a = np.array([[0, 1, 3], [5, 7, 9]])\n",
    "b = np.array([[0, 2, 4], [6, 8, 10]])\n",
    "c = np.concatenate((a, b), axis=1)\n",
    "d = np.concatenate((a, b), axis=0)\n",
    "e = np.concatenate((a, b))\n",
    "print(c)\n",
    "print(d)\n",
    "print(e)"
   ]
  },
  {
   "attachments": {},
   "cell_type": "markdown",
   "metadata": {},
   "source": [
    "59. Write a NumPy program to convert 1-D arrays as columns into a 2-D array"
   ]
  },
  {
   "cell_type": "code",
   "execution_count": 64,
   "metadata": {},
   "outputs": [
    {
     "name": "stdout",
     "output_type": "stream",
     "text": [
      "[[10 40]\n",
      " [20 50]\n",
      " [30 60]]\n"
     ]
    }
   ],
   "source": [
    "a = np.array((10,20,30))\n",
    "b = np.array((40,50,60))\n",
    "c = np.column_stack((a, b))\n",
    "print(c)"
   ]
  },
  {
   "attachments": {},
   "cell_type": "markdown",
   "metadata": {},
   "source": [
    "60. Write a NumPy program to convert (in sequence depth wise (along third axis)) two 1-D arrays into a 2-D array."
   ]
  },
  {
   "cell_type": "code",
   "execution_count": 65,
   "metadata": {},
   "outputs": [
    {
     "data": {
      "text/plain": [
       "array([[[10, 40]],\n",
       "\n",
       "       [[20, 50]],\n",
       "\n",
       "       [[30, 60]]])"
      ]
     },
     "execution_count": 65,
     "metadata": {},
     "output_type": "execute_result"
    }
   ],
   "source": [
    "a = np.array(([10], [20], [30]))\n",
    "b = np.array(([40], [50], [60]))\n",
    "c = np.dstack((a, b))\n",
    "c"
   ]
  },
  {
   "attachments": {},
   "cell_type": "markdown",
   "metadata": {},
   "source": [
    "61. Write a NumPy program to split an array of 14 elements into 3 arrays, each of which has 2, 4, and 8 elements in the original order"
   ]
  },
  {
   "cell_type": "code",
   "execution_count": 66,
   "metadata": {},
   "outputs": [
    {
     "data": {
      "text/plain": [
       "[array([1, 2]), array([3, 4, 5, 6]), array([ 7,  8,  9, 10, 11, 12, 13, 14])]"
      ]
     },
     "execution_count": 66,
     "metadata": {},
     "output_type": "execute_result"
    }
   ],
   "source": [
    "a = np.arange(1, 15)\n",
    "np.split(a, [2, 6])"
   ]
  },
  {
   "attachments": {},
   "cell_type": "markdown",
   "metadata": {},
   "source": [
    "62. Write a NumPy program to split of an array of shape 4x4 it into two arrays along the second axis"
   ]
  },
  {
   "cell_type": "code",
   "execution_count": 67,
   "metadata": {},
   "outputs": [
    {
     "data": {
      "text/plain": [
       "[array([[ 0,  1],\n",
       "        [ 4,  5],\n",
       "        [ 8,  9],\n",
       "        [12, 13]]),\n",
       " array([[ 2,  3],\n",
       "        [ 6,  7],\n",
       "        [10, 11],\n",
       "        [14, 15]]),\n",
       " array([], shape=(4, 0), dtype=int32)]"
      ]
     },
     "execution_count": 67,
     "metadata": {},
     "output_type": "execute_result"
    }
   ],
   "source": [
    "a = np.arange(16).reshape((4, 4))\n",
    "np.hsplit(a, [2, 6])"
   ]
  },
  {
   "attachments": {},
   "cell_type": "markdown",
   "metadata": {},
   "source": [
    "63. Write a NumPy program to get the number of nonzero elements in an array"
   ]
  },
  {
   "cell_type": "code",
   "execution_count": 68,
   "metadata": {},
   "outputs": [
    {
     "data": {
      "text/plain": [
       "5"
      ]
     },
     "execution_count": 68,
     "metadata": {},
     "output_type": "execute_result"
    }
   ],
   "source": [
    "a = np.array([[0, 10, 20], [20, 30, 40]])\n",
    "np.count_nonzero(a)"
   ]
  },
  {
   "attachments": {},
   "cell_type": "markdown",
   "metadata": {},
   "source": [
    "64. Write a NumPy program to create a 5x5 matrix with row values ranging from 0 to 4"
   ]
  },
  {
   "cell_type": "code",
   "execution_count": 69,
   "metadata": {},
   "outputs": [
    {
     "data": {
      "text/plain": [
       "array([[0., 1., 2., 3., 4.],\n",
       "       [0., 1., 2., 3., 4.],\n",
       "       [0., 1., 2., 3., 4.],\n",
       "       [0., 1., 2., 3., 4.],\n",
       "       [0., 1., 2., 3., 4.]])"
      ]
     },
     "execution_count": 69,
     "metadata": {},
     "output_type": "execute_result"
    }
   ],
   "source": [
    "a = np.zeros((5, 5))\n",
    "a += np.arange(5)\n",
    "a"
   ]
  },
  {
   "attachments": {},
   "cell_type": "markdown",
   "metadata": {},
   "source": [
    "65. Write a NumPy program to test whether specified values are present in an array"
   ]
  },
  {
   "cell_type": "code",
   "execution_count": 70,
   "metadata": {},
   "outputs": [
    {
     "name": "stdout",
     "output_type": "stream",
     "text": [
      "[[1.12 2.   3.45]\n",
      " [2.33 5.12 6.  ]]\n",
      "True\n",
      "False\n",
      "False\n",
      "True\n"
     ]
    }
   ],
   "source": [
    "a = np.array([[1.12,  2., 3.45], [2.33, 5.12, 6.]])\n",
    "print(a)\n",
    "print(2 in a)\n",
    "print(0 in a)\n",
    "print(2.3 in a)\n",
    "print(6 in a)"
   ]
  },
  {
   "attachments": {},
   "cell_type": "markdown",
   "metadata": {},
   "source": [
    "66. Write a NumPy program to create a vector of size 10 with values ranging from 0 to 1, both excluded"
   ]
  },
  {
   "cell_type": "code",
   "execution_count": 71,
   "metadata": {},
   "outputs": [
    {
     "name": "stdout",
     "output_type": "stream",
     "text": [
      "[0.95291184 0.97492315 0.37077168 0.60886884 0.11052082 0.82276449\n",
      " 0.14056741 0.47205482 0.10697195 0.75233585]\n"
     ]
    },
    {
     "data": {
      "text/plain": [
       "array([0. , 0.1, 0.2, 0.3, 0.4, 0.5, 0.6, 0.7, 0.8, 0.9])"
      ]
     },
     "execution_count": 71,
     "metadata": {},
     "output_type": "execute_result"
    }
   ],
   "source": [
    "a = np.random.random(10)\n",
    "print(a)\n",
    "b = np.linspace(0, 1, num=10, endpoint=False)\n",
    "b"
   ]
  },
  {
   "attachments": {},
   "cell_type": "markdown",
   "metadata": {},
   "source": [
    "67. Write a NumPy program to make an array immutable (read-only)"
   ]
  },
  {
   "cell_type": "code",
   "execution_count": 72,
   "metadata": {},
   "outputs": [
    {
     "ename": "ValueError",
     "evalue": "assignment destination is read-only",
     "output_type": "error",
     "traceback": [
      "\u001b[1;31m---------------------------------------------------------------------------\u001b[0m",
      "\u001b[1;31mValueError\u001b[0m                                Traceback (most recent call last)",
      "Cell \u001b[1;32mIn[72], line 3\u001b[0m\n\u001b[0;32m      1\u001b[0m x \u001b[39m=\u001b[39m np\u001b[39m.\u001b[39mzeros(\u001b[39m10\u001b[39m)\n\u001b[0;32m      2\u001b[0m x\u001b[39m.\u001b[39mflags\u001b[39m.\u001b[39mwriteable \u001b[39m=\u001b[39m \u001b[39mFalse\u001b[39;00m\n\u001b[1;32m----> 3\u001b[0m x[\u001b[39m0\u001b[39;49m] \u001b[39m=\u001b[39m \u001b[39m1\u001b[39m\n\u001b[0;32m      4\u001b[0m x\n",
      "\u001b[1;31mValueError\u001b[0m: assignment destination is read-only"
     ]
    }
   ],
   "source": [
    "x = np.zeros(10)\n",
    "x.flags.writeable = False\n",
    "x[0] = 1\n",
    "x"
   ]
  },
  {
   "attachments": {},
   "cell_type": "markdown",
   "metadata": {},
   "source": [
    "68. Write a NumPy program (using NumPy) to sum of all the multiples of 3 or 5 below 100"
   ]
  },
  {
   "cell_type": "code",
   "execution_count": null,
   "metadata": {},
   "outputs": [
    {
     "name": "stdout",
     "output_type": "stream",
     "text": [
      "[ 3  5  6  9 10 12 15 18 20 21 24 25 27 30 33 35 36 39 40 42 45 48 50 51\n",
      " 54 55 57 60 63 65 66 69 70 72 75 78 80 81 84 85 87 90 93 95 96 99]\n"
     ]
    },
    {
     "data": {
      "text/plain": [
       "2318"
      ]
     },
     "execution_count": 133,
     "metadata": {},
     "output_type": "execute_result"
    }
   ],
   "source": [
    "x = np.arange(1, 100)\n",
    "n = x[(x % 3 == 0) | (x % 5 == 0)]\n",
    "print(n[:100])\n",
    "n.sum()"
   ]
  },
  {
   "attachments": {},
   "cell_type": "markdown",
   "metadata": {},
   "source": [
    "69. Write a NumPy program to create an array with 10^3 elements"
   ]
  },
  {
   "cell_type": "code",
   "execution_count": null,
   "metadata": {},
   "outputs": [
    {
     "data": {
      "text/plain": [
       "array([  0.,   1.,   2.,   3.,   4.,   5.,   6.,   7.,   8.,   9.,  10.,\n",
       "        11.,  12.,  13.,  14.,  15.,  16.,  17.,  18.,  19.,  20.,  21.,\n",
       "        22.,  23.,  24.,  25.,  26.,  27.,  28.,  29.,  30.,  31.,  32.,\n",
       "        33.,  34.,  35.,  36.,  37.,  38.,  39.,  40.,  41.,  42.,  43.,\n",
       "        44.,  45.,  46.,  47.,  48.,  49.,  50.,  51.,  52.,  53.,  54.,\n",
       "        55.,  56.,  57.,  58.,  59.,  60.,  61.,  62.,  63.,  64.,  65.,\n",
       "        66.,  67.,  68.,  69.,  70.,  71.,  72.,  73.,  74.,  75.,  76.,\n",
       "        77.,  78.,  79.,  80.,  81.,  82.,  83.,  84.,  85.,  86.,  87.,\n",
       "        88.,  89.,  90.,  91.,  92.,  93.,  94.,  95.,  96.,  97.,  98.,\n",
       "        99., 100., 101., 102., 103., 104., 105., 106., 107., 108., 109.,\n",
       "       110., 111., 112., 113., 114., 115., 116., 117., 118., 119., 120.,\n",
       "       121., 122., 123., 124., 125., 126., 127., 128., 129., 130., 131.,\n",
       "       132., 133., 134., 135., 136., 137., 138., 139., 140., 141., 142.,\n",
       "       143., 144., 145., 146., 147., 148., 149., 150., 151., 152., 153.,\n",
       "       154., 155., 156., 157., 158., 159., 160., 161., 162., 163., 164.,\n",
       "       165., 166., 167., 168., 169., 170., 171., 172., 173., 174., 175.,\n",
       "       176., 177., 178., 179., 180., 181., 182., 183., 184., 185., 186.,\n",
       "       187., 188., 189., 190., 191., 192., 193., 194., 195., 196., 197.,\n",
       "       198., 199., 200., 201., 202., 203., 204., 205., 206., 207., 208.,\n",
       "       209., 210., 211., 212., 213., 214., 215., 216., 217., 218., 219.,\n",
       "       220., 221., 222., 223., 224., 225., 226., 227., 228., 229., 230.,\n",
       "       231., 232., 233., 234., 235., 236., 237., 238., 239., 240., 241.,\n",
       "       242., 243., 244., 245., 246., 247., 248., 249., 250., 251., 252.,\n",
       "       253., 254., 255., 256., 257., 258., 259., 260., 261., 262., 263.,\n",
       "       264., 265., 266., 267., 268., 269., 270., 271., 272., 273., 274.,\n",
       "       275., 276., 277., 278., 279., 280., 281., 282., 283., 284., 285.,\n",
       "       286., 287., 288., 289., 290., 291., 292., 293., 294., 295., 296.,\n",
       "       297., 298., 299., 300., 301., 302., 303., 304., 305., 306., 307.,\n",
       "       308., 309., 310., 311., 312., 313., 314., 315., 316., 317., 318.,\n",
       "       319., 320., 321., 322., 323., 324., 325., 326., 327., 328., 329.,\n",
       "       330., 331., 332., 333., 334., 335., 336., 337., 338., 339., 340.,\n",
       "       341., 342., 343., 344., 345., 346., 347., 348., 349., 350., 351.,\n",
       "       352., 353., 354., 355., 356., 357., 358., 359., 360., 361., 362.,\n",
       "       363., 364., 365., 366., 367., 368., 369., 370., 371., 372., 373.,\n",
       "       374., 375., 376., 377., 378., 379., 380., 381., 382., 383., 384.,\n",
       "       385., 386., 387., 388., 389., 390., 391., 392., 393., 394., 395.,\n",
       "       396., 397., 398., 399., 400., 401., 402., 403., 404., 405., 406.,\n",
       "       407., 408., 409., 410., 411., 412., 413., 414., 415., 416., 417.,\n",
       "       418., 419., 420., 421., 422., 423., 424., 425., 426., 427., 428.,\n",
       "       429., 430., 431., 432., 433., 434., 435., 436., 437., 438., 439.,\n",
       "       440., 441., 442., 443., 444., 445., 446., 447., 448., 449., 450.,\n",
       "       451., 452., 453., 454., 455., 456., 457., 458., 459., 460., 461.,\n",
       "       462., 463., 464., 465., 466., 467., 468., 469., 470., 471., 472.,\n",
       "       473., 474., 475., 476., 477., 478., 479., 480., 481., 482., 483.,\n",
       "       484., 485., 486., 487., 488., 489., 490., 491., 492., 493., 494.,\n",
       "       495., 496., 497., 498., 499., 500., 501., 502., 503., 504., 505.,\n",
       "       506., 507., 508., 509., 510., 511., 512., 513., 514., 515., 516.,\n",
       "       517., 518., 519., 520., 521., 522., 523., 524., 525., 526., 527.,\n",
       "       528., 529., 530., 531., 532., 533., 534., 535., 536., 537., 538.,\n",
       "       539., 540., 541., 542., 543., 544., 545., 546., 547., 548., 549.,\n",
       "       550., 551., 552., 553., 554., 555., 556., 557., 558., 559., 560.,\n",
       "       561., 562., 563., 564., 565., 566., 567., 568., 569., 570., 571.,\n",
       "       572., 573., 574., 575., 576., 577., 578., 579., 580., 581., 582.,\n",
       "       583., 584., 585., 586., 587., 588., 589., 590., 591., 592., 593.,\n",
       "       594., 595., 596., 597., 598., 599., 600., 601., 602., 603., 604.,\n",
       "       605., 606., 607., 608., 609., 610., 611., 612., 613., 614., 615.,\n",
       "       616., 617., 618., 619., 620., 621., 622., 623., 624., 625., 626.,\n",
       "       627., 628., 629., 630., 631., 632., 633., 634., 635., 636., 637.,\n",
       "       638., 639., 640., 641., 642., 643., 644., 645., 646., 647., 648.,\n",
       "       649., 650., 651., 652., 653., 654., 655., 656., 657., 658., 659.,\n",
       "       660., 661., 662., 663., 664., 665., 666., 667., 668., 669., 670.,\n",
       "       671., 672., 673., 674., 675., 676., 677., 678., 679., 680., 681.,\n",
       "       682., 683., 684., 685., 686., 687., 688., 689., 690., 691., 692.,\n",
       "       693., 694., 695., 696., 697., 698., 699., 700., 701., 702., 703.,\n",
       "       704., 705., 706., 707., 708., 709., 710., 711., 712., 713., 714.,\n",
       "       715., 716., 717., 718., 719., 720., 721., 722., 723., 724., 725.,\n",
       "       726., 727., 728., 729., 730., 731., 732., 733., 734., 735., 736.,\n",
       "       737., 738., 739., 740., 741., 742., 743., 744., 745., 746., 747.,\n",
       "       748., 749., 750., 751., 752., 753., 754., 755., 756., 757., 758.,\n",
       "       759., 760., 761., 762., 763., 764., 765., 766., 767., 768., 769.,\n",
       "       770., 771., 772., 773., 774., 775., 776., 777., 778., 779., 780.,\n",
       "       781., 782., 783., 784., 785., 786., 787., 788., 789., 790., 791.,\n",
       "       792., 793., 794., 795., 796., 797., 798., 799., 800., 801., 802.,\n",
       "       803., 804., 805., 806., 807., 808., 809., 810., 811., 812., 813.,\n",
       "       814., 815., 816., 817., 818., 819., 820., 821., 822., 823., 824.,\n",
       "       825., 826., 827., 828., 829., 830., 831., 832., 833., 834., 835.,\n",
       "       836., 837., 838., 839., 840., 841., 842., 843., 844., 845., 846.,\n",
       "       847., 848., 849., 850., 851., 852., 853., 854., 855., 856., 857.,\n",
       "       858., 859., 860., 861., 862., 863., 864., 865., 866., 867., 868.,\n",
       "       869., 870., 871., 872., 873., 874., 875., 876., 877., 878., 879.,\n",
       "       880., 881., 882., 883., 884., 885., 886., 887., 888., 889., 890.,\n",
       "       891., 892., 893., 894., 895., 896., 897., 898., 899., 900., 901.,\n",
       "       902., 903., 904., 905., 906., 907., 908., 909., 910., 911., 912.,\n",
       "       913., 914., 915., 916., 917., 918., 919., 920., 921., 922., 923.,\n",
       "       924., 925., 926., 927., 928., 929., 930., 931., 932., 933., 934.,\n",
       "       935., 936., 937., 938., 939., 940., 941., 942., 943., 944., 945.,\n",
       "       946., 947., 948., 949., 950., 951., 952., 953., 954., 955., 956.,\n",
       "       957., 958., 959., 960., 961., 962., 963., 964., 965., 966., 967.,\n",
       "       968., 969., 970., 971., 972., 973., 974., 975., 976., 977., 978.,\n",
       "       979., 980., 981., 982., 983., 984., 985., 986., 987., 988., 989.,\n",
       "       990., 991., 992., 993., 994., 995., 996., 997., 998., 999.])"
      ]
     },
     "execution_count": 135,
     "metadata": {},
     "output_type": "execute_result"
    }
   ],
   "source": [
    "np.arange(1e3)"
   ]
  },
  {
   "attachments": {},
   "cell_type": "markdown",
   "metadata": {},
   "source": [
    "70. Write a NumPy program to create display every element of a NumPy array"
   ]
  },
  {
   "cell_type": "code",
   "execution_count": null,
   "metadata": {},
   "outputs": [
    {
     "name": "stdout",
     "output_type": "stream",
     "text": [
      "0 1 2 3 4 5 6 7 8 9 10 11 "
     ]
    }
   ],
   "source": [
    "x = np.arange(12)\n",
    "for i in np.nditer(x):\n",
    "    print(i, end=' ')"
   ]
  },
  {
   "attachments": {},
   "cell_type": "markdown",
   "metadata": {},
   "source": [
    "71. Write a NumPy program to create and display every element of a NumPy array in Fortran order"
   ]
  },
  {
   "cell_type": "code",
   "execution_count": null,
   "metadata": {},
   "outputs": [
    {
     "name": "stdout",
     "output_type": "stream",
     "text": [
      "Aray:  [[ 0  1  2  3]\n",
      " [ 4  5  6  7]\n",
      " [ 8  9 10 11]]\n",
      "Elements of the array in Fortan array:\n",
      "0 4 8 1 5 9 2 6 10 3 7 11 "
     ]
    }
   ],
   "source": [
    "x = np.arange(12).reshape(3, 4)\n",
    "print(\"Aray: \", x)\n",
    "print(\"Elements of the array in Fortan array:\")\n",
    "for x in np.nditer(x, order=\"F\"):\n",
    "    print(x, end=' ')"
   ]
  },
  {
   "attachments": {},
   "cell_type": "markdown",
   "metadata": {},
   "source": [
    "72. Write a NumPy program to create a 5x5x5 cube of 1's"
   ]
  },
  {
   "cell_type": "code",
   "execution_count": null,
   "metadata": {},
   "outputs": [
    {
     "data": {
      "text/plain": [
       "array([[[1, 1, 1, 1, 1],\n",
       "        [1, 1, 1, 1, 1],\n",
       "        [1, 1, 1, 1, 1],\n",
       "        [1, 1, 1, 1, 1],\n",
       "        [1, 1, 1, 1, 1]],\n",
       "\n",
       "       [[1, 1, 1, 1, 1],\n",
       "        [1, 1, 1, 1, 1],\n",
       "        [1, 1, 1, 1, 1],\n",
       "        [1, 1, 1, 1, 1],\n",
       "        [1, 1, 1, 1, 1]],\n",
       "\n",
       "       [[1, 1, 1, 1, 1],\n",
       "        [1, 1, 1, 1, 1],\n",
       "        [1, 1, 1, 1, 1],\n",
       "        [1, 1, 1, 1, 1],\n",
       "        [1, 1, 1, 1, 1]],\n",
       "\n",
       "       [[1, 1, 1, 1, 1],\n",
       "        [1, 1, 1, 1, 1],\n",
       "        [1, 1, 1, 1, 1],\n",
       "        [1, 1, 1, 1, 1],\n",
       "        [1, 1, 1, 1, 1]],\n",
       "\n",
       "       [[1, 1, 1, 1, 1],\n",
       "        [1, 1, 1, 1, 1],\n",
       "        [1, 1, 1, 1, 1],\n",
       "        [1, 1, 1, 1, 1],\n",
       "        [1, 1, 1, 1, 1]]])"
      ]
     },
     "execution_count": 75,
     "metadata": {},
     "output_type": "execute_result"
    }
   ],
   "source": [
    "np.ones((5, 5, 5)).astype(int)"
   ]
  },
  {
   "attachments": {},
   "cell_type": "markdown",
   "metadata": {},
   "source": [
    "73. Write a NumPy program to create an array of (3, 4) shape, multiply every element value by 3 and display the new array."
   ]
  },
  {
   "cell_type": "code",
   "execution_count": null,
   "metadata": {},
   "outputs": [
    {
     "name": "stdout",
     "output_type": "stream",
     "text": [
      "[[ 0  1  2  3]\n",
      " [ 4  5  6  7]\n",
      " [ 8  9 10 11]]\n",
      "--------------------\n",
      "[[ 0  3  6  9]\n",
      " [12 15 18 21]\n",
      " [24 27 30 33]]\n"
     ]
    }
   ],
   "source": [
    "a = np.arange(12).reshape((3, 4))\n",
    "print(a)\n",
    "print('-' * 20)\n",
    "b = np.multiply(a, 3) # b = a * 3\n",
    "print(b)"
   ]
  },
  {
   "attachments": {},
   "cell_type": "markdown",
   "metadata": {},
   "source": [
    "74. Write a NumPy program to combine a one and a two dimensional array together and display their elements"
   ]
  },
  {
   "cell_type": "code",
   "execution_count": null,
   "metadata": {},
   "outputs": [
    {
     "name": "stdout",
     "output_type": "stream",
     "text": [
      "[0 1 2 3]\n",
      "--------------------\n",
      "[[0 1 2 3]\n",
      " [4 5 6 7]]\n",
      "--------------------\n",
      "0:0\n",
      "1:1\n",
      "2:2\n",
      "3:3\n",
      "0:4\n",
      "1:5\n",
      "2:6\n",
      "3:7\n"
     ]
    }
   ],
   "source": [
    "x = np.array([0, 1, 2, 3])\n",
    "print(x)\n",
    "print('-' * 20)\n",
    "y = np.array([[0, 1, 2, 3], [4, 5, 6, 7]])\n",
    "print(y)\n",
    "print('-' * 20)\n",
    "\n",
    "for i, j in np.nditer([x, y]):\n",
    "    print(\"%d:%d\" % (i, j))\n"
   ]
  },
  {
   "attachments": {},
   "cell_type": "markdown",
   "metadata": {},
   "source": [
    "75. Write a NumPy program to create an array of zeros and three column types (integer, float, character)"
   ]
  },
  {
   "cell_type": "code",
   "execution_count": null,
   "metadata": {},
   "outputs": [
    {
     "data": {
      "text/plain": [
       "array([(0, 0., b''), (0, 0., b''), (0, 0., b'')],\n",
       "      dtype=[('f0', '<i4'), ('f1', '<f4'), ('f2', 'S40')])"
      ]
     },
     "execution_count": 83,
     "metadata": {},
     "output_type": "execute_result"
    }
   ],
   "source": [
    "x = np.zeros((3), dtype=('i4, f4, a40'))\n",
    "x"
   ]
  },
  {
   "attachments": {},
   "cell_type": "markdown",
   "metadata": {},
   "source": [
    "76. Write a NumPy program to create a function cube which cubes all the elements of an array."
   ]
  },
  {
   "cell_type": "code",
   "execution_count": null,
   "metadata": {},
   "outputs": [
    {
     "name": "stdout",
     "output_type": "stream",
     "text": [
      "[[0 1]\n",
      " [2 3]\n",
      " [4 5]\n",
      " [6 7]\n",
      " [8 9]]\n",
      "[[  0   1]\n",
      " [  8  27]\n",
      " [ 64 125]\n",
      " [216 343]\n",
      " [512 729]]\n"
     ]
    }
   ],
   "source": [
    "x = np.arange(10).reshape((5, 2))\n",
    "print(x)\n",
    "\n",
    "def cube_array(e):\n",
    "    it = np.nditer([e, None])\n",
    "    for a, b in it:\n",
    "        b[...] = a*a*a\n",
    "    return it.operands[1]\n",
    "\n",
    "print(cube_array(x))"
   ]
  },
  {
   "attachments": {},
   "cell_type": "markdown",
   "metadata": {},
   "source": [
    "77. Write a NumPy program to create an array of (3, 4) shape and convert the array elements in smaller chunks."
   ]
  },
  {
   "cell_type": "code",
   "execution_count": null,
   "metadata": {},
   "outputs": [
    {
     "name": "stdout",
     "output_type": "stream",
     "text": [
      "Original array elements:\n",
      "[[ 0  1  2  3]\n",
      " [ 4  5  6  7]\n",
      " [ 8  9 10 11]]\n",
      "Above array in small chuncks:\n",
      "[0 4 8]\n",
      "[1 5 9]\n",
      "[ 2  6 10]\n",
      "[ 3  7 11]\n"
     ]
    }
   ],
   "source": [
    "x= np.arange(12).reshape(3, 4)\n",
    "print(\"Original array elements:\")\n",
    "print(x)\n",
    "print(\"Above array in small chuncks:\")\n",
    "for a in np.nditer(x, flags=['external_loop'], order='F'):\n",
    "    print(a)"
   ]
  },
  {
   "attachments": {},
   "cell_type": "markdown",
   "metadata": {},
   "source": [
    "78. Write a NumPy program to create a record array from a (flat) list of arrays"
   ]
  },
  {
   "cell_type": "code",
   "execution_count": null,
   "metadata": {},
   "outputs": [
    {
     "data": {
      "text/plain": [
       "rec.array([(1, 'Red', 12.2), (2, 'Green', 15. ), (3, 'White', 20. ),\n",
       "           (4, 'Orange', 40. )],\n",
       "          dtype=[('a', '<i4'), ('b', '<U6'), ('c', '<f8')])"
      ]
     },
     "execution_count": 94,
     "metadata": {},
     "output_type": "execute_result"
    }
   ],
   "source": [
    "a = np.array([1, 2, 3, 4])\n",
    "b = np.array(['Red', 'Green', 'White', 'Orange'])\n",
    "c = np.array([12.20, 15, 20, 40])\n",
    "\n",
    "result = np.core.records.fromarrays([a, b, c], names='a, b, c')\n",
    "result"
   ]
  },
  {
   "attachments": {},
   "cell_type": "markdown",
   "metadata": {},
   "source": [
    "79. Write a NumPy program to generate a generic 2D Gaussian-like array."
   ]
  },
  {
   "cell_type": "code",
   "execution_count": null,
   "metadata": {},
   "outputs": [
    {
     "name": "stdout",
     "output_type": "stream",
     "text": [
      "2D Gaussian-like array:\n",
      "[[0.36787944 0.44822088 0.51979489 0.57375342 0.60279818 0.60279818\n",
      "  0.57375342 0.51979489 0.44822088 0.36787944]\n",
      " [0.44822088 0.54610814 0.63331324 0.69905581 0.73444367 0.73444367\n",
      "  0.69905581 0.63331324 0.54610814 0.44822088]\n",
      " [0.51979489 0.63331324 0.73444367 0.81068432 0.85172308 0.85172308\n",
      "  0.81068432 0.73444367 0.63331324 0.51979489]\n",
      " [0.57375342 0.69905581 0.81068432 0.89483932 0.9401382  0.9401382\n",
      "  0.89483932 0.81068432 0.69905581 0.57375342]\n",
      " [0.60279818 0.73444367 0.85172308 0.9401382  0.98773022 0.98773022\n",
      "  0.9401382  0.85172308 0.73444367 0.60279818]\n",
      " [0.60279818 0.73444367 0.85172308 0.9401382  0.98773022 0.98773022\n",
      "  0.9401382  0.85172308 0.73444367 0.60279818]\n",
      " [0.57375342 0.69905581 0.81068432 0.89483932 0.9401382  0.9401382\n",
      "  0.89483932 0.81068432 0.69905581 0.57375342]\n",
      " [0.51979489 0.63331324 0.73444367 0.81068432 0.85172308 0.85172308\n",
      "  0.81068432 0.73444367 0.63331324 0.51979489]\n",
      " [0.44822088 0.54610814 0.63331324 0.69905581 0.73444367 0.73444367\n",
      "  0.69905581 0.63331324 0.54610814 0.44822088]\n",
      " [0.36787944 0.44822088 0.51979489 0.57375342 0.60279818 0.60279818\n",
      "  0.57375342 0.51979489 0.44822088 0.36787944]]\n"
     ]
    }
   ],
   "source": [
    "x, y = np.meshgrid(np.linspace(-1,1,10), np.linspace(-1,1,10))\n",
    "d = np.sqrt(x * x + y * y)\n",
    "sigma, mu = 1.0, 0.0\n",
    "g = np.exp(-( (d-mu)**2 / ( 2.0 * sigma**2 ) ) )\n",
    "print(\"2D Gaussian-like array:\")\n",
    "print(g)"
   ]
  },
  {
   "attachments": {},
   "cell_type": "markdown",
   "metadata": {},
   "source": [
    "80. Write a NumPy program to convert a NumPy array into Python list structure."
   ]
  },
  {
   "cell_type": "code",
   "execution_count": null,
   "metadata": {},
   "outputs": [
    {
     "name": "stdout",
     "output_type": "stream",
     "text": [
      "[[0, 1, 2, 3], [4, 5, 6, 7], [8, 9, 10, 11]]\n"
     ]
    }
   ],
   "source": [
    "a = np.arange(12).reshape((3, 4))\n",
    "print(a.tolist())"
   ]
  },
  {
   "attachments": {},
   "cell_type": "markdown",
   "metadata": {},
   "source": [
    "81. Write a NumPy program to access an array by column"
   ]
  },
  {
   "cell_type": "code",
   "execution_count": null,
   "metadata": {},
   "outputs": [
    {
     "name": "stdout",
     "output_type": "stream",
     "text": [
      "[[0 1]\n",
      " [2 3]\n",
      " [4 5]]\n",
      "[0 2 4]\n",
      "[1 3 5]\n"
     ]
    }
   ],
   "source": [
    "a = np.arange(6).reshape((3, 2))\n",
    "print(a)\n",
    "print(a[:, 0])\n",
    "print(a[:, 1])"
   ]
  },
  {
   "attachments": {},
   "cell_type": "markdown",
   "metadata": {},
   "source": [
    "82. Write a NumPy program to convert a NumPy array of float values to a NumPy array of integer values."
   ]
  },
  {
   "cell_type": "code",
   "execution_count": null,
   "metadata": {},
   "outputs": [
    {
     "name": "stdout",
     "output_type": "stream",
     "text": [
      "[1.9  2.   3.69 4.5 ]\n",
      "[1 2 3 4]\n",
      "[1 2 3 4]\n"
     ]
    }
   ],
   "source": [
    "a = np.array([1.9, 2., 3.69, 4.5])\n",
    "print(a)\n",
    "b = np.array(a, dtype=int)\n",
    "print(b)\n",
    "print(a.astype(int))"
   ]
  },
  {
   "attachments": {},
   "cell_type": "markdown",
   "metadata": {},
   "source": [
    "83. Write a NumPy program to display NumPy array elements of floating values with given precision."
   ]
  },
  {
   "cell_type": "code",
   "execution_count": null,
   "metadata": {},
   "outputs": [
    {
     "name": "stdout",
     "output_type": "stream",
     "text": [
      "[0.262 0.528 0.572 0.593 0.783 0.697 0.354 0.995 0.069 0.547]\n"
     ]
    }
   ],
   "source": [
    "x=np.array([ 0.26153123, 0.52760141, 0.5718299, 0.5927067, 0.7831874, 0.69746349,             \n",
    "0.35399976, 0.99469633, 0.0694458, 0.54711478])\n",
    "np.set_printoptions(precision=3)\n",
    "print(x)"
   ]
  },
  {
   "attachments": {},
   "cell_type": "markdown",
   "metadata": {},
   "source": [
    "84. Write a NumPy program to suppresses the use of scientific notation for small numbers in NumPy array"
   ]
  },
  {
   "cell_type": "code",
   "execution_count": null,
   "metadata": {},
   "outputs": [
    {
     "name": "stdout",
     "output_type": "stream",
     "text": [
      "[   0.       1.6   1200.       0.235]\n"
     ]
    },
    {
     "data": {
      "text/plain": [
       "array([   0.   ,    1.6  , 1200.   ,    0.235])"
      ]
     },
     "execution_count": 345,
     "metadata": {},
     "output_type": "execute_result"
    }
   ],
   "source": [
    "x = np.array([1.6e-10, 1.6, 1200, .235])\n",
    "print(x)\n",
    "np.set_printoptions(suppress=3)\n",
    "x"
   ]
  },
  {
   "attachments": {},
   "cell_type": "markdown",
   "metadata": {},
   "source": [
    "85. Write a NumPy program to create a NumPy array of 10 integers from a generator"
   ]
  },
  {
   "cell_type": "code",
   "execution_count": null,
   "metadata": {},
   "outputs": [
    {
     "data": {
      "text/plain": [
       "array([0, 1, 2, 3, 4, 5, 6, 7, 8, 9])"
      ]
     },
     "execution_count": 105,
     "metadata": {},
     "output_type": "execute_result"
    }
   ],
   "source": [
    "gen = (x for x in range(10))\n",
    "np.fromiter(gen, np.int32)"
   ]
  },
  {
   "attachments": {},
   "cell_type": "markdown",
   "metadata": {},
   "source": [
    "86. Write a NumPy program to add an extra column to a NumPy array."
   ]
  },
  {
   "cell_type": "code",
   "execution_count": null,
   "metadata": {},
   "outputs": [
    {
     "name": "stdout",
     "output_type": "stream",
     "text": [
      "[[ 10  20  30 100]\n",
      " [ 40  50  60 200]]\n"
     ]
    }
   ],
   "source": [
    "x = np.array([[10,20,30], [40,50,60]])\n",
    "y = np.array([[100], [200]])\n",
    "\n",
    "print(np.append(x, y, axis=1))"
   ]
  },
  {
   "attachments": {},
   "cell_type": "markdown",
   "metadata": {},
   "source": [
    "87. Write a NumPy program to find unique rows in a NumPy array."
   ]
  },
  {
   "cell_type": "code",
   "execution_count": null,
   "metadata": {},
   "outputs": [
    {
     "name": "stdout",
     "output_type": "stream",
     "text": [
      "[[20 20 20  0]\n",
      " [ 0 20 20 20]\n",
      " [ 0 20 20 20]\n",
      " [20 20 20  0]\n",
      " [10 20 20 20]]\n"
     ]
    },
    {
     "data": {
      "text/plain": [
       "array([[ 0, 20, 20, 20],\n",
       "       [10, 20, 20, 20],\n",
       "       [20, 20, 20,  0]])"
      ]
     },
     "execution_count": 109,
     "metadata": {},
     "output_type": "execute_result"
    }
   ],
   "source": [
    "x = np.array([[20, 20, 20, 0],\n",
    "              [0, 20, 20, 20],\n",
    "              [0, 20, 20, 20],\n",
    "              [20, 20, 20, 0],\n",
    "              [10, 20, 20,20]])\n",
    "print(x)\n",
    "\n",
    "np.unique(x, axis=0)"
   ]
  },
  {
   "cell_type": "code",
   "execution_count": null,
   "metadata": {},
   "outputs": [
    {
     "name": "stdout",
     "output_type": "stream",
     "text": [
      "Unique rows of the above array:\n",
      "[[ 0 20 20 20]\n",
      " [10 20 20 20]\n",
      " [20 20 20  0]]\n"
     ]
    }
   ],
   "source": [
    "y = np.ascontiguousarray(x).view(np.dtype((np.void, x.dtype.itemsize * x.shape[1])))\n",
    "_, idx = np.unique(y, return_index=True)\n",
    "\n",
    "unique_result = x[idx]\n",
    "print(\"Unique rows of the above array:\")\n",
    "print(unique_result)"
   ]
  },
  {
   "attachments": {},
   "cell_type": "markdown",
   "metadata": {},
   "source": [
    "88. Write a NumPy program to replace all elements of NumPy array that are greater than specified array."
   ]
  },
  {
   "cell_type": "code",
   "execution_count": null,
   "metadata": {},
   "outputs": [
    {
     "name": "stdout",
     "output_type": "stream",
     "text": [
      "Original array:\n",
      "[[0.42436315 0.48558583 0.32924763]\n",
      " [0.7439979  0.58220701 0.38213418]\n",
      " [0.5097581  0.34528799 0.1563123 ]]\n",
      "Replace all elements of the said array with .5 which are greater than .5\n",
      "[[0.42436315 0.48558583 0.32924763]\n",
      " [0.5        0.5        0.38213418]\n",
      " [0.5        0.34528799 0.1563123 ]]\n"
     ]
    }
   ],
   "source": [
    "x = np.array([[ 0.42436315, 0.48558583, 0.32924763], [ 0.7439979,0.58220701,0.38213418], [ 0.5097581,0.34528799,0.1563123 ]])\n",
    "print(\"Original array:\")\n",
    "print(x)\n",
    "print(\"Replace all elements of the said array with .5 which are greater than .5\")\n",
    "x[x > .5] = .5\n",
    "print(x)"
   ]
  },
  {
   "attachments": {},
   "cell_type": "markdown",
   "metadata": {},
   "source": [
    "89. Write a NumPy program to remove specific elements in a NumPy array."
   ]
  },
  {
   "cell_type": "code",
   "execution_count": null,
   "metadata": {},
   "outputs": [
    {
     "name": "stdout",
     "output_type": "stream",
     "text": [
      "[ 10  20  30  40  50  60  70  80  90 100]\n",
      "Prints the array without the 2nd, 4th and 5th elements\n"
     ]
    },
    {
     "data": {
      "text/plain": [
       "array([ 10,  30,  60,  70,  80,  90, 100])"
      ]
     },
     "execution_count": 354,
     "metadata": {},
     "output_type": "execute_result"
    }
   ],
   "source": [
    "a = np.array([10, 20, 30, 40, 50, 60, 70, 80, 90, 100])\n",
    "print(a)\n",
    "print('Prints the array without the 2nd, 4th and 5th elements')\n",
    "np.delete(a, [1, 3, 4])"
   ]
  },
  {
   "attachments": {},
   "cell_type": "markdown",
   "metadata": {},
   "source": [
    "90. Write a NumPy program to replace the negative values in a NumPy array with 0."
   ]
  },
  {
   "cell_type": "code",
   "execution_count": null,
   "metadata": {},
   "outputs": [
    {
     "name": "stdout",
     "output_type": "stream",
     "text": [
      "[-1 -4  0  2  3  4  5 -6]\n",
      "[0 0 0 2 3 4 5 0]\n"
     ]
    }
   ],
   "source": [
    "x = np.array([-1, -4, 0, 2, 3, 4, 5, -6])\n",
    "print(x)\n",
    "x[x < 0] = 0\n",
    "print(x)"
   ]
  },
  {
   "attachments": {},
   "cell_type": "markdown",
   "metadata": {},
   "source": [
    "91. Write a NumPy program to remove all rows in a NumPy array that contain non-numeric values."
   ]
  },
  {
   "cell_type": "code",
   "execution_count": null,
   "metadata": {},
   "outputs": [
    {
     "name": "stdout",
     "output_type": "stream",
     "text": [
      "[[ 1.  2.  3.]\n",
      " [ 4.  5. nan]\n",
      " [ 7.  8.  9.]\n",
      " [ 1.  0.  1.]]\n",
      "--------------------\n",
      "[[1. 2. 3.]\n",
      " [7. 8. 9.]\n",
      " [1. 0. 1.]]\n"
     ]
    }
   ],
   "source": [
    "x = np.array([[1,2,3], [4,5,np.nan], [7,8,9], [True, False, True]])\n",
    "print(x)\n",
    "print('-' * 20)\n",
    "print(x[~np.isnan(x).any(axis=1)])"
   ]
  },
  {
   "attachments": {},
   "cell_type": "markdown",
   "metadata": {},
   "source": [
    "92. Write a NumPy program to select indices satisfying multiple conditions in a NumPy array"
   ]
  },
  {
   "cell_type": "code",
   "execution_count": null,
   "metadata": {},
   "outputs": [
    {
     "name": "stdout",
     "output_type": "stream",
     "text": [
      "Elements from the second array  corresponding to elements in the first array  that are greater than 100 and less than 110:\n",
      "['e' 'i']\n"
     ]
    }
   ],
   "source": [
    "a = np.array([97, 101, 105, 111, 117])\n",
    "b = np.array(['a','e','i','o','u'])\n",
    "\n",
    "print(\"Elements from the second array  corresponding to elements in the first array  that are greater than 100 and less than 110:\")\n",
    "\n",
    "print(b[(100 < a) & (a < 110)])"
   ]
  },
  {
   "attachments": {},
   "cell_type": "markdown",
   "metadata": {},
   "source": [
    "93. Write a NumPy program to get the magnitude of a vector in NumPy."
   ]
  },
  {
   "cell_type": "code",
   "execution_count": null,
   "metadata": {},
   "outputs": [
    {
     "name": "stdout",
     "output_type": "stream",
     "text": [
      "Original array:\n",
      "[1 2 3 4 5]\n",
      "Magnitude of the vector:\n",
      "7.416198487095663\n"
     ]
    }
   ],
   "source": [
    "x = np.array([1,2,3,4,5])\n",
    "print(\"Original array:\")\n",
    "print(x)\n",
    "print(\"Magnitude of the vector:\")\n",
    "print(np.linalg.norm(x))"
   ]
  },
  {
   "attachments": {},
   "cell_type": "markdown",
   "metadata": {},
   "source": [
    "94. Write a NumPy program to count the frequency of unique values in NumPy array."
   ]
  },
  {
   "cell_type": "code",
   "execution_count": null,
   "metadata": {},
   "outputs": [
    {
     "name": "stdout",
     "output_type": "stream",
     "text": [
      "Original array:\n",
      "[10 10 20 10 20 20 20 30 30 50 40 40]\n",
      "Frequency of unique values of the said array:\n",
      "[[10 20 30 40 50]\n",
      " [ 3  4  2  2  1]]\n"
     ]
    }
   ],
   "source": [
    "a = np.array( [10, 10, 20, 10, 20, 20, 20, 30, 30, 50, 40, 40] )\n",
    "print(\"Original array:\")\n",
    "print(a)\n",
    "unique_elements, counts_elements = np.unique(a, return_counts=True)\n",
    "print(\"Frequency of unique values of the said array:\")\n",
    "print(np.asarray((unique_elements, counts_elements)))"
   ]
  },
  {
   "attachments": {},
   "cell_type": "markdown",
   "metadata": {},
   "source": [
    "95. Write a NumPy program to check whether the NumPy array is empty or not."
   ]
  },
  {
   "cell_type": "code",
   "execution_count": null,
   "metadata": {},
   "outputs": [
    {
     "name": "stdout",
     "output_type": "stream",
     "text": [
      "2\n",
      "0\n"
     ]
    }
   ],
   "source": [
    "x = np.array([2, 2])\n",
    "y = np.array([])\n",
    "print(x.size)\n",
    "print(y.size)"
   ]
  },
  {
   "attachments": {},
   "cell_type": "markdown",
   "metadata": {},
   "source": [
    "96. Write a NumPy program to divide each row by a vector element."
   ]
  },
  {
   "cell_type": "code",
   "execution_count": null,
   "metadata": {},
   "outputs": [
    {
     "name": "stdout",
     "output_type": "stream",
     "text": [
      "Original array:\n",
      "[[20 20 20]\n",
      " [30 30 30]\n",
      " [40 40 40]]\n",
      "Vector:\n",
      "[20 30 40]\n",
      "--------------------\n",
      "[[1. 1. 1.]\n",
      " [1. 1. 1.]\n",
      " [1. 1. 1.]]\n",
      "--------------------\n",
      "[[1.           0.6666666667 0.5         ]\n",
      " [1.5          1.           0.75        ]\n",
      " [2.           1.3333333333 1.          ]]\n",
      "--------------------\n",
      "[[1.           0.6666666667 0.5         ]\n",
      " [1.5          1.           0.75        ]\n",
      " [2.           1.3333333333 1.          ]]\n"
     ]
    }
   ],
   "source": [
    "x = np.array([[20, 20, 20], [30, 30, 30],[40, 40, 40]])\n",
    "print(\"Original array:\")\n",
    "print(x)\n",
    "v = np.array([20, 30, 40])\n",
    "print(\"Vector:\")\n",
    "print(v)\n",
    "print('-' * 20)\n",
    "print(x / v[: ,None])\n",
    "print('-' * 20)\n",
    "print(x / v[None ,:])\n",
    "print('-' * 20)\n",
    "print(x / v)\n"
   ]
  },
  {
   "attachments": {},
   "cell_type": "markdown",
   "metadata": {},
   "source": [
    "97. Write a NumPy program to print all the values of an array."
   ]
  },
  {
   "cell_type": "code",
   "execution_count": null,
   "metadata": {},
   "outputs": [
    {
     "name": "stdout",
     "output_type": "stream",
     "text": [
      "[[0 1 2]\n",
      " [3 4 5]\n",
      " [6 7 8]]\n",
      "0 1 2 3 4 5 6 7 8 "
     ]
    }
   ],
   "source": [
    "a = np.arange(9).reshape((3, 3))\n",
    "print(a)\n",
    "for i in np.nditer(a):\n",
    "    print(i, end=' ')"
   ]
  },
  {
   "attachments": {},
   "cell_type": "markdown",
   "metadata": {},
   "source": [
    "98. Write a NumPy program to convert the raw data in an array to a binary string and then create an array."
   ]
  },
  {
   "cell_type": "code",
   "execution_count": null,
   "metadata": {},
   "outputs": [
    {
     "name": "stdout",
     "output_type": "stream",
     "text": [
      "Original array:\n",
      "[10. 20. 30.]\n",
      "Binary string array:\n",
      "b'\\x00\\x00\\x00\\x00\\x00\\x00$@\\x00\\x00\\x00\\x00\\x00\\x004@\\x00\\x00\\x00\\x00\\x00\\x00>@'\n",
      "Array using fromstring():\n",
      "[10. 20. 30.]\n"
     ]
    }
   ],
   "source": [
    "x = np.array([10, 20, 30], float)\n",
    "print(\"Original array:\")\n",
    "print(x)\n",
    "s = x.tobytes()\n",
    "print(\"Binary string array:\")\n",
    "print(s)\n",
    "print(\"Array using fromstring():\")\n",
    "y = np.frombuffer(s)\n",
    "print(y)"
   ]
  },
  {
   "attachments": {},
   "cell_type": "markdown",
   "metadata": {},
   "source": [
    "99. Write a NumPy program to sum and compute the product of a NumPy array elements"
   ]
  },
  {
   "cell_type": "code",
   "execution_count": null,
   "metadata": {},
   "outputs": [
    {
     "name": "stdout",
     "output_type": "stream",
     "text": [
      "Sum is:  60\n",
      "Product is:  6000\n"
     ]
    }
   ],
   "source": [
    "a = np.array([10, 20 ,30])\n",
    "b = np.sum(a)\n",
    "print('Sum is: ', b)\n",
    "c = np.prod(a)\n",
    "print('Product is: ', c)"
   ]
  },
  {
   "attachments": {},
   "cell_type": "markdown",
   "metadata": {},
   "source": [
    "100. Write a NumPy program to take values from a source array and put them at specified indices of another array."
   ]
  },
  {
   "cell_type": "code",
   "execution_count": null,
   "metadata": {},
   "outputs": [
    {
     "name": "stdout",
     "output_type": "stream",
     "text": [
      "[10 10 20 10 30 10]\n",
      "Put 10 in 3rd and 5th possition of the above array\n",
      "[10 10 10 10 10 10]\n"
     ]
    }
   ],
   "source": [
    "x = np.array([10, 10, 20, 10, 30, 10])\n",
    "print(x)\n",
    "print('Put 10 in 3rd and 5th possition of the above array')\n",
    "y = np.array([10, 10, 20, 0])\n",
    "x.put([2, 4], y)\n",
    "print(x)"
   ]
  }
 ],
 "metadata": {
  "kernelspec": {
   "display_name": ".venv",
   "language": "python",
   "name": "python3"
  },
  "language_info": {
   "codemirror_mode": {
    "name": "ipython",
    "version": 3
   },
   "file_extension": ".py",
   "mimetype": "text/x-python",
   "name": "python",
   "nbconvert_exporter": "python",
   "pygments_lexer": "ipython3",
   "version": "3.10.8"
  },
  "orig_nbformat": 4,
  "vscode": {
   "interpreter": {
    "hash": "89bec13199a7078154226157758cb62ccd706ce034ff491ce8f28d8adde670e3"
   }
  }
 },
 "nbformat": 4,
 "nbformat_minor": 2
}
