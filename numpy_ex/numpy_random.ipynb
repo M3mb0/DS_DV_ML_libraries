{
 "cells": [
  {
   "attachments": {},
   "cell_type": "markdown",
   "metadata": {},
   "source": [
    "1. Write a NumPy program to generate five random numbers from the normal distribution."
   ]
  },
  {
   "cell_type": "code",
   "execution_count": 2,
   "metadata": {},
   "outputs": [
    {
     "data": {
      "text/plain": [
       "array([ 1.28897247,  0.13689311, -0.28165663, -0.47436691,  0.40706638])"
      ]
     },
     "execution_count": 2,
     "metadata": {},
     "output_type": "execute_result"
    }
   ],
   "source": [
    "import numpy as np\n",
    "\n",
    "np.random.normal(size=5)"
   ]
  },
  {
   "attachments": {},
   "cell_type": "markdown",
   "metadata": {},
   "source": [
    "2. Write a NumPy program to generate six random integers between 10 and 30."
   ]
  },
  {
   "cell_type": "code",
   "execution_count": 4,
   "metadata": {},
   "outputs": [
    {
     "data": {
      "text/plain": [
       "array([10, 21, 10, 28, 16, 26])"
      ]
     },
     "execution_count": 4,
     "metadata": {},
     "output_type": "execute_result"
    }
   ],
   "source": [
    "np.random.randint(10, 30, size=6)"
   ]
  },
  {
   "attachments": {},
   "cell_type": "markdown",
   "metadata": {},
   "source": [
    "3. Write a NumPy program to create a 3x3x3 array with random values."
   ]
  },
  {
   "cell_type": "code",
   "execution_count": 5,
   "metadata": {},
   "outputs": [
    {
     "data": {
      "text/plain": [
       "array([[[0.56398659, 0.17726924, 0.90890654],\n",
       "        [0.56701943, 0.34860355, 0.2856566 ],\n",
       "        [0.65862667, 0.54149   , 0.41853776]],\n",
       "\n",
       "       [[0.45709585, 0.49140038, 0.0821381 ],\n",
       "        [0.27711911, 0.63021305, 0.7608674 ],\n",
       "        [0.80046214, 0.04870176, 0.8252365 ]],\n",
       "\n",
       "       [[0.55704569, 0.0206119 , 0.99576229],\n",
       "        [0.55769368, 0.14557293, 0.21323862],\n",
       "        [0.54366379, 0.18405173, 0.80344716]]])"
      ]
     },
     "execution_count": 5,
     "metadata": {},
     "output_type": "execute_result"
    }
   ],
   "source": [
    "np.random.random((3, 3, 3))"
   ]
  },
  {
   "attachments": {},
   "cell_type": "markdown",
   "metadata": {},
   "source": [
    "4. Write a NumPy program to create a 5x5 array with random values and find the minimum and maximum values."
   ]
  },
  {
   "cell_type": "code",
   "execution_count": 6,
   "metadata": {},
   "outputs": [
    {
     "name": "stdout",
     "output_type": "stream",
     "text": [
      "[[0.53423179 0.56842573 0.5780583  0.82606596 0.58768516]\n",
      " [0.84087247 0.65677722 0.28557253 0.04764386 0.55720079]\n",
      " [0.15213604 0.17947947 0.58816275 0.45876752 0.12144738]\n",
      " [0.91662908 0.82752116 0.54906852 0.14547384 0.24610109]\n",
      " [0.99467459 0.75634435 0.43259972 0.328567   0.9079651 ]]\n",
      "Minumum:  0.04764385838476237\n",
      "Maximum:  0.9946745879844554\n"
     ]
    }
   ],
   "source": [
    "x = np.random.random((5, 5))\n",
    "print(x)\n",
    "\n",
    "print('Minumum: ', np.min(x))\n",
    "print('Maximum: ', np.max(x))"
   ]
  },
  {
   "attachments": {},
   "cell_type": "markdown",
   "metadata": {},
   "source": [
    "5. Write a NumPy program to create a random 10x4 array and extract the first five rows of the array and store them into a variable."
   ]
  },
  {
   "cell_type": "code",
   "execution_count": 8,
   "metadata": {},
   "outputs": [
    {
     "name": "stdout",
     "output_type": "stream",
     "text": [
      "[[0.60345137 0.78113689 0.52873114 0.80877479]\n",
      " [0.20869866 0.29800788 0.84619464 0.71954938]\n",
      " [0.13254663 0.49248024 0.74577891 0.18434602]\n",
      " [0.41382278 0.2557022  0.0955624  0.8865836 ]\n",
      " [0.9086367  0.82318134 0.14182212 0.87382846]\n",
      " [0.14497991 0.0189377  0.46798736 0.19958104]\n",
      " [0.56485186 0.22777344 0.74295219 0.19318975]\n",
      " [0.29285971 0.26884432 0.96205256 0.33152182]\n",
      " [0.82682859 0.86602283 0.19216317 0.41383577]\n",
      " [0.00566395 0.87133936 0.59700136 0.17401542]]\n",
      "--------------------\n",
      "[[0.60345137 0.78113689 0.52873114 0.80877479]\n",
      " [0.20869866 0.29800788 0.84619464 0.71954938]\n",
      " [0.13254663 0.49248024 0.74577891 0.18434602]\n",
      " [0.41382278 0.2557022  0.0955624  0.8865836 ]\n",
      " [0.9086367  0.82318134 0.14182212 0.87382846]]\n"
     ]
    }
   ],
   "source": [
    "array = np.random.random((10, 4))\n",
    "print(array)\n",
    "print('-' * 20)\n",
    "first_5_rows = array[0:5, :]\n",
    "print(first_5_rows)"
   ]
  },
  {
   "attachments": {},
   "cell_type": "markdown",
   "metadata": {},
   "source": [
    "6. Write a NumPy program to shuffle numbers between 0 and 10 (inclusive)"
   ]
  },
  {
   "cell_type": "code",
   "execution_count": 9,
   "metadata": {},
   "outputs": [
    {
     "name": "stdout",
     "output_type": "stream",
     "text": [
      "[7 5 0 9 2 6 4 8 1 3]\n",
      "Same result using permutation():\n",
      "[9 1 0 8 4 2 7 5 3 6]\n"
     ]
    }
   ],
   "source": [
    "x = np.arange(10)\n",
    "np.random.shuffle(x)\n",
    "print(x)\n",
    "print(\"Same result using permutation():\")\n",
    "print(np.random.permutation(10))"
   ]
  },
  {
   "attachments": {},
   "cell_type": "markdown",
   "metadata": {},
   "source": [
    "7. Write a NumPy program to normalize a 3x3 random matrix."
   ]
  },
  {
   "cell_type": "code",
   "execution_count": 10,
   "metadata": {},
   "outputs": [
    {
     "name": "stdout",
     "output_type": "stream",
     "text": [
      "Original Array:\n",
      "[[0.49023707 0.79626227 0.13991975]\n",
      " [0.59056437 0.75732102 0.40556122]\n",
      " [0.50175851 0.92553584 0.98963049]]\n",
      "After normalization:\n",
      "[[0.41227833 0.77243053 0.        ]\n",
      " [0.53035062 0.72660171 0.31262577]\n",
      " [0.42583757 0.92456885 1.        ]]\n"
     ]
    }
   ],
   "source": [
    "x = np.random.random((3,3))\n",
    "print(\"Original Array:\")\n",
    "print(x)\n",
    "xmax, xmin = x.max(), x.min()\n",
    "x = (x - xmin)/(xmax - xmin)\n",
    "print(\"After normalization:\")\n",
    "print(x)"
   ]
  },
  {
   "attachments": {},
   "cell_type": "markdown",
   "metadata": {},
   "source": [
    "8. Write a NumPy program to create a random vector of size 10 and sort it."
   ]
  },
  {
   "cell_type": "code",
   "execution_count": 16,
   "metadata": {},
   "outputs": [
    {
     "name": "stdout",
     "output_type": "stream",
     "text": [
      "[0.89086001 0.1849252  0.85482807 0.48886371 0.12713774 0.48978048\n",
      " 0.49207114 0.73009404 0.56281267 0.89111111]\n",
      "\n",
      "Sorted vector\n"
     ]
    },
    {
     "data": {
      "text/plain": [
       "array([0.12713774, 0.1849252 , 0.48886371, 0.48978048, 0.49207114,\n",
       "       0.56281267, 0.73009404, 0.85482807, 0.89086001, 0.89111111])"
      ]
     },
     "execution_count": 16,
     "metadata": {},
     "output_type": "execute_result"
    }
   ],
   "source": [
    "vector = np.random.random(10)\n",
    "print(vector)\n",
    "print('\\nSorted vector')\n",
    "np.sort(vector)"
   ]
  },
  {
   "attachments": {},
   "cell_type": "markdown",
   "metadata": {},
   "source": [
    "9. Write a NumPy program to find the nearest value from a given value in an array."
   ]
  },
  {
   "cell_type": "code",
   "execution_count": 22,
   "metadata": {},
   "outputs": [
    {
     "name": "stdout",
     "output_type": "stream",
     "text": [
      "[6.40131591 1.55264256 9.69931676 8.83120968 5.87572157]\n",
      "--------------------\n",
      "8.831209680718315\n",
      "[6.40131591 1.55264256 9.69931676 8.83120968 5.87572157]\n"
     ]
    }
   ],
   "source": [
    "x = np.random.uniform(1, 12, 5)\n",
    "print(x)\n",
    "print('-' * 20)\n",
    "v = 8\n",
    "n = x.flat[np.abs(x - v).argmin()]\n",
    "print(n)"
   ]
  },
  {
   "attachments": {},
   "cell_type": "markdown",
   "metadata": {},
   "source": [
    "10. Write a NumPy program to check two random arrays are equal or not."
   ]
  },
  {
   "cell_type": "code",
   "execution_count": 35,
   "metadata": {},
   "outputs": [
    {
     "name": "stdout",
     "output_type": "stream",
     "text": [
      "False\n",
      "False\n"
     ]
    }
   ],
   "source": [
    "x = np.random.randint(1, 3, 5)\n",
    "y = np.random.randint(1, 3, 5)\n",
    "print(np.array_equal(x, y))\n",
    "print(np.allclose(x, y))"
   ]
  },
  {
   "attachments": {},
   "cell_type": "markdown",
   "metadata": {},
   "source": [
    "11. Write a NumPy program to create random vector of size 15 and replace the maximum value by -1"
   ]
  },
  {
   "cell_type": "code",
   "execution_count": 38,
   "metadata": {},
   "outputs": [
    {
     "name": "stdout",
     "output_type": "stream",
     "text": [
      "[0.07106255 0.98524987 0.44225217 0.81948785 0.27026201 0.25266551\n",
      " 0.52965981 0.97962066 0.91530871 0.85176232 0.00530619 0.74594867\n",
      " 0.6666663  0.51704211 0.74568273]\n",
      "--------------------\n",
      "[ 0.07106255 -1.          0.44225217  0.81948785  0.27026201  0.25266551\n",
      "  0.52965981  0.97962066  0.91530871  0.85176232  0.00530619  0.74594867\n",
      "  0.6666663   0.51704211  0.74568273]\n"
     ]
    }
   ],
   "source": [
    "x = np.random.random(size=15)\n",
    "print(x)\n",
    "print('-' * 20)\n",
    "x[x.argmax()] = -1\n",
    "print(x)"
   ]
  },
  {
   "attachments": {},
   "cell_type": "markdown",
   "metadata": {},
   "source": [
    "12. Write a NumPy program to find point by point distances of a random vector with shape (10,2) representing coordinates."
   ]
  },
  {
   "cell_type": "code",
   "execution_count": 41,
   "metadata": {},
   "outputs": [
    {
     "name": "stdout",
     "output_type": "stream",
     "text": [
      "[[ 2  1]\n",
      " [15 15]\n",
      " [ 8 16]\n",
      " [ 7 12]\n",
      " [ 9  2]\n",
      " [18 11]\n",
      " [ 2  5]\n",
      " [ 7  8]\n",
      " [ 3 13]\n",
      " [15 17]]\n",
      "--------------------\n",
      "[[ 0.         19.10497317 16.15549442 12.08304597  7.07106781 18.86796226\n",
      "   4.          8.60232527 12.04159458 20.61552813]\n",
      " [19.10497317  0.          7.07106781  8.54400375 14.31782106  5.\n",
      "  16.40121947 10.63014581 12.16552506  2.        ]\n",
      " [16.15549442  7.07106781  0.          4.12310563 14.03566885 11.18033989\n",
      "  12.52996409  8.06225775  5.83095189  7.07106781]\n",
      " [12.08304597  8.54400375  4.12310563  0.         10.19803903 11.04536102\n",
      "   8.60232527  4.          4.12310563  9.43398113]\n",
      " [ 7.07106781 14.31782106 14.03566885 10.19803903  0.         12.72792206\n",
      "   7.61577311  6.32455532 12.52996409 16.15549442]\n",
      " [18.86796226  5.         11.18033989 11.04536102 12.72792206  0.\n",
      "  17.08800749 11.40175425 15.13274595  6.70820393]\n",
      " [ 4.         16.40121947 12.52996409  8.60232527  7.61577311 17.08800749\n",
      "   0.          5.83095189  8.06225775 17.69180601]\n",
      " [ 8.60232527 10.63014581  8.06225775  4.          6.32455532 11.40175425\n",
      "   5.83095189  0.          6.40312424 12.04159458]\n",
      " [12.04159458 12.16552506  5.83095189  4.12310563 12.52996409 15.13274595\n",
      "   8.06225775  6.40312424  0.         12.64911064]\n",
      " [20.61552813  2.          7.07106781  9.43398113 16.15549442  6.70820393\n",
      "  17.69180601 12.04159458 12.64911064  0.        ]]\n"
     ]
    }
   ],
   "source": [
    "a = np.random.randint(1, 20, (10, 2))\n",
    "print(a)\n",
    "print('-' * 20)\n",
    "x, y = np.atleast_2d(a[:, 0], a[:, 1])\n",
    "b = np.sqrt((x - x.T) ** 2 + (y - y.T) ** 2)\n",
    "print(b)"
   ]
  },
  {
   "attachments": {},
   "cell_type": "markdown",
   "metadata": {},
   "source": [
    "13. Write a NumPy program to find the most frequent value in an array."
   ]
  },
  {
   "cell_type": "code",
   "execution_count": 44,
   "metadata": {},
   "outputs": [
    {
     "name": "stdout",
     "output_type": "stream",
     "text": [
      "Original array:\n",
      "[1 3 6 6 2 8 3 3 6 8 7 4 5 0 2 3 5 7 4 1 8 6 8 3 5 2 9 9 5 0 5 0 8 2 6 6 8\n",
      " 6 1 7]\n",
      "Most frequent value in the above array:\n",
      "6\n"
     ]
    }
   ],
   "source": [
    "x = np.random.randint(0, 10, 40)\n",
    "print(\"Original array:\")\n",
    "print(x)\n",
    "print(\"Most frequent value in the above array:\")\n",
    "print(np.bincount(x).argmax())"
   ]
  },
  {
   "attachments": {},
   "cell_type": "markdown",
   "metadata": {},
   "source": [
    "14. Write a NumPy program to convert cartesian coordinates to polar coordinates of a random 10x2 matrix representing cartesian coordinates."
   ]
  },
  {
   "cell_type": "code",
   "execution_count": 45,
   "metadata": {},
   "outputs": [
    {
     "name": "stdout",
     "output_type": "stream",
     "text": [
      "[0.06026628 0.28916083 0.51132356 0.56352666 0.97019793 0.50412447\n",
      " 1.01424419 1.08802562 0.89988926 0.45731795]\n",
      "[0.81444901 1.40040874 1.32605271 0.01976561 1.30664896 0.18556548\n",
      " 0.7141461  0.83215179 0.86668751 0.77077406]\n"
     ]
    }
   ],
   "source": [
    "z= np.random.random((10,2))\n",
    "x,y = z[:,0], z[:,1]\n",
    "r = np.sqrt(x**2+y**2)\n",
    "t = np.arctan2(y,x)\n",
    "print(r)\n",
    "print(t)"
   ]
  },
  {
   "attachments": {},
   "cell_type": "markdown",
   "metadata": {},
   "source": [
    "15. Write a NumPy program to find the closest value (to a given scalar) in an array."
   ]
  },
  {
   "cell_type": "code",
   "execution_count": 46,
   "metadata": {},
   "outputs": [
    {
     "name": "stdout",
     "output_type": "stream",
     "text": [
      "Original array:\n",
      "[ 0  1  2  3  4  5  6  7  8  9 10 11 12 13 14 15 16 17 18 19 20 21 22 23\n",
      " 24 25 26 27 28 29 30 31 32 33 34 35 36 37 38 39 40 41 42 43 44 45 46 47\n",
      " 48 49 50 51 52 53 54 55 56 57 58 59 60 61 62 63 64 65 66 67 68 69 70 71\n",
      " 72 73 74 75 76 77 78 79 80 81 82 83 84 85 86 87 88 89 90 91 92 93 94 95\n",
      " 96 97 98 99]\n",
      "Value to compare:\n",
      "31.645127818293307\n",
      "32\n"
     ]
    }
   ],
   "source": [
    "x = np.arange(100)\n",
    "print(\"Original array:\")\n",
    "print(x)\n",
    "a = np.random.uniform(0,100)\n",
    "print(\"Value to compare:\")\n",
    "print(a)\n",
    "index = (np.abs(x-a)).argmin()\n",
    "print(x[index])"
   ]
  },
  {
   "attachments": {},
   "cell_type": "markdown",
   "metadata": {},
   "source": [
    "16. Write a NumPy program to get the n largest values of an array."
   ]
  },
  {
   "cell_type": "code",
   "execution_count": 52,
   "metadata": {},
   "outputs": [
    {
     "name": "stdout",
     "output_type": "stream",
     "text": [
      "Original array:\n",
      "[0 1 2 3 4 5 6 7 8 9]\n",
      "[9]\n"
     ]
    }
   ],
   "source": [
    "x = np.arange(10)\n",
    "print(\"Original array:\")\n",
    "print(x)\n",
    "np.random.shuffle(x)\n",
    "n = 1\n",
    "print (x[np.argsort(x)[-n:]])"
   ]
  },
  {
   "attachments": {},
   "cell_type": "markdown",
   "metadata": {},
   "source": [
    "17. Write a NumPy program to create a three-dimension array with shape (300,400,5) and set to a variable. Fill the array elements with values using unsigned integer (0 to 255)"
   ]
  },
  {
   "cell_type": "code",
   "execution_count": 98,
   "metadata": {},
   "outputs": [
    {
     "name": "stdout",
     "output_type": "stream",
     "text": [
      "[[[220  23 172  86 235]\n",
      "  [ 47 151 212 139  25]\n",
      "  [  5 173 143 191 249]\n",
      "  ...\n",
      "  [ 62 142  86 236 113]\n",
      "  [198 111  87   5  36]\n",
      "  [236  12 162 142 207]]\n",
      "\n",
      " [[222  35 137 216 201]\n",
      "  [114  18 248 227 166]\n",
      "  [117  98 171  19 211]\n",
      "  ...\n",
      "  [217 111 129  58 195]\n",
      "  [204 177  11   0 109]\n",
      "  [183 252 153 133  25]]\n",
      "\n",
      " [[127 140 116  40 252]\n",
      "  [ 85 150 106  96 240]\n",
      "  [131 248  15 179 192]\n",
      "  ...\n",
      "  [ 43 130 235  11  54]\n",
      "  [105  45  87 121 245]\n",
      "  [234  47  83   5 148]]\n",
      "\n",
      " ...\n",
      "\n",
      " [[253   5  31 175  24]\n",
      "  [ 42  33 206  69  69]\n",
      "  [ 60  97  46  51 232]\n",
      "  ...\n",
      "  [233 217 122 141 245]\n",
      "  [ 61 228 230 174 157]\n",
      "  [186 106 161 159 212]]\n",
      "\n",
      " [[159 233 246 193  89]\n",
      "  [107 237  42 212 122]\n",
      "  [173  94 103  59 181]\n",
      "  ...\n",
      "  [176 178 212 119 106]\n",
      "  [109 230 139  80 182]\n",
      "  [231 145 240  67 198]]\n",
      "\n",
      " [[154  91   8 110   5]\n",
      "  [  7 112   9 106 219]\n",
      "  [212  42 210 138  59]\n",
      "  ...\n",
      "  [ 25 116 140 168 224]\n",
      "  [140 188 123 206  74]\n",
      "  [ 26  11 201  19 212]]]\n"
     ]
    }
   ],
   "source": [
    "nums = np.random.randint(low=0, high=256, size=(300, 400, 5), dtype=np.uint8)\n",
    "print(nums)"
   ]
  }
 ],
 "metadata": {
  "kernelspec": {
   "display_name": "Python 3",
   "language": "python",
   "name": "python3"
  },
  "language_info": {
   "codemirror_mode": {
    "name": "ipython",
    "version": 3
   },
   "file_extension": ".py",
   "mimetype": "text/x-python",
   "name": "python",
   "nbconvert_exporter": "python",
   "pygments_lexer": "ipython3",
   "version": "3.10.8"
  },
  "orig_nbformat": 4,
  "vscode": {
   "interpreter": {
    "hash": "e2d503263ead77680f8e55bc6f674febd69ab9067c3daec9d878218ad2cd3871"
   }
  }
 },
 "nbformat": 4,
 "nbformat_minor": 2
}
