{
 "cells": [
  {
   "attachments": {},
   "cell_type": "markdown",
   "metadata": {},
   "source": [
    "1. Write a Pandas program to display the default index and set a column as an Index in a given dataframe."
   ]
  },
  {
   "cell_type": "code",
   "execution_count": 1,
   "metadata": {},
   "outputs": [
    {
     "name": "stdout",
     "output_type": "stream",
     "text": [
      "Default Index:\n",
      "  school_code class            name date_Of_Birth  weight  address t_id\n",
      "0        s001     V  Alberto Franco    15/05/2002      35  street1   t1\n",
      "1        s002     V    Gino Mcneill    17/05/2002      32  street2   t2\n",
      "2        s003    VI     Ryan Parkes    16/02/1999      33  street3   t3\n",
      "3        s001    VI    Eesha Hinton    25/09/1998      30  street1   t4\n",
      "4        s002     V    Gino Mcneill    11/05/2002      31  street2   t5\n",
      "5        s004    VI    David Parkes    15/09/1997      32  street4   t6\n",
      "\n",
      "school_code as new Index:\n",
      "            class            name date_Of_Birth  weight  address t_id\n",
      "school_code                                                          \n",
      "s001            V  Alberto Franco    15/05/2002      35  street1   t1\n",
      "s002            V    Gino Mcneill    17/05/2002      32  street2   t2\n",
      "s003           VI     Ryan Parkes    16/02/1999      33  street3   t3\n",
      "s001           VI    Eesha Hinton    25/09/1998      30  street1   t4\n",
      "s002            V    Gino Mcneill    11/05/2002      31  street2   t5\n",
      "s004           VI    David Parkes    15/09/1997      32  street4   t6\n",
      "\n",
      "t_id as new Index:\n",
      "     school_code class            name date_Of_Birth  weight  address\n",
      "t_id                                                                 \n",
      "t1          s001     V  Alberto Franco    15/05/2002      35  street1\n",
      "t2          s002     V    Gino Mcneill    17/05/2002      32  street2\n",
      "t3          s003    VI     Ryan Parkes    16/02/1999      33  street3\n",
      "t4          s001    VI    Eesha Hinton    25/09/1998      30  street1\n",
      "t5          s002     V    Gino Mcneill    11/05/2002      31  street2\n",
      "t6          s004    VI    David Parkes    15/09/1997      32  street4\n"
     ]
    }
   ],
   "source": [
    "import pandas as pd\n",
    "\n",
    "df = pd.DataFrame({\n",
    "    'school_code': ['s001','s002','s003','s001','s002','s004'],\n",
    "    'class': ['V', 'V', 'VI', 'VI', 'V', 'VI'],\n",
    "    'name': ['Alberto Franco','Gino Mcneill','Ryan Parkes', 'Eesha Hinton', 'Gino Mcneill', 'David Parkes'],\n",
    "    'date_Of_Birth': ['15/05/2002','17/05/2002','16/02/1999','25/09/1998','11/05/2002','15/09/1997'],\n",
    "    'weight': [35, 32, 33, 30, 31, 32],\n",
    "    'address': ['street1', 'street2', 'street3', 'street1', 'street2', 'street4'],\n",
    "    't_id':['t1', 't2', 't3', 't4', 't5', 't6']})\n",
    "print(\"Default Index:\")\n",
    "print(df.head(10))\n",
    "print(\"\\nschool_code as new Index:\")\n",
    "df1 = df.set_index('school_code')\n",
    "print(df1)\n",
    "print(\"\\nt_id as new Index:\")\n",
    "df2 = df.set_index('t_id')\n",
    "print(df2)"
   ]
  },
  {
   "attachments": {},
   "cell_type": "markdown",
   "metadata": {},
   "source": [
    "2. Write a Pandas program to create a multi Index frame using two columns and using an Index and a column"
   ]
  },
  {
   "cell_type": "code",
   "execution_count": 2,
   "metadata": {},
   "outputs": [
    {
     "name": "stdout",
     "output_type": "stream",
     "text": [
      "Original DataFrame:\n",
      "  school_code class            name date_Of_Birth  weight  address t_id\n",
      "0        s001     V  Alberto Franco    15/05/2002      35  street1   t1\n",
      "1        s002     V    Gino Mcneill    17/05/2002      32  street2   t2\n",
      "2        s003    VI     Ryan Parkes    16/02/1999      33  street3   t3\n",
      "3        s001    VI    Eesha Hinton    25/09/1998      30  street1   t4\n",
      "4        s002     V    Gino Mcneill    11/05/2002      31  street2   t5\n",
      "5        s004    VI    David Parkes    15/09/1997      32  street4   t6\n",
      "\n",
      "MultiIndex using columns 't_id' and ‘school_code’:\n",
      "                 class            name date_Of_Birth  weight  address\n",
      "t_id school_code                                                     \n",
      "t1   s001            V  Alberto Franco    15/05/2002      35  street1\n",
      "t2   s002            V    Gino Mcneill    17/05/2002      32  street2\n",
      "t3   s003           VI     Ryan Parkes    16/02/1999      33  street3\n",
      "t4   s001           VI    Eesha Hinton    25/09/1998      30  street1\n",
      "t5   s002            V    Gino Mcneill    11/05/2002      31  street2\n",
      "t6   s004           VI    David Parkes    15/09/1997      32  street4\n",
      "\n",
      "MultiIndex using an Index and a column:\n",
      "       school_code class            name date_Of_Birth  weight  address\n",
      "  t_id                                                                 \n",
      "0 t1          s001     V  Alberto Franco    15/05/2002      35  street1\n",
      "1 t2          s002     V    Gino Mcneill    17/05/2002      32  street2\n",
      "2 t3          s003    VI     Ryan Parkes    16/02/1999      33  street3\n",
      "3 t4          s001    VI    Eesha Hinton    25/09/1998      30  street1\n",
      "4 t5          s002     V    Gino Mcneill    11/05/2002      31  street2\n",
      "5 t6          s004    VI    David Parkes    15/09/1997      32  street4\n"
     ]
    }
   ],
   "source": [
    "print(\"Original DataFrame:\")\n",
    "print(df)\n",
    "print(\"\\nMultiIndex using columns 't_id' and ‘school_code’:\")\n",
    "df1 = df.set_index(['t_id', 'school_code'])\n",
    "print(df1)\n",
    "print(\"\\nMultiIndex using an Index and a column:\")\n",
    "df2 = df.set_index([pd.Index([0, 1, 2, 3, 4, 5]), 't_id'])\n",
    "print(df2)"
   ]
  },
  {
   "attachments": {},
   "cell_type": "markdown",
   "metadata": {},
   "source": [
    "3. Write a Pandas program to display the default index and set a column as an Index in a given dataframe and then reset the index."
   ]
  },
  {
   "cell_type": "code",
   "execution_count": 3,
   "metadata": {},
   "outputs": [
    {
     "name": "stdout",
     "output_type": "stream",
     "text": [
      "Default Index:\n",
      "  school_code class            name date_Of_Birth  weight  address t_id\n",
      "0        s001     V  Alberto Franco    15/05/2002      35  street1   t1\n",
      "1        s002     V    Gino Mcneill    17/05/2002      32  street2   t2\n",
      "2        s003    VI     Ryan Parkes    16/02/1999      33  street3   t3\n",
      "3        s001    VI    Eesha Hinton    25/09/1998      30  street1   t4\n",
      "4        s002     V    Gino Mcneill    11/05/2002      31  street2   t5\n",
      "5        s004    VI    David Parkes    15/09/1997      32  street4   t6\n",
      "\n",
      "t_id as new Index:\n",
      "     school_code class            name date_Of_Birth  weight  address\n",
      "t_id                                                                 \n",
      "t1          s001     V  Alberto Franco    15/05/2002      35  street1\n",
      "t2          s002     V    Gino Mcneill    17/05/2002      32  street2\n",
      "t3          s003    VI     Ryan Parkes    16/02/1999      33  street3\n",
      "t4          s001    VI    Eesha Hinton    25/09/1998      30  street1\n",
      "t5          s002     V    Gino Mcneill    11/05/2002      31  street2\n",
      "t6          s004    VI    David Parkes    15/09/1997      32  street4\n",
      "\n",
      "Reset the index:\n",
      "  t_id school_code class            name date_Of_Birth  weight  address\n",
      "0   t1        s001     V  Alberto Franco    15/05/2002      35  street1\n",
      "1   t2        s002     V    Gino Mcneill    17/05/2002      32  street2\n",
      "2   t3        s003    VI     Ryan Parkes    16/02/1999      33  street3\n",
      "3   t4        s001    VI    Eesha Hinton    25/09/1998      30  street1\n",
      "4   t5        s002     V    Gino Mcneill    11/05/2002      31  street2\n",
      "5   t6        s004    VI    David Parkes    15/09/1997      32  street4\n"
     ]
    }
   ],
   "source": [
    "print(\"Default Index:\")\n",
    "print(df.head(10))\n",
    "print(\"\\nt_id as new Index:\")\n",
    "df1 = df.set_index('t_id')\n",
    "print(df1)\n",
    "print(\"\\nReset the index:\")\n",
    "df2 = df1.reset_index(inplace=False)\n",
    "print(df2)"
   ]
  },
  {
   "attachments": {},
   "cell_type": "markdown",
   "metadata": {},
   "source": [
    "4. Write a Pandas program to create an index labels by using 64-bit integers, using floating-point numbers in a given dataframe."
   ]
  },
  {
   "cell_type": "code",
   "execution_count": 4,
   "metadata": {},
   "outputs": [
    {
     "name": "stdout",
     "output_type": "stream",
     "text": [
      "Create an Int64Index:\n",
      "  school_code class            name date_Of_Birth  weight  address\n",
      "1        s001     V  Alberto Franco    15/05/2002      35  street1\n",
      "2        s002     V    Gino Mcneill    17/05/2002      32  street2\n",
      "3        s003    VI     Ryan Parkes    16/02/1999      33  street3\n",
      "4        s001    VI    Eesha Hinton    25/09/1998      30  street1\n",
      "5        s002     V    Gino Mcneill    11/05/2002      31  street2\n",
      "6        s004    VI    David Parkes    15/09/1997      32  street4\n",
      "\n",
      "View the Index:\n",
      "Int64Index([1, 2, 3, 4, 5, 6], dtype='int64')\n",
      "\n",
      "Floating-point labels using Float64Index:\n",
      "    school_code class            name date_Of_Birth   weight  address\n",
      "0.1        s001     V  Alberto Franco     15/05/2002      35  street1\n",
      "0.2        s002     V    Gino Mcneill     17/05/2002      32  street2\n",
      "0.3        s003    VI     Ryan Parkes     16/02/1999      33  street3\n",
      "0.4        s001    VI    Eesha Hinton     25/09/1998      30  street1\n",
      "0.5        s002     V    Gino Mcneill     11/05/2002      31  street2\n",
      "0.6        s004    VI    David Parkes     15/09/1997      32  street4\n",
      "\n",
      "View the Index:\n",
      "Float64Index([0.1, 0.2, 0.3, 0.4, 0.5, 0.6], dtype='float64')\n"
     ]
    }
   ],
   "source": [
    "print(\"Create an Int64Index:\")\n",
    "df_i64 = pd.DataFrame({\n",
    "    'school_code': ['s001','s002','s003','s001','s002','s004'],\n",
    "    'class': ['V', 'V', 'VI', 'VI', 'V', 'VI'],\n",
    "    'name': ['Alberto Franco','Gino Mcneill','Ryan Parkes', 'Eesha Hinton', 'Gino Mcneill', 'David Parkes'],\n",
    "    'date_Of_Birth': ['15/05/2002','17/05/2002','16/02/1999','25/09/1998','11/05/2002','15/09/1997'],\n",
    "    'weight': [35, 32, 33, 30, 31, 32],\n",
    "    'address': ['street1', 'street2', 'street3', 'street1', 'street2', 'street4']},\n",
    "    index=[1, 2, 3, 4, 5, 6])\n",
    "print(df_i64)\n",
    "print(\"\\nView the Index:\")\n",
    "print(df_i64.index)\n",
    "\n",
    "print(\"\\nFloating-point labels using Float64Index:\")\n",
    "df_f64 = pd.DataFrame({\n",
    "    'school_code': ['s001','s002','s003','s001','s002','s004'],\n",
    "    'class': ['V', 'V', 'VI', 'VI', 'V', 'VI'],\n",
    "    'name': ['Alberto Franco','Gino Mcneill','Ryan Parkes', 'Eesha Hinton', 'Gino Mcneill', 'David Parkes'],\n",
    "    'date_Of_Birth ': ['15/05/2002','17/05/2002','16/02/1999','25/09/1998','11/05/2002','15/09/1997'],\n",
    "    'weight': [35, 32, 33, 30, 31, 32],\n",
    "    'address': ['street1', 'street2', 'street3', 'street1', 'street2', 'street4']},\n",
    "    index=[.1, .2, .3, .4, .5, .6])\n",
    "print(df_f64)\n",
    "print(\"\\nView the Index:\")\n",
    "print(df_f64.index)"
   ]
  },
  {
   "attachments": {},
   "cell_type": "markdown",
   "metadata": {},
   "source": [
    "5. Write a Pandas program to create a DataFrame using intervals as an index."
   ]
  },
  {
   "cell_type": "code",
   "execution_count": 5,
   "metadata": {},
   "outputs": [
    {
     "name": "stdout",
     "output_type": "stream",
     "text": [
      "Create an Interval Index using IntervalIndex.from_breaks:\n",
      "            X\n",
      "(0.0, 0.5]  1\n",
      "(0.5, 1.0]  2\n",
      "(1.0, 1.5]  3\n",
      "(1.5, 2.0]  4\n",
      "(2.0, 2.5]  5\n",
      "(2.5, 3.0]  6\n",
      "(3.0, 3.5]  7\n",
      "IntervalIndex([(0.0, 0.5], (0.5, 1.0], (1.0, 1.5], (1.5, 2.0], (2.0, 2.5], (2.5, 3.0], (3.0, 3.5]], dtype='interval[float64, right]')\n",
      "\n",
      "Create an Interval Index using IntervalIndex.from_tuples:\n",
      "            X\n",
      "(0.0, 0.5]  1\n",
      "(0.5, 1.0]  2\n",
      "(1.0, 1.5]  3\n",
      "(1.5, 2.0]  4\n",
      "(2.0, 2.5]  5\n",
      "(2.5, 3.0]  6\n",
      "(3.0, 3.5]  7\n",
      "IntervalIndex([(0.0, 0.5], (0.5, 1.0], (1.0, 1.5], (1.5, 2.0], (2.0, 2.5], (2.5, 3.0], (3.0, 3.5]], dtype='interval[float64, right]')\n",
      "\n",
      "Create an Interval Index using IntervalIndex.from_arrays:\n",
      "            X\n",
      "(0.0, 0.5]  1\n",
      "(0.5, 1.0]  2\n",
      "(1.0, 1.5]  3\n",
      "(1.5, 2.0]  4\n",
      "(2.0, 2.5]  5\n",
      "(2.5, 3.0]  6\n",
      "(3.0, 3.5]  7\n",
      "IntervalIndex([(0.0, 0.5], (0.5, 1.0], (1.0, 1.5], (1.5, 2.0], (2.0, 2.5], (2.5, 3.0], (3.0, 3.5]], dtype='interval[float64, right]')\n"
     ]
    }
   ],
   "source": [
    "print(\"Create an Interval Index using IntervalIndex.from_breaks:\")\n",
    "df_interval = pd.DataFrame({\"X\":[1, 2, 3, 4, 5, 6, 7]},\n",
    "                            index = pd.IntervalIndex.from_breaks(\n",
    "                            [0, 0.5, 1.0, 1.5, 2.0, 2.5, 3, 3.5]))    \n",
    "print(df_interval)\n",
    "print(df_interval.index)\n",
    "\n",
    "print(\"\\nCreate an Interval Index using IntervalIndex.from_tuples:\")\n",
    "df_interval = pd.DataFrame({\"X\":[1, 2, 3, 4, 5, 6, 7]},             \n",
    "                            index = pd.IntervalIndex.from_tuples(\n",
    "                            [(0, .5), (.5, 1), (1, 1.5), (1.5, 2), (2, 2.5), (2.5, 3), (3, 3.5)]))\n",
    "print(df_interval)\n",
    "print(df_interval.index)\n",
    "\n",
    "print(\"\\nCreate an Interval Index using IntervalIndex.from_arrays:\")\n",
    "df_interval = pd.DataFrame({\"X\":[1, 2, 3, 4, 5, 6, 7]},             \n",
    "                            index = pd.IntervalIndex.from_arrays(\n",
    "                            [0, .5, 1, 1.5, 2, 2.5, 3], [.5, 1, 1.5, 2, 2.5, 3, 3.5]))\n",
    "print(df_interval)\n",
    "print(df_interval.index) "
   ]
  },
  {
   "attachments": {},
   "cell_type": "markdown",
   "metadata": {},
   "source": [
    "6. Write a Pandas program to create a dataframe indexing by date and time."
   ]
  },
  {
   "cell_type": "code",
   "execution_count": 6,
   "metadata": {},
   "outputs": [
    {
     "name": "stdout",
     "output_type": "stream",
     "text": [
      "Create a dataframe, indexing by date and time:\n",
      "                     Sale_amt\n",
      "2020-05-12 07:10:10       100\n",
      "2020-05-12 07:10:11       110\n",
      "2020-05-12 07:10:12       117\n",
      "2020-05-12 07:10:13       150\n",
      "2020-05-12 07:10:14       112\n",
      "2020-05-12 07:10:15        99\n",
      "2020-05-12 07:10:16       129\n",
      "2020-05-12 07:10:17       135\n",
      "2020-05-12 07:10:18       140\n",
      "2020-05-12 07:10:19       150\n"
     ]
    }
   ],
   "source": [
    "print(\"Create a dataframe, indexing by date and time:\")\n",
    "\n",
    "dt_range = pd.date_range(start ='2020-05-12 07:10:10', freq ='S', periods = 10) \n",
    "df_dt = pd.DataFrame({\"Sale_amt\":[100, 110, 117, 150, 112, 99, 129, 135, 140, 150]},\n",
    "                            index = dt_range)\n",
    "print(df_dt)"
   ]
  },
  {
   "attachments": {},
   "cell_type": "markdown",
   "metadata": {},
   "source": [
    "7. Write a Pandas program to create a dataframe and set a title or name of the index column."
   ]
  },
  {
   "cell_type": "code",
   "execution_count": 7,
   "metadata": {},
   "outputs": [
    {
     "name": "stdout",
     "output_type": "stream",
     "text": [
      "Original DataFrame:\n",
      "   school_code class            name date_Of_Birth  weight  address\n",
      "t1        s001     V  Alberto Franco    15/05/2002      35  street1\n",
      "t2        s002     V    Gino Mcneill    17/05/2002      32  street2\n",
      "t3        s003    VI     Ryan Parkes    16/02/1999      33  street3\n",
      "t4        s001    VI    Eesha Hinton    25/09/1998      30  street1\n",
      "t5        s002     V    Gino Mcneill    11/05/2002      31  street2\n",
      "t6        s004    VI    David Parkes    15/09/1997      32  street4\n",
      "\n",
      "Said DataFrame with a title or name of the index column:\n",
      "           school_code class            name date_Of_Birth  weight  address\n",
      "Index_name                                                                 \n",
      "t1                s001     V  Alberto Franco    15/05/2002      35  street1\n",
      "t2                s002     V    Gino Mcneill    17/05/2002      32  street2\n",
      "t3                s003    VI     Ryan Parkes    16/02/1999      33  street3\n",
      "t4                s001    VI    Eesha Hinton    25/09/1998      30  street1\n",
      "t5                s002     V    Gino Mcneill    11/05/2002      31  street2\n",
      "t6                s004    VI    David Parkes    15/09/1997      32  street4\n"
     ]
    }
   ],
   "source": [
    "df = pd.DataFrame({\n",
    "    'school_code': ['s001','s002','s003','s001','s002','s004'],\n",
    "    'class': ['V', 'V', 'VI', 'VI', 'V', 'VI'],\n",
    "    'name': ['Alberto Franco','Gino Mcneill','Ryan Parkes', 'Eesha Hinton', 'Gino Mcneill', 'David Parkes'],\n",
    "    'date_Of_Birth': ['15/05/2002','17/05/2002','16/02/1999','25/09/1998','11/05/2002','15/09/1997'],\n",
    "    'weight': [35, 32, 33, 30, 31, 32],\n",
    "    'address': ['street1', 'street2', 'street3', 'street1', 'street2', 'street4']},\n",
    "                                index = ['t1', 't2', 't3', 't4', 't5', 't6'])\n",
    "print(\"Original DataFrame:\")\n",
    "print(df)\n",
    "df.index.name = 'Index_name'\n",
    "print(\"\\nSaid DataFrame with a title or name of the index column:\")\n",
    "print(df)"
   ]
  },
  {
   "attachments": {},
   "cell_type": "markdown",
   "metadata": {},
   "source": [
    "8. Write a Pandas program to set value in a specific cell in a given dataframe using index."
   ]
  },
  {
   "cell_type": "code",
   "execution_count": 8,
   "metadata": {},
   "outputs": [
    {
     "name": "stdout",
     "output_type": "stream",
     "text": [
      "Original DataFrame:\n",
      "   school_code class            name date_of_birth  weight\n",
      "t1        s001     V  Alberto Franco    15/05/2002      35\n",
      "t2        s002     V    Gino Mcneill    17/05/2002      32\n",
      "t3        s003    VI     Ryan Parkes    16/02/1999      33\n",
      "t4        s001    VI    Eesha Hinton    25/09/1998      30\n",
      "t5        s002     V    Gino Mcneill    11/05/2002      31\n",
      "t6        s004    VI    David Parkes    15/09/1997      32\n",
      "\n",
      "Set school code 's004' to 's005':\n",
      "   school_code class            name date_of_birth  weight\n",
      "t1        s001     V  Alberto Franco    15/05/2002      35\n",
      "t2        s002     V    Gino Mcneill    17/05/2002      32\n",
      "t3        s003    VI     Ryan Parkes    16/02/1999      33\n",
      "t4        s001    VI    Eesha Hinton    25/09/1998      30\n",
      "t5        s002     V    Gino Mcneill    11/05/2002      31\n",
      "t6        s005    VI    David Parkes    15/09/1997      32\n",
      "\n",
      "Set date_of_birth of 'Alberto Franco' to '16/05/2002':\n",
      "   school_code class            name date_of_birth  weight\n",
      "t1        s001     V  Alberto Franco    16/05/2002      35\n",
      "t2        s002     V    Gino Mcneill    17/05/2002      32\n",
      "t3        s003    VI     Ryan Parkes    16/02/1999      33\n",
      "t4        s001    VI    Eesha Hinton    25/09/1998      30\n",
      "t5        s002     V    Gino Mcneill    11/05/2002      31\n",
      "t6        s005    VI    David Parkes    15/09/1997      32\n"
     ]
    }
   ],
   "source": [
    "df = pd.DataFrame({\n",
    "    'school_code': ['s001','s002','s003','s001','s002','s004'],\n",
    "    'class': ['V', 'V', 'VI', 'VI', 'V', 'VI'],\n",
    "    'name': ['Alberto Franco','Gino Mcneill','Ryan Parkes', 'Eesha Hinton', 'Gino Mcneill', 'David Parkes'],\n",
    "    'date_of_birth': ['15/05/2002','17/05/2002','16/02/1999','25/09/1998','11/05/2002','15/09/1997'],\n",
    "    'weight': [35, 32, 33, 30, 31, 32]},\n",
    "     index = ['t1', 't2', 't3', 't4', 't5', 't6'])\n",
    "print(\"Original DataFrame:\")\n",
    "print(df)\n",
    "print(\"\\nSet school code 's004' to 's005':\")\n",
    "df.at['t6', 'school_code'] = 's005'\n",
    "print(df)\n",
    "print(\"\\nSet date_of_birth of 'Alberto Franco' to '16/05/2002':\")\n",
    "df.at['t1', 'date_of_birth'] = '16/05/2002'\n",
    "print(df)"
   ]
  },
  {
   "attachments": {},
   "cell_type": "markdown",
   "metadata": {},
   "source": [
    "9. Write a Pandas program to convert index of a given dataframe into a column."
   ]
  },
  {
   "cell_type": "code",
   "execution_count": 9,
   "metadata": {},
   "outputs": [
    {
     "name": "stdout",
     "output_type": "stream",
     "text": [
      "Original DataFrame:\n",
      "   school_code class            name date_of_birth  weight\n",
      "t1        s001     V  Alberto Franco    16/05/2002      35\n",
      "t2        s002     V    Gino Mcneill    17/05/2002      32\n",
      "t3        s003    VI     Ryan Parkes    16/02/1999      33\n",
      "t4        s001    VI    Eesha Hinton    25/09/1998      30\n",
      "t5        s002     V    Gino Mcneill    11/05/2002      31\n",
      "t6        s005    VI    David Parkes    15/09/1997      32\n",
      "\n",
      "Convert index of the said dataframe into a column:\n",
      "  index school_code class            name date_of_birth  weight\n",
      "0    t1        s001     V  Alberto Franco    16/05/2002      35\n",
      "1    t2        s002     V    Gino Mcneill    17/05/2002      32\n",
      "2    t3        s003    VI     Ryan Parkes    16/02/1999      33\n",
      "3    t4        s001    VI    Eesha Hinton    25/09/1998      30\n",
      "4    t5        s002     V    Gino Mcneill    11/05/2002      31\n",
      "5    t6        s005    VI    David Parkes    15/09/1997      32\n"
     ]
    }
   ],
   "source": [
    "print(\"Original DataFrame:\")\n",
    "print(df)\n",
    "print(\"\\nConvert index of the said dataframe into a column:\")\n",
    "df.reset_index(level=0, inplace=True)\n",
    "print(df)"
   ]
  },
  {
   "attachments": {},
   "cell_type": "markdown",
   "metadata": {},
   "source": [
    "10. Write a Pandas program to convert 1st and 3rd levels in the index into columns from a multiple level of index frame of a given dataframe."
   ]
  },
  {
   "cell_type": "code",
   "execution_count": 10,
   "metadata": {},
   "outputs": [
    {
     "name": "stdout",
     "output_type": "stream",
     "text": [
      "Original DataFrame:\n",
      "  school_code class            name date_of_birth  weight t_id\n",
      "0        s001     V  Alberto Franco    15/05/2002      35   t1\n",
      "1        s002     V    Gino Mcneill    17/05/2002      32   t2\n",
      "2        s003    VI     Ryan Parkes    16/02/1999      33   t3\n",
      "3        s001    VI    Eesha Hinton    25/09/1998      30   t4\n",
      "4        s002     V    Gino Mcneill    11/05/2002      31   t5\n",
      "5        s004    VI    David Parkes    15/09/1997      32   t6\n",
      "\n",
      "MultiIndex using columns 't_id', ‘school_code’ and 'class':\n",
      "                                  name date_of_birth  weight\n",
      "t_id school_code class                                      \n",
      "t1   s001        V      Alberto Franco    15/05/2002      35\n",
      "t2   s002        V        Gino Mcneill    17/05/2002      32\n",
      "t3   s003        VI        Ryan Parkes    16/02/1999      33\n",
      "t4   s001        VI       Eesha Hinton    25/09/1998      30\n",
      "t5   s002        V        Gino Mcneill    11/05/2002      31\n",
      "t6   s004        VI       David Parkes    15/09/1997      32\n",
      "\n",
      "Convert 1st and 3rd levels in the index frame into columns:\n",
      "            t_id class            name date_of_birth  weight\n",
      "school_code                                                 \n",
      "s001          t1     V  Alberto Franco    15/05/2002      35\n",
      "s002          t2     V    Gino Mcneill    17/05/2002      32\n",
      "s003          t3    VI     Ryan Parkes    16/02/1999      33\n",
      "s001          t4    VI    Eesha Hinton    25/09/1998      30\n",
      "s002          t5     V    Gino Mcneill    11/05/2002      31\n",
      "s004          t6    VI    David Parkes    15/09/1997      32\n"
     ]
    }
   ],
   "source": [
    "df = pd.DataFrame({\n",
    "    'school_code': ['s001','s002','s003','s001','s002','s004'],\n",
    "    'class': ['V', 'V', 'VI', 'VI', 'V', 'VI'],\n",
    "    'name': ['Alberto Franco','Gino Mcneill','Ryan Parkes', 'Eesha Hinton', 'Gino Mcneill', 'David Parkes'],\n",
    "    'date_of_birth': ['15/05/2002','17/05/2002','16/02/1999','25/09/1998','11/05/2002','15/09/1997'],\n",
    "    'weight': [35, 32, 33, 30, 31, 32],\n",
    "    't_id': ['t1', 't2', 't3', 't4', 't5', 't6']})\n",
    "print(\"Original DataFrame:\")\n",
    "print(df)\n",
    "print(\"\\nMultiIndex using columns 't_id', ‘school_code’ and 'class':\")\n",
    "df1 = df.set_index(['t_id', 'school_code', 'class'])\n",
    "print(df1)\n",
    "print(\"\\nConvert 1st and 3rd levels in the index frame into columns:\")\n",
    "df2 = df1.reset_index(level=['t_id', 'class'])\n",
    "print(df2)"
   ]
  },
  {
   "attachments": {},
   "cell_type": "markdown",
   "metadata": {},
   "source": [
    "11. Write a Pandas program to check if a specified value exists in single and multiple column index dataframe"
   ]
  },
  {
   "cell_type": "code",
   "execution_count": 11,
   "metadata": {},
   "outputs": [
    {
     "name": "stdout",
     "output_type": "stream",
     "text": [
      "Original DataFrame with single index:\n",
      "   school_code class            name date_of_birth  weight\n",
      "t1        s001     V  Alberto Franco    15/05/2002      35\n",
      "t2        s002     V    Gino Mcneill    17/05/2002      32\n",
      "t3        s003    VI     Ryan Parkes    16/02/1999      33\n",
      "t4        s001    VI    Eesha Hinton    25/09/1998      30\n",
      "t5        s002     V    Gino Mcneill    11/05/2002      31\n",
      "t6        s004    VI    David Parkes    15/09/1997      32\n",
      "\n",
      "Check a value is exist in single column index dataframe:\n",
      "True\n",
      "False\n",
      "\n",
      "Create MultiIndex using columns 't_id', ‘school_code’ and 'class':\n",
      "                                  name date_of_birth  weight\n",
      "t_id school_code class                                      \n",
      "t1   s001        V      Alberto Franco    15/05/2002      35\n",
      "t2   s002        V        Gino Mcneill    17/05/2002      32\n",
      "t3   s003        VI        Ryan Parkes    16/02/1999      33\n",
      "t4   s001        VI       Eesha Hinton    25/09/1998      30\n",
      "t5   s002        V        Gino Mcneill    11/05/2002      31\n",
      "t6   s004        VI       David Parkes    15/09/1997      32\n",
      "\n",
      "Check a value is exist in multiple columns index dataframe:\n",
      "True\n",
      "False\n",
      "False\n"
     ]
    }
   ],
   "source": [
    "df = pd.DataFrame({\n",
    "    'school_code': ['s001','s002','s003','s001','s002','s004'],\n",
    "    'class': ['V', 'V', 'VI', 'VI', 'V', 'VI'],\n",
    "    'name': ['Alberto Franco','Gino Mcneill','Ryan Parkes', 'Eesha Hinton', 'Gino Mcneill', 'David Parkes'],\n",
    "    'date_of_birth': ['15/05/2002','17/05/2002','16/02/1999','25/09/1998','11/05/2002','15/09/1997'],\n",
    "    'weight': [35, 32, 33, 30, 31, 32]},\n",
    "     index =  ['t1', 't2', 't3', 't4', 't5', 't6'])\n",
    "print(\"Original DataFrame with single index:\")\n",
    "print(df)\n",
    "print(\"\\nCheck a value is exist in single column index dataframe:\")\n",
    "print('t1' in df.index)\n",
    "print('t11' in df.index)\n",
    "print(\"\\nCreate MultiIndex using columns 't_id', ‘school_code’ and 'class':\")\n",
    "df = pd.DataFrame({\n",
    "    'school_code': ['s001','s002','s003','s001','s002','s004'],\n",
    "    'class': ['V', 'V', 'VI', 'VI', 'V', 'VI'],\n",
    "    'name': ['Alberto Franco','Gino Mcneill','Ryan Parkes', 'Eesha Hinton', 'Gino Mcneill', 'David Parkes'],\n",
    "    'date_of_birth': ['15/05/2002','17/05/2002','16/02/1999','25/09/1998','11/05/2002','15/09/1997'],\n",
    "    'weight': [35, 32, 33, 30, 31, 32],\n",
    "    't_id': ['t1', 't2', 't3', 't4', 't5', 't6']})\n",
    "df1 = df.set_index(['t_id', 'school_code', 'class'])\n",
    "print(df1)\n",
    "print(\"\\nCheck a value is exist in multiple columns index dataframe:\")\n",
    "print('t4' in df1.index.levels[0])\n",
    "print('t4' in df1.index.levels[1])\n",
    "print('t4' in df1.index.levels[2])"
   ]
  },
  {
   "attachments": {},
   "cell_type": "markdown",
   "metadata": {},
   "source": [
    "12. Write a Pandas program to construct a series using the MultiIndex levels as the column and index"
   ]
  },
  {
   "cell_type": "code",
   "execution_count": 12,
   "metadata": {},
   "outputs": [
    {
     "name": "stdout",
     "output_type": "stream",
     "text": [
      "Create a MultiIndex:\n",
      "[('sale1', 'city1'), ('sale1', 'city2'), ('sale2', 'city1'), ('sale2', 'city2'), ('sale3', 'city1'), ('sale3', 'city2'), ('sale4', 'city1'), ('sale4', 'city2')]\n",
      "\n",
      "Construct a series using the said MultiIndex levels: \n",
      "sale   city \n",
      "sale1  city1   -2.382574\n",
      "       city2    2.000357\n",
      "sale2  city1    0.669427\n",
      "       city2    0.297303\n",
      "sale3  city1    0.691019\n",
      "       city2   -1.911514\n",
      "sale4  city1   -1.886974\n",
      "       city2    0.700424\n",
      "dtype: float64\n"
     ]
    }
   ],
   "source": [
    "import numpy as np\n",
    "\n",
    "sales_arrays = [['sale1', 'sale1', 'sale2', 'sale2', 'sale3', 'sale3', 'sale4', 'sale4'],\n",
    "          ['city1', 'city2', 'city1', 'city2', 'city1', 'city2', 'city1', 'city2']]\n",
    "sales_tuples = list(zip(*sales_arrays))\n",
    "print(\"Create a MultiIndex:\")\n",
    "sales_index = pd.MultiIndex.from_tuples(sales_tuples, names=['sale', 'city'])\n",
    "print(sales_tuples)\n",
    "print(\"\\nConstruct a series using the said MultiIndex levels: \")\n",
    "s = pd.Series(np.random.randn(8), index = sales_index)\n",
    "print(s)"
   ]
  },
  {
   "attachments": {},
   "cell_type": "markdown",
   "metadata": {},
   "source": [
    "13. Write a Pandas program to construct a DataFrame using the MultiIndex levels as the column and index."
   ]
  },
  {
   "cell_type": "code",
   "execution_count": 13,
   "metadata": {},
   "outputs": [
    {
     "name": "stdout",
     "output_type": "stream",
     "text": [
      "Create a MultiIndex:\n",
      "[('sale1', 'city1'), ('sale1', 'city2'), ('sale2', 'city1'), ('sale2', 'city2'), ('sale3', 'city1'), ('sale3', 'city2'), ('sale4', 'city1'), ('sale4', 'city2')]\n",
      "\n",
      "Construct a Dataframe using the said MultiIndex levels: \n",
      "                    0         1         2         3         4\n",
      "sale  city                                                   \n",
      "sale1 city1 -0.775484  1.151159  2.296643 -1.537614  2.418143\n",
      "      city2  0.568093  0.944319 -0.240393 -0.393143  1.427772\n",
      "sale2 city1  0.594714 -0.161383  1.799460 -0.506748  0.621474\n",
      "      city2 -0.499332  0.768865 -0.289391 -0.116380 -0.494511\n",
      "sale3 city1  1.489925 -1.408006  0.095864 -0.494399 -0.103139\n",
      "      city2 -0.522725  0.003264  1.329527 -1.319770 -1.255093\n",
      "sale4 city1 -0.866679 -0.118849 -1.000766  0.036132  0.821575\n",
      "      city2 -0.539669 -0.694246 -0.294746 -0.042526 -0.264320\n"
     ]
    }
   ],
   "source": [
    "sales_arrays = [['sale1', 'sale1', 'sale2', 'sale2', 'sale3', 'sale3', 'sale4', 'sale4'],\n",
    "          ['city1', 'city2', 'city1', 'city2', 'city1', 'city2', 'city1', 'city2']]\n",
    "sales_tuples = list(zip(*sales_arrays))\n",
    "print(\"Create a MultiIndex:\")\n",
    "sales_index = pd.MultiIndex.from_tuples(sales_tuples, names=['sale', 'city'])\n",
    "print(sales_tuples)\n",
    "print(\"\\nConstruct a Dataframe using the said MultiIndex levels: \")\n",
    "df = pd.DataFrame(np.random.randn(8, 5), index=sales_index)\n",
    "print(df)"
   ]
  },
  {
   "attachments": {},
   "cell_type": "markdown",
   "metadata": {},
   "source": [
    "14. Write a Pandas program to extract a single row, rows and a specific value from a MultiIndex levels DataFrame."
   ]
  },
  {
   "cell_type": "code",
   "execution_count": 14,
   "metadata": {},
   "outputs": [
    {
     "name": "stdout",
     "output_type": "stream",
     "text": [
      "[('sale1', 'city1'), ('sale1', 'city2'), ('sale2', 'city1'), ('sale2', 'city2'), ('sale3', 'city1'), ('sale3', 'city2'), ('sale4', 'city1'), ('sale4', 'city2')]\n",
      "\n",
      "Construct a Dataframe using the said MultiIndex levels: \n",
      "                    0         1         2         3         4\n",
      "sale  city                                                   \n",
      "sale1 city1 -1.700606 -0.329498  1.225644  0.166924 -0.511115\n",
      "      city2  0.156279 -0.388377  0.236777  0.448377  0.280176\n",
      "sale2 city1  1.280974 -0.458787  0.498665  1.479354 -1.014078\n",
      "      city2  0.803071 -0.610394  0.946684 -0.982969 -0.636618\n",
      "sale3 city1  2.927157 -0.647248  2.240659  0.852463  0.009455\n",
      "      city2 -0.831632 -1.259769 -0.239036 -0.243203  0.395413\n",
      "sale4 city1 -0.344546  0.070054 -0.996939  1.035933  1.092847\n",
      "      city2 -0.054236  0.058112 -2.614585 -0.589463 -0.079406\n",
      "\n",
      "Extract a single row from the said dataframe:\n",
      "0    1.280974\n",
      "1   -0.458787\n",
      "2    0.498665\n",
      "3    1.479354\n",
      "4   -1.014078\n",
      "Name: (sale2, city1), dtype: float64\n",
      "\n",
      "Extract a single row from the said dataframe:\n",
      "0    0.803071\n",
      "1   -0.610394\n",
      "2    0.946684\n",
      "3   -0.982969\n",
      "4   -0.636618\n",
      "Name: (sale2, city2), dtype: float64\n",
      "\n",
      "Extract number of rows from the said dataframe:\n",
      "              0         1         2         3         4\n",
      "city                                                   \n",
      "city1 -1.700606 -0.329498  1.225644  0.166924 -0.511115\n",
      "city2  0.156279 -0.388377  0.236777  0.448377  0.280176\n",
      "\n",
      "Extract number of rows from the said dataframe:\n",
      "              0         1         2         3         4\n",
      "city                                                   \n",
      "city1  2.927157 -0.647248  2.240659  0.852463  0.009455\n",
      "city2 -0.831632 -1.259769 -0.239036 -0.243203  0.395413\n",
      "\n",
      "Extract a single value from the said dataframe:\n",
      "-0.3883771545135807\n",
      "\n",
      "Extract a single value from the said dataframe:\n",
      "1.0928473851397196\n"
     ]
    }
   ],
   "source": [
    "sales_arrays = [['sale1', 'sale1', 'sale2', 'sale2', 'sale3', 'sale3', 'sale4', 'sale4'],\n",
    "          ['city1', 'city2', 'city1', 'city2', 'city1', 'city2', 'city1', 'city2']]\n",
    "sales_tuples = list(zip(*sales_arrays))\n",
    "sales_index = pd.MultiIndex.from_tuples(sales_tuples, names=['sale', 'city'])\n",
    "print(sales_tuples)\n",
    "print(\"\\nConstruct a Dataframe using the said MultiIndex levels: \")\n",
    "df = pd.DataFrame(np.random.randn(8, 5), index=sales_index)\n",
    "print(df)\n",
    "\n",
    "print(\"\\nExtract a single row from the said dataframe:\")\n",
    "print(df.loc[('sale2', 'city1')])\n",
    "print(\"\\nExtract a single row from the said dataframe:\")\n",
    "print(df.loc[('sale2', 'city2')])\n",
    "\n",
    "print(\"\\nExtract number of rows from the said dataframe:\")\n",
    "print(df.loc['sale1'])\n",
    "print(\"\\nExtract number of rows from the said dataframe:\")\n",
    "print(df.loc['sale3'])\n",
    "\n",
    "print(\"\\nExtract a single value from the said dataframe:\")\n",
    "print(df.loc[('sale1', 'city2'), 1])\n",
    "print(\"\\nExtract a single value from the said dataframe:\")\n",
    "print(df.loc[('sale4', 'city1'), 4])"
   ]
  },
  {
   "attachments": {},
   "cell_type": "markdown",
   "metadata": {},
   "source": [
    "15. Write a Pandas program to rename names of columns and specific labels of the Main Index of the MultiIndex dataframe."
   ]
  },
  {
   "cell_type": "code",
   "execution_count": 15,
   "metadata": {},
   "outputs": [
    {
     "name": "stdout",
     "output_type": "stream",
     "text": [
      "[('sale1', 'city1'), ('sale1', 'city2'), ('sale2', 'city1'), ('sale2', 'city2'), ('sale3', 'city1'), ('sale3', 'city2'), ('sale4', 'city1'), ('sale4', 'city2')]\n",
      "\n",
      "Construct a Dataframe using the said MultiIndex levels: \n",
      "                    0         1         2         3         4\n",
      "sale  city                                                   \n",
      "sale1 city1 -1.833054  0.411749  0.975505 -0.212483 -0.599335\n",
      "      city2 -1.897139 -0.530719  2.612088  0.275485  1.611838\n",
      "sale2 city1 -0.171631  1.679715  1.253498  1.459756 -0.875331\n",
      "      city2  1.859517  0.969723  0.240760 -0.255436 -1.527648\n",
      "sale3 city1  1.249351 -0.034969 -0.459467 -0.306827  0.125192\n",
      "      city2  0.034636  0.268489 -0.919373 -1.416213  1.400024\n",
      "sale4 city1 -0.665567  0.942675 -0.407954  0.441933  0.606218\n",
      "      city2  0.160583 -0.442388  0.231856 -0.715862 -1.755161\n",
      "\n",
      "Rename the columns name of the said dataframe\n",
      "                 col1      col2      col3      col4      col5\n",
      "sale  city                                                   \n",
      "sale1 city1 -1.833054  0.411749  0.975505 -0.212483 -0.599335\n",
      "      city2 -1.897139 -0.530719  2.612088  0.275485  1.611838\n",
      "sale2 city1 -0.171631  1.679715  1.253498  1.459756 -0.875331\n",
      "      city2  1.859517  0.969723  0.240760 -0.255436 -1.527648\n",
      "sale3 city1  1.249351 -0.034969 -0.459467 -0.306827  0.125192\n",
      "      city2  0.034636  0.268489 -0.919373 -1.416213  1.400024\n",
      "sale4 city1 -0.665567  0.942675 -0.407954  0.441933  0.606218\n",
      "      city2  0.160583 -0.442388  0.231856 -0.715862 -1.755161\n",
      "\n",
      "Rename specific labels of the main index of the DataFrame\n",
      "                 col1      col2      col3      col4      col5\n",
      "sale  city                                                   \n",
      "sale1 city1 -1.833054  0.411749  0.975505 -0.212483 -0.599335\n",
      "      C2    -1.897139 -0.530719  2.612088  0.275485  1.611838\n",
      "S2    city1 -0.171631  1.679715  1.253498  1.459756 -0.875331\n",
      "      C2     1.859517  0.969723  0.240760 -0.255436 -1.527648\n",
      "sale3 city1  1.249351 -0.034969 -0.459467 -0.306827  0.125192\n",
      "      C2     0.034636  0.268489 -0.919373 -1.416213  1.400024\n",
      "sale4 city1 -0.665567  0.942675 -0.407954  0.441933  0.606218\n",
      "      C2     0.160583 -0.442388  0.231856 -0.715862 -1.755161\n"
     ]
    }
   ],
   "source": [
    "sales_arrays = [['sale1', 'sale1', 'sale2', 'sale2', 'sale3', 'sale3', 'sale4', 'sale4'],\n",
    "          ['city1', 'city2', 'city1', 'city2', 'city1', 'city2', 'city1', 'city2']]\n",
    "sales_tuples = list(zip(*sales_arrays))\n",
    "sales_index = pd.MultiIndex.from_tuples(sales_tuples, names=['sale', 'city'])\n",
    "print(sales_tuples)\n",
    "print(\"\\nConstruct a Dataframe using the said MultiIndex levels: \")\n",
    "df = pd.DataFrame(np.random.randn(8, 5), index=sales_index)\n",
    "print(df)\n",
    "print(\"\\nRename the columns name of the said dataframe\")\n",
    "df1 = df.rename(columns={0: \"col1\", 1: \"col2\", 2:\"col3\", 3:\"col4\", 4:\"col5\"})\n",
    "print(df1)\n",
    "print(\"\\nRename specific labels of the main index of the DataFrame\")\n",
    "df2 = df1.rename(index={\"sale2\": \"S2\", \"city2\": \"C2\"})\n",
    "print(df2)"
   ]
  },
  {
   "attachments": {},
   "cell_type": "markdown",
   "metadata": {},
   "source": [
    "16. Write a Pandas program to sort a MultiIndex of a DataFrame. Also sort on various levels of index."
   ]
  },
  {
   "cell_type": "code",
   "execution_count": 16,
   "metadata": {},
   "outputs": [
    {
     "name": "stdout",
     "output_type": "stream",
     "text": [
      "[('sale1', 'city1'), ('sale1', 'city2'), ('sale3', 'city1'), ('sale3', 'city2'), ('sale2', 'city1'), ('sale2', 'city2'), ('sale4', 'city1'), ('sale4', 'city2')]\n",
      "\n",
      "Construct a Dataframe using the said MultiIndex levels: \n",
      "                    0         1         2         3         4\n",
      "sale  city                                                   \n",
      "sale1 city1 -0.972701 -1.335459 -0.335754  0.407645  1.073417\n",
      "      city2 -0.814551  0.748603  0.007505 -0.078674  1.077953\n",
      "sale3 city1 -0.685801  0.367041  1.003017  0.557343 -0.560336\n",
      "      city2 -0.291687  0.573473 -0.085815  1.571272 -0.127999\n",
      "sale2 city1 -0.752568  0.218473  1.258936 -0.373570 -0.249378\n",
      "      city2  1.361096 -0.880327  0.099757  2.074050 -0.590308\n",
      "sale4 city1  1.258046 -0.898463  0.186032 -1.091224 -0.345209\n",
      "      city2  0.588880 -0.547605  1.806755 -1.565582 -1.101614\n",
      "\n",
      "Sort on MultiIndex DataFrame:\n",
      "                    0         1         2         3         4\n",
      "sale  city                                                   \n",
      "sale1 city1 -0.972701 -1.335459 -0.335754  0.407645  1.073417\n",
      "      city2 -0.814551  0.748603  0.007505 -0.078674  1.077953\n",
      "sale2 city1 -0.752568  0.218473  1.258936 -0.373570 -0.249378\n",
      "      city2  1.361096 -0.880327  0.099757  2.074050 -0.590308\n",
      "sale3 city1 -0.685801  0.367041  1.003017  0.557343 -0.560336\n",
      "      city2 -0.291687  0.573473 -0.085815  1.571272 -0.127999\n",
      "sale4 city1  1.258046 -0.898463  0.186032 -1.091224 -0.345209\n",
      "      city2  0.588880 -0.547605  1.806755 -1.565582 -1.101614\n",
      "\n",
      "Sort on Index level=0 of the DataFrame:\n",
      "                    0         1         2         3         4\n",
      "sale  city                                                   \n",
      "sale1 city1 -0.972701 -1.335459 -0.335754  0.407645  1.073417\n",
      "      city2 -0.814551  0.748603  0.007505 -0.078674  1.077953\n",
      "sale2 city1 -0.752568  0.218473  1.258936 -0.373570 -0.249378\n",
      "      city2  1.361096 -0.880327  0.099757  2.074050 -0.590308\n",
      "sale3 city1 -0.685801  0.367041  1.003017  0.557343 -0.560336\n",
      "      city2 -0.291687  0.573473 -0.085815  1.571272 -0.127999\n",
      "sale4 city1  1.258046 -0.898463  0.186032 -1.091224 -0.345209\n",
      "      city2  0.588880 -0.547605  1.806755 -1.565582 -1.101614\n",
      "\n",
      "Sort on Index level=1 of the DataFrame:\n",
      "                    0         1         2         3         4\n",
      "sale  city                                                   \n",
      "sale1 city1 -0.972701 -1.335459 -0.335754  0.407645  1.073417\n",
      "sale2 city1 -0.752568  0.218473  1.258936 -0.373570 -0.249378\n",
      "sale3 city1 -0.685801  0.367041  1.003017  0.557343 -0.560336\n",
      "sale4 city1  1.258046 -0.898463  0.186032 -1.091224 -0.345209\n",
      "sale1 city2 -0.814551  0.748603  0.007505 -0.078674  1.077953\n",
      "sale2 city2  1.361096 -0.880327  0.099757  2.074050 -0.590308\n",
      "sale3 city2 -0.291687  0.573473 -0.085815  1.571272 -0.127999\n",
      "sale4 city2  0.588880 -0.547605  1.806755 -1.565582 -1.101614\n",
      "\n",
      "Pass a level name to sort the DataFrame:\n",
      "                    0         1         2         3         4\n",
      "sale  city                                                   \n",
      "sale1 city1 -0.972701 -1.335459 -0.335754  0.407645  1.073417\n",
      "sale2 city1 -0.752568  0.218473  1.258936 -0.373570 -0.249378\n",
      "sale3 city1 -0.685801  0.367041  1.003017  0.557343 -0.560336\n",
      "sale4 city1  1.258046 -0.898463  0.186032 -1.091224 -0.345209\n",
      "sale1 city2 -0.814551  0.748603  0.007505 -0.078674  1.077953\n",
      "sale2 city2  1.361096 -0.880327  0.099757  2.074050 -0.590308\n",
      "sale3 city2 -0.291687  0.573473 -0.085815  1.571272 -0.127999\n",
      "sale4 city2  0.588880 -0.547605  1.806755 -1.565582 -1.101614\n"
     ]
    }
   ],
   "source": [
    "sales_arrays = [['sale1', 'sale1', 'sale3', 'sale3', 'sale2', 'sale2', 'sale4', 'sale4'],\n",
    "          ['city1', 'city2', 'city1', 'city2', 'city1', 'city2', 'city1', 'city2']]\n",
    "sales_tuples = list(zip(*sales_arrays))\n",
    "sales_index = pd.MultiIndex.from_tuples(sales_tuples, names=['sale', 'city'])\n",
    "print(sales_tuples)\n",
    "print(\"\\nConstruct a Dataframe using the said MultiIndex levels: \")\n",
    "df = pd.DataFrame(np.random.randn(8, 5), index=sales_index)\n",
    "print(df)\n",
    "print(\"\\nSort on MultiIndex DataFrame:\")\n",
    "df1 = df.sort_index()\n",
    "print(df1)\n",
    "print(\"\\nSort on Index level=0 of the DataFrame:\")\n",
    "df2 = df.sort_index(level=0)\n",
    "print(df2)\n",
    "print(\"\\nSort on Index level=1 of the DataFrame:\")\n",
    "df2 = df.sort_index(level=1)\n",
    "print(df2)\n",
    "print(\"\\nPass a level name to sort the DataFrame:\")\n",
    "df3 = df.sort_index(level=\"city\")\n",
    "print(df3)  "
   ]
  },
  {
   "attachments": {},
   "cell_type": "markdown",
   "metadata": {},
   "source": [
    "17. Write a Pandas program to extract elements in the given positional indices along an axis of a dataframe."
   ]
  },
  {
   "cell_type": "code",
   "execution_count": 17,
   "metadata": {},
   "outputs": [
    {
     "name": "stdout",
     "output_type": "stream",
     "text": [
      "\n",
      "Construct a Dataframe using the said MultiIndex levels:\n",
      "                    0         1         2         3         4\n",
      "sale  city                                                   \n",
      "sale1 city1  1.388145  0.202107  0.989040 -0.621345 -1.149173\n",
      "      city2 -0.107716  1.469868  1.150991  1.205191 -1.164104\n",
      "sale3 city1 -1.647677  0.300166  0.489662 -1.393163  0.492907\n",
      "      city2  0.127104  0.430059  0.843554  0.461608  0.260275\n",
      "sale2 city1 -0.359869  0.311970 -1.383683 -1.015460  0.049207\n",
      "      city2 -1.347490 -0.845528  1.295061 -0.374975 -2.390620\n",
      "sale4 city1 -0.348897 -0.998910  0.886892  1.326013 -0.157788\n",
      "      city2 -1.302308  0.258012 -2.552262 -0.070460 -0.834851\n",
      "\n",
      "Select 1st, 2nd and 3rd row of the said DataFrame:\n",
      "                    0         1         2         3         4\n",
      "sale  city                                                   \n",
      "sale1 city2 -0.107716  1.469868  1.150991  1.205191 -1.164104\n",
      "sale3 city1 -1.647677  0.300166  0.489662 -1.393163  0.492907\n",
      "sale2 city2 -1.347490 -0.845528  1.295061 -0.374975 -2.390620\n",
      "\n",
      "Take elements at indices 1 and 2 along the axis 1 (column selection):\n",
      "                    1         2\n",
      "sale  city                     \n",
      "sale1 city1  0.202107  0.989040\n",
      "      city2  1.469868  1.150991\n",
      "sale3 city1  0.300166  0.489662\n",
      "      city2  0.430059  0.843554\n",
      "sale2 city1  0.311970 -1.383683\n",
      "      city2 -0.845528  1.295061\n",
      "sale4 city1 -0.998910  0.886892\n",
      "      city2  0.258012 -2.552262\n",
      "\n",
      "Take elements at indices 4 and 3 using negative integers along the axis 1 (column selection):\n",
      "                    4         3\n",
      "sale  city                     \n",
      "sale1 city1 -1.149173 -0.621345\n",
      "      city2 -1.164104  1.205191\n",
      "sale3 city1  0.492907 -1.393163\n",
      "      city2  0.260275  0.461608\n",
      "sale2 city1  0.049207 -1.015460\n",
      "      city2 -2.390620 -0.374975\n",
      "sale4 city1 -0.157788  1.326013\n",
      "      city2 -0.834851 -0.070460\n"
     ]
    }
   ],
   "source": [
    "sales_arrays = [['sale1', 'sale1', 'sale3', 'sale3', 'sale2', 'sale2', 'sale4', 'sale4'],\n",
    "          ['city1', 'city2', 'city1', 'city2', 'city1', 'city2', 'city1', 'city2']]\n",
    "sales_tuples = list(zip(*sales_arrays))\n",
    "sales_index = pd.MultiIndex.from_tuples(sales_tuples, names=['sale', 'city'])\n",
    "print(\"\\nConstruct a Dataframe using the said MultiIndex levels:\")\n",
    "df = pd.DataFrame(np.random.randn(8, 5), index=sales_index)\n",
    "print(df)\n",
    "print(\"\\nSelect 1st, 2nd and 3rd row of the said DataFrame:\")\n",
    "positions = [1, 2, 5]\n",
    "print(df.take([1, 2, 5]))\n",
    "\n",
    "print(\"\\nTake elements at indices 1 and 2 along the axis 1 (column selection):\")\n",
    "print(df.take([1, 2], axis=1))\n",
    "\n",
    "print(\"\\nTake elements at indices 4 and 3 using negative integers along the axis 1 (column selection):\")\n",
    "print(df.take([-1, -2], axis=1))"
   ]
  },
  {
   "attachments": {},
   "cell_type": "markdown",
   "metadata": {},
   "source": [
    "18. Write a Pandas program to get the index of an element of a given Series."
   ]
  },
  {
   "cell_type": "code",
   "execution_count": 18,
   "metadata": {},
   "outputs": [
    {
     "name": "stdout",
     "output_type": "stream",
     "text": [
      "Original Series:\n",
      "0     1\n",
      "1     3\n",
      "2     5\n",
      "3     7\n",
      "4     9\n",
      "5    11\n",
      "7    13\n",
      "8    15\n",
      "dtype: int64\n",
      "\n",
      "Index of 11 in the said series:\n",
      "5\n"
     ]
    }
   ],
   "source": [
    "ds = pd.Series([1,3,5,7,9,11,13,15], index=[0,1,2,3,4,5,7,8])\n",
    "print(\"Original Series:\")\n",
    "print(ds)\n",
    "print(\"\\nIndex of 11 in the said series:\")\n",
    "x = ds[ds == 11].index[0]\n",
    "print(x)"
   ]
  },
  {
   "attachments": {},
   "cell_type": "markdown",
   "metadata": {},
   "source": [
    "19. Write a Pandas program to select a specific row of given series/dataframe by integer index."
   ]
  },
  {
   "cell_type": "code",
   "execution_count": 19,
   "metadata": {},
   "outputs": [
    {
     "name": "stdout",
     "output_type": "stream",
     "text": [
      "Original Series:\n",
      "0     1\n",
      "1     3\n",
      "2     5\n",
      "3     7\n",
      "4     9\n",
      "5    11\n",
      "7    13\n",
      "8    15\n",
      "dtype: int64\n",
      "\n",
      "Print specified row from the said series using location based indexing:\n",
      "\n",
      "Third row:\n",
      "2    5\n",
      "dtype: int64\n",
      "\n",
      "Fifth row:\n",
      "4    9\n",
      "dtype: int64\n",
      "Original DataFrame with single index:\n",
      "  school_code class            name date_of_birth  weight\n",
      "0        s001     V  Alberto Franco    15/05/2002      35\n",
      "1        s002     V    Gino Mcneill    17/05/2002      32\n",
      "2        s003    VI     Ryan Parkes    16/02/1999      33\n",
      "3        s001    VI    Eesha Hinton    25/09/1998      30\n",
      "4        s002     V    Gino Mcneill    11/05/2002      31\n",
      "5        s004    VI    David Parkes    15/09/1997      32\n",
      "\n",
      "Print specified row from the said DataFrame using location based indexing:\n",
      "\n",
      "Third row:\n",
      "  school_code class         name date_of_birth  weight\n",
      "2        s003    VI  Ryan Parkes    16/02/1999      33\n",
      "\n",
      "Fifth row:\n",
      "  school_code class          name date_of_birth  weight\n",
      "4        s002     V  Gino Mcneill    11/05/2002      31\n"
     ]
    }
   ],
   "source": [
    "ds = pd.Series([1,3,5,7,9,11,13,15], index=[0,1,2,3,4,5,7,8])\n",
    "print(\"Original Series:\")\n",
    "print(ds)\n",
    "print(\"\\nPrint specified row from the said series using location based indexing:\")\n",
    "print(\"\\nThird row:\")\n",
    "print(ds.iloc[[2]])\n",
    "print(\"\\nFifth row:\")\n",
    "print(ds.iloc[[4]])\n",
    "df = pd.DataFrame({\n",
    "    'school_code': ['s001','s002','s003','s001','s002','s004'],\n",
    "    'class': ['V', 'V', 'VI', 'VI', 'V', 'VI'],\n",
    "    'name': ['Alberto Franco','Gino Mcneill','Ryan Parkes', 'Eesha Hinton', 'Gino Mcneill', 'David Parkes'],\n",
    "    'date_of_birth': ['15/05/2002','17/05/2002','16/02/1999','25/09/1998','11/05/2002','15/09/1997'],\n",
    "    'weight': [35, 32, 33, 30, 31, 32]})\n",
    "\n",
    "print(\"Original DataFrame with single index:\")\n",
    "print(df)\n",
    "print(\"\\nPrint specified row from the said DataFrame using location based indexing:\")\n",
    "print(\"\\nThird row:\")\n",
    "print(df.iloc[[2]])\n",
    "print(\"\\nFifth row:\")\n",
    "print(df.iloc[[4]])"
   ]
  },
  {
   "attachments": {},
   "cell_type": "markdown",
   "metadata": {},
   "source": [
    "20. Write a Pandas program to find the indexes of rows of a specified value of a given column in a DataFrame."
   ]
  },
  {
   "cell_type": "code",
   "execution_count": 20,
   "metadata": {},
   "outputs": [
    {
     "name": "stdout",
     "output_type": "stream",
     "text": [
      "Original DataFrame with single index:\n",
      "  school_code class            name date_of_birth  weight\n",
      "1        s001     V  Alberto Franco    15/05/2002      35\n",
      "2        s002     V    Gino Mcneill    17/05/2002      32\n",
      "3        s003    VI     Ryan Parkes    16/02/1999      33\n",
      "4        s001    VI    Eesha Hinton    25/09/1998      30\n",
      "5        s002     V    Gino Mcneill    11/05/2002      31\n",
      "6        s004    VI    David Parkes    15/09/1997      32\n",
      "\n",
      "Index of rows where specified column matches certain value:\n",
      "[1, 4]\n"
     ]
    }
   ],
   "source": [
    "df = pd.DataFrame({\n",
    "    'school_code': ['s001','s002','s003','s001','s002','s004'],\n",
    "    'class': ['V', 'V', 'VI', 'VI', 'V', 'VI'],\n",
    "    'name': ['Alberto Franco','Gino Mcneill','Ryan Parkes', 'Eesha Hinton', 'Gino Mcneill', 'David Parkes'],\n",
    "    'date_of_birth': ['15/05/2002','17/05/2002','16/02/1999','25/09/1998','11/05/2002','15/09/1997'],\n",
    "    'weight': [35, 32, 33, 30, 31, 32]},\n",
    "     index =  [1, 2, 3, 4, 5, 6])\n",
    "print(\"Original DataFrame with single index:\")\n",
    "print(df)\n",
    "print(\"\\nIndex of rows where specified column matches certain value:\")\n",
    "print(df.index[df['school_code']=='s001'].tolist())"
   ]
  },
  {
   "attachments": {},
   "cell_type": "markdown",
   "metadata": {},
   "source": [
    "21. Write a Pandas program to drop a index level from a multi-level column index of a dataframe."
   ]
  },
  {
   "cell_type": "code",
   "execution_count": 21,
   "metadata": {},
   "outputs": [
    {
     "name": "stdout",
     "output_type": "stream",
     "text": [
      "\n",
      "Construct a Dataframe using the said MultiIndex levels: \n",
      "   a      \n",
      "   x  y  z\n",
      "0  1  2  3\n",
      "1  3  4  5\n",
      "2  5  6  7\n",
      "\n",
      "Remove the top level index:\n",
      "   x  y  z\n",
      "0  1  2  3\n",
      "1  3  4  5\n",
      "2  5  6  7\n",
      "\n",
      "Original dataframe:\n",
      "   a      \n",
      "   x  y  z\n",
      "0  1  2  3\n",
      "1  3  4  5\n",
      "2  5  6  7\n",
      "\n",
      "Remove the index next to top level:\n",
      "   a  a  a\n",
      "0  1  2  3\n",
      "1  3  4  5\n",
      "2  5  6  7\n"
     ]
    }
   ],
   "source": [
    "cols = pd.MultiIndex.from_tuples([(\"a\", \"x\"), (\"a\", \"y\"), (\"a\", \"z\")])\n",
    "print(\"\\nConstruct a Dataframe using the said MultiIndex levels: \")\n",
    "df = pd.DataFrame([[1,2,3], [3,4,5], [5,6,7]], columns=cols)\n",
    "print(df)\n",
    "#Levels are 0-indexed beginning from the top.\n",
    "print(\"\\nRemove the top level index:\")\n",
    "df.columns = df.columns.droplevel(0)\n",
    "print(df)\n",
    "df = pd.DataFrame([[1,2,3], [3,4,5], [5,6,7]], columns=cols)\n",
    "print(\"\\nOriginal dataframe:\")\n",
    "print(df)\n",
    "print(\"\\nRemove the index next to top level:\")\n",
    "df.columns = df.columns.droplevel(1)\n",
    "print(df)"
   ]
  },
  {
   "attachments": {},
   "cell_type": "markdown",
   "metadata": {},
   "source": [
    "22. Write a Pandas program to insert a column at a specific index in a given DataFrame"
   ]
  },
  {
   "cell_type": "code",
   "execution_count": 22,
   "metadata": {},
   "outputs": [
    {
     "name": "stdout",
     "output_type": "stream",
     "text": [
      "Original DataFrame with single index:\n",
      "  school_code class            name  weight\n",
      "1        s001     V  Alberto Franco      35\n",
      "2        s002     V    Gino Mcneill      32\n",
      "3        s003    VI     Ryan Parkes      33\n",
      "4        s001    VI    Eesha Hinton      30\n",
      "5        s002     V    Gino Mcneill      31\n",
      "6        s004    VI    David Parkes      32\n",
      "\n",
      "Insert 'date_of_birth' column in 3rd position of the said DataFrame:\n",
      "  school_code class            name date_of_birth  weight\n",
      "1        s001     V  Alberto Franco    15/05/2002      35\n",
      "2        s002     V    Gino Mcneill    17/05/2002      32\n",
      "3        s003    VI     Ryan Parkes    16/02/1999      33\n",
      "4        s001    VI    Eesha Hinton    25/09/1998      30\n",
      "5        s002     V    Gino Mcneill    11/05/2002      31\n",
      "6        s004    VI    David Parkes    15/09/1997      32\n"
     ]
    }
   ],
   "source": [
    "df = pd.DataFrame({\n",
    "    'school_code': ['s001','s002','s003','s001','s002','s004'],\n",
    "    'class': ['V', 'V', 'VI', 'VI', 'V', 'VI'],\n",
    "    'name': ['Alberto Franco','Gino Mcneill','Ryan Parkes', 'Eesha Hinton', 'Gino Mcneill', 'David Parkes'],\n",
    "    'weight': [35, 32, 33, 30, 31, 32]},\n",
    "     index =  [1, 2, 3, 4, 5, 6])\n",
    "print(\"Original DataFrame with single index:\")\n",
    "print(df)\n",
    "date_of_birth = ['15/05/2002','17/05/2002','16/02/1999','25/09/1998','11/05/2002','15/09/1997']  \n",
    "idx = 3\n",
    "print(\"\\nInsert 'date_of_birth' column in 3rd position of the said DataFrame:\")\n",
    "df.insert(loc=idx, column='date_of_birth', value=date_of_birth)\n",
    "print(df)"
   ]
  },
  {
   "attachments": {},
   "cell_type": "markdown",
   "metadata": {},
   "source": [
    "23. Write a Pandas program to print a DataFrame without index."
   ]
  },
  {
   "cell_type": "code",
   "execution_count": 23,
   "metadata": {},
   "outputs": [
    {
     "name": "stdout",
     "output_type": "stream",
     "text": [
      "Original DataFrame with single index:\n",
      "  school_code class            name date_of_birth  weight\n",
      "1        s001     V  Alberto Franco    15/05/2002      35\n",
      "2        s002     V    Gino Mcneill    17/05/2002      32\n",
      "3        s003    VI     Ryan Parkes    16/02/1999      33\n",
      "4        s001    VI    Eesha Hinton    25/09/1998      30\n",
      "5        s002     V    Gino Mcneill    11/05/2002      31\n",
      "6        s004    VI    David Parkes    15/09/1997      32\n",
      "\n",
      "DataFrame without index:\n",
      "school_code class           name date_of_birth  weight\n",
      "       s001     V Alberto Franco    15/05/2002      35\n",
      "       s002     V   Gino Mcneill    17/05/2002      32\n",
      "       s003    VI    Ryan Parkes    16/02/1999      33\n",
      "       s001    VI   Eesha Hinton    25/09/1998      30\n",
      "       s002     V   Gino Mcneill    11/05/2002      31\n",
      "       s004    VI   David Parkes    15/09/1997      32\n"
     ]
    }
   ],
   "source": [
    "df = pd.DataFrame({\n",
    "    'school_code': ['s001','s002','s003','s001','s002','s004'],\n",
    "    'class': ['V', 'V', 'VI', 'VI', 'V', 'VI'],\n",
    "    'name': ['Alberto Franco','Gino Mcneill','Ryan Parkes', 'Eesha Hinton', 'Gino Mcneill', 'David Parkes'],\n",
    "    'date_of_birth': ['15/05/2002','17/05/2002','16/02/1999','25/09/1998','11/05/2002','15/09/1997'],\n",
    "    'weight': [35, 32, 33, 30, 31, 32]},\n",
    "     index =  [1, 2, 3, 4, 5, 6])\n",
    "print(\"Original DataFrame with single index:\")\n",
    "print(df)\n",
    "print(\"\\nDataFrame without index:\")\n",
    "print(df.to_string(index=False))\n"
   ]
  },
  {
   "attachments": {},
   "cell_type": "markdown",
   "metadata": {},
   "source": [
    "24. Write a Pandas program to find integer index of rows with missing data in a given dataframe."
   ]
  },
  {
   "cell_type": "code",
   "execution_count": 24,
   "metadata": {},
   "outputs": [
    {
     "name": "stdout",
     "output_type": "stream",
     "text": [
      "Original DataFrame:\n",
      "   school_code class            name date_of_birth  weight\n",
      "t1        s001     V  Alberto Franco    15/05/2002    35.0\n",
      "t2        s002     V    Gino Mcneill    17/05/2002     NaN\n",
      "t3        s003    VI     Ryan Parkes    16/02/1999    33.0\n",
      "t4        s001    VI    Eesha Hinton    25/09/1998    30.0\n",
      "t5        s002     V    Gino Mcneill    11/05/2002    31.0\n",
      "t6        s004    VI    David Parkes    15/09/1997     NaN\n",
      "\n",
      "Integer index of rows with missing data in 'weight' column of the said dataframe:\n",
      "[1, 5]\n"
     ]
    }
   ],
   "source": [
    "df = pd.DataFrame({\n",
    "    'school_code': ['s001','s002','s003','s001','s002','s004'],\n",
    "    'class': ['V', 'V', 'VI', 'VI', 'V', 'VI'],\n",
    "    'name': ['Alberto Franco','Gino Mcneill','Ryan Parkes', 'Eesha Hinton', 'Gino Mcneill', 'David Parkes'],\n",
    "    'date_of_birth': ['15/05/2002','17/05/2002','16/02/1999','25/09/1998','11/05/2002','15/09/1997'],\n",
    "    'weight': [35, None, 33, 30, 31, None]},\n",
    "     index = ['t1', 't2', 't3', 't4', 't5', 't6'])\n",
    "print(\"Original DataFrame:\")\n",
    "print(df)\n",
    "index = df['weight'].index[df['weight'].apply(np.isnan)]\n",
    "df_index = df.index.values.tolist()\n",
    "print(\"\\nInteger index of rows with missing data in 'weight' column of the said dataframe:\")\n",
    "print([df_index.index(i) for i in index])"
   ]
  },
  {
   "attachments": {},
   "cell_type": "markdown",
   "metadata": {},
   "source": [
    "25. Write a Pandas program to start index with different value rather than 0 in a given DataFrame."
   ]
  },
  {
   "cell_type": "code",
   "execution_count": 33,
   "metadata": {},
   "outputs": [
    {
     "name": "stdout",
     "output_type": "stream",
     "text": [
      "Original DataFrame:\n",
      "  school_code class            name date_of_birth  weight\n",
      "0        s001     V  Alberto Franco    15/05/2002      35\n",
      "1        s002     V    Gino Mcneill    17/05/2002      37\n",
      "2        s003    VI     Ryan Parkes    16/02/1999      33\n",
      "3        s001    VI    Eesha Hinton    25/09/1998      30\n",
      "4        s002     V    Gino Mcneill    11/05/2002      31\n",
      "5        s004    VI    David Parkes    15/09/1997      32\n",
      "\n",
      "Default Index Range:\n",
      "RangeIndex(start=0, stop=6, step=1)\n",
      "\n",
      "New Index Range:\n",
      "RangeIndex(start=10, stop=16, step=1)\n",
      "\n",
      "DataFrame with new index:\n",
      "   school_code class            name date_of_birth  weight\n",
      "10        s001     V  Alberto Franco    15/05/2002      35\n",
      "11        s002     V    Gino Mcneill    17/05/2002      37\n",
      "12        s003    VI     Ryan Parkes    16/02/1999      33\n",
      "13        s001    VI    Eesha Hinton    25/09/1998      30\n",
      "14        s002     V    Gino Mcneill    11/05/2002      31\n",
      "15        s004    VI    David Parkes    15/09/1997      32\n",
      "--------------------\n",
      "   school_code class            name date_of_birth  weight\n",
      "10        s001     V  Alberto Franco    15/05/2002      35\n",
      "11        s002     V    Gino Mcneill    17/05/2002      37\n",
      "12        s003    VI     Ryan Parkes    16/02/1999      33\n",
      "13        s001    VI    Eesha Hinton    25/09/1998      30\n",
      "14        s002     V    Gino Mcneill    11/05/2002      31\n"
     ]
    }
   ],
   "source": [
    "df = pd.DataFrame({\n",
    "    'school_code': ['s001','s002','s003','s001','s002','s004'],\n",
    "    'class': ['V', 'V', 'VI', 'VI', 'V', 'VI'],\n",
    "    'name': ['Alberto Franco','Gino Mcneill','Ryan Parkes', 'Eesha Hinton', 'Gino Mcneill', 'David Parkes'],\n",
    "    'date_of_birth': ['15/05/2002','17/05/2002','16/02/1999','25/09/1998','11/05/2002','15/09/1997'],\n",
    "    'weight': [35, 37, 33, 30, 31, 32]})\n",
    "     \n",
    "print(\"Original DataFrame:\")\n",
    "print(df)\n",
    "print(\"\\nDefault Index Range:\")\n",
    "print(df.index)\n",
    "df.index += 10 \n",
    "print(\"\\nNew Index Range:\")\n",
    "print(df.index)\n",
    "print(\"\\nDataFrame with new index:\")\n",
    "print(df)"
   ]
  },
  {
   "attachments": {},
   "cell_type": "markdown",
   "metadata": {},
   "source": [
    "26. Write a Pandas program to select rows by filtering on one or more column(s) in a multi-index dataframe."
   ]
  },
  {
   "cell_type": "code",
   "execution_count": 26,
   "metadata": {},
   "outputs": [
    {
     "name": "stdout",
     "output_type": "stream",
     "text": [
      "Original DataFrame:\n",
      "  school_code class            name date_of_birth  weight tcode\n",
      "0        s001     V  Alberto Franco    15/05/2002      35    t1\n",
      "1        s002     V    Gino Mcneill    17/05/2002      37    t2\n",
      "2        s003    VI     Ryan Parkes    16/02/1999      33    t3\n",
      "3        s001    VI    Eesha Hinton    25/09/1998      30    t4\n",
      "4        s002     V    Gino Mcneill    11/05/2002      31    t5\n",
      "5        s004    VI    David Parkes    15/09/1997      32    t6\n",
      "\n",
      "Create MultiIndex on 'tcode' and 'school_code':\n",
      "                  class            name date_of_birth  weight\n",
      "tcode school_code                                            \n",
      "t1    s001            V  Alberto Franco    15/05/2002      35\n",
      "t2    s002            V    Gino Mcneill    17/05/2002      37\n",
      "t3    s003           VI     Ryan Parkes    16/02/1999      33\n",
      "t4    s001           VI    Eesha Hinton    25/09/1998      30\n",
      "t5    s002            V    Gino Mcneill    11/05/2002      31\n",
      "t6    s004           VI    David Parkes    15/09/1997      32\n",
      "\n",
      "Select rows(s) from 'tcode' column:\n",
      "                  class          name date_of_birth  weight\n",
      "tcode school_code                                          \n",
      "t2    s002            V  Gino Mcneill    17/05/2002      37\n",
      "\n",
      "Select rows(s) from 'school_code' column:\n",
      "                  class            name date_of_birth  weight\n",
      "tcode school_code                                            \n",
      "t1    s001            V  Alberto Franco    15/05/2002      35\n",
      "t4    s001           VI    Eesha Hinton    25/09/1998      30\n",
      "\n",
      "Select rows(s) from 'tcode' and 'scode' columns:\n",
      "                  class            name date_of_birth  weight\n",
      "tcode school_code                                            \n",
      "t1    s001            V  Alberto Franco    15/05/2002      35\n",
      "t4    s001           VI    Eesha Hinton    25/09/1998      30\n"
     ]
    }
   ],
   "source": [
    "df = pd.DataFrame({\n",
    "    'school_code': ['s001','s002','s003','s001','s002','s004'],\n",
    "    'class': ['V', 'V', 'VI', 'VI', 'V', 'VI'],\n",
    "    'name': ['Alberto Franco','Gino Mcneill','Ryan Parkes', 'Eesha Hinton', 'Gino Mcneill', 'David Parkes'],\n",
    "    'date_of_birth': ['15/05/2002','17/05/2002','16/02/1999','25/09/1998','11/05/2002','15/09/1997'],\n",
    "    'weight': [35, 37, 33, 30, 31, 32],\n",
    "    'tcode': ['t1', 't2', 't3', 't4', 't5', 't6']})    \n",
    "print(\"Original DataFrame:\")\n",
    "print(df)\n",
    "print(\"\\nCreate MultiIndex on 'tcode' and 'school_code':\")\n",
    "df = df.set_index(['tcode', 'school_code'])\n",
    "print(df)\n",
    "print(\"\\nSelect rows(s) from 'tcode' column:\")\n",
    "print(df.query(\"tcode == 't2'\"))\n",
    "print(\"\\nSelect rows(s) from 'school_code' column:\")\n",
    "print(df.query(\"school_code == 's001'\"))\n",
    "print(\"\\nSelect rows(s) from 'tcode' and 'scode' columns:\")\n",
    "print(df.query((\"tcode == 't1'\") and (\"school_code == 's001'\")))"
   ]
  }
 ],
 "metadata": {
  "kernelspec": {
   "display_name": ".venv",
   "language": "python",
   "name": "python3"
  },
  "language_info": {
   "codemirror_mode": {
    "name": "ipython",
    "version": 3
   },
   "file_extension": ".py",
   "mimetype": "text/x-python",
   "name": "python",
   "nbconvert_exporter": "python",
   "pygments_lexer": "ipython3",
   "version": "3.10.8"
  },
  "orig_nbformat": 4
 },
 "nbformat": 4,
 "nbformat_minor": 2
}
