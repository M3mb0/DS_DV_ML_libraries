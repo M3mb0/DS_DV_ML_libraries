{
 "cells": [
  {
   "attachments": {},
   "cell_type": "markdown",
   "metadata": {},
   "source": [
    " 1. Write a Pandas program to create Go to the editor\n",
    "a) Datetime object for Jan 15 2012.\n",
    "b) Specific date and time of 9:20 pm.\n",
    "c) Local date and time.\n",
    "d) A date without time.\n",
    "e) Current date.\n",
    "f) Time from a datetime.\n",
    "g) Current local time."
   ]
  },
  {
   "cell_type": "code",
   "execution_count": 1,
   "metadata": {},
   "outputs": [
    {
     "name": "stdout",
     "output_type": "stream",
     "text": [
      "Datetime object for Jan 15 2012:\n",
      "2012-01-11 00:00:00\n",
      "\n",
      "Specific date and time of 9:20 pm\n",
      "2011-01-11 21:20:00\n",
      "\n",
      "Local date and time:\n",
      "2023-05-09 15:21:59.209459\n",
      "\n",
      "A date without time: \n",
      "2012-05-22\n",
      "\n",
      "Current date:\n",
      "2023-05-09\n",
      "\n",
      "Time from a datetime:\n",
      "18:12:00\n",
      "\n",
      "Current local time:\n",
      "15:21:59.209459\n"
     ]
    }
   ],
   "source": [
    "import pandas as pd\n",
    "from datetime import datetime\n",
    "\n",
    "print(\"Datetime object for Jan 15 2012:\")\n",
    "print(datetime(2012, 1, 11))\n",
    "print(\"\\nSpecific date and time of 9:20 pm\") \n",
    "print(datetime(2011, 1, 11, 21, 20))\n",
    "print(\"\\nLocal date and time:\")\n",
    "print(datetime.now())\n",
    "print(\"\\nA date without time: \")\n",
    "print(datetime.date(datetime(2012, 5, 22)))\n",
    "print(\"\\nCurrent date:\")\n",
    "print(datetime.now().date())\n",
    "print(\"\\nTime from a datetime:\")\n",
    "print(datetime.time(datetime(2012, 12, 15, 18, 12)))\n",
    "print(\"\\nCurrent local time:\") \n",
    "print(datetime.now().time())"
   ]
  },
  {
   "attachments": {},
   "cell_type": "markdown",
   "metadata": {},
   "source": [
    "2. Write a Pandas program to create Go to the editor\n",
    "a) a specific date using timestamp.\n",
    "b) date and time using timestamp.\n",
    "c) a time adds in the current local date using timestamp.\n",
    "d) current date and time using timestamp."
   ]
  },
  {
   "cell_type": "code",
   "execution_count": 2,
   "metadata": {},
   "outputs": [
    {
     "name": "stdout",
     "output_type": "stream",
     "text": [
      "\n",
      "A specific date using timestamp:\n",
      "2016-11-10 00:00:00\n",
      "\n",
      "Date and time using timestamp:\n",
      "2012-05-03 11:30:00\n",
      "\n",
      "A time adds in the current local date using timestamp:\n",
      "2023-05-09 11:30:00\n",
      "\n",
      "Current date and time using timestamp:\n",
      "2023-05-09 15:23:15.312300\n"
     ]
    }
   ],
   "source": [
    "print(\"\\nA specific date using timestamp:\")\n",
    "print(pd.Timestamp('2016-11-10'))\n",
    "print(\"\\nDate and time using timestamp:\")\n",
    "print(pd.Timestamp('2012-05-03 11:30'))\n",
    "print(\"\\nA time adds in the current local date using timestamp:\")\n",
    "print(pd.Timestamp('11:30'))\n",
    "print(\"\\nCurrent date and time using timestamp:\")\n",
    "print(pd.Timestamp(\"now\"))"
   ]
  },
  {
   "attachments": {},
   "cell_type": "markdown",
   "metadata": {},
   "source": [
    "3. Write a Pandas program to create a date from a given year, month, day and another date from a given string formats."
   ]
  },
  {
   "cell_type": "code",
   "execution_count": 3,
   "metadata": {},
   "outputs": [
    {
     "name": "stdout",
     "output_type": "stream",
     "text": [
      "Date from a given year, month, day:\n",
      "2020-12-25 00:00:00\n",
      "\n",
      "Date from a given string formats:\n",
      "2021-01-01 00:00:00\n"
     ]
    }
   ],
   "source": [
    "from dateutil import parser\n",
    "\n",
    "date1 = datetime(year=2020, month=12, day=25)\n",
    "print(\"Date from a given year, month, day:\")\n",
    "print(date1)\n",
    "date2 = parser.parse(\"1st of January, 2021\")\n",
    "print(\"\\nDate from a given string formats:\")\n",
    "print(date2)"
   ]
  },
  {
   "attachments": {},
   "cell_type": "markdown",
   "metadata": {},
   "source": [
    "4. Write a Pandas program to print the day after and before a specified date. Also print the days between two given dates."
   ]
  },
  {
   "cell_type": "code",
   "execution_count": 4,
   "metadata": {},
   "outputs": [
    {
     "name": "stdout",
     "output_type": "stream",
     "text": [
      "Current date: 2012-10-30 00:00:00\n",
      "Tomorrow: 2012-10-31 00:00:00\n",
      "Yesterday: 2012-10-29 00:00:00\n",
      "\n",
      "Difference between two dates:  14 days, 0:00:00\n"
     ]
    }
   ],
   "source": [
    "today = datetime(2012, 10, 30)\n",
    "print(\"Current date:\", today)\n",
    "tomorrow = today + pd.Timedelta(days=1)\n",
    "print(\"Tomorrow:\", tomorrow)\n",
    "yesterday = today - pd.Timedelta(days=1)\n",
    "print(\"Yesterday:\", yesterday)\n",
    "date1 = datetime(2016, 8, 2)\n",
    "date2 = datetime(2016, 7, 19)\n",
    "print(\"\\nDifference between two dates: \",(date1 - date2))"
   ]
  },
  {
   "attachments": {},
   "cell_type": "markdown",
   "metadata": {},
   "source": [
    "5. Write a Pandas program to create a time-series with two index labels and random values. Also print the type of the index"
   ]
  },
  {
   "cell_type": "code",
   "execution_count": 5,
   "metadata": {},
   "outputs": [
    {
     "name": "stdout",
     "output_type": "stream",
     "text": [
      "Time-series with two index labels:\n",
      "2011-09-01   -0.910856\n",
      "2011-09-02   -0.823258\n",
      "dtype: float64\n",
      "\n",
      "Type of the index:\n",
      "<class 'pandas.core.indexes.datetimes.DatetimeIndex'>\n"
     ]
    }
   ],
   "source": [
    "import numpy as np\n",
    "\n",
    "dates = [datetime(2011, 9, 1), datetime(2011, 9, 2)]\n",
    "print(\"Time-series with two index labels:\")\n",
    "time_series = pd.Series(np.random.randn(2), dates)\n",
    "print(time_series)\n",
    "print(\"\\nType of the index:\")\n",
    "print(type(time_series.index))"
   ]
  },
  {
   "attachments": {},
   "cell_type": "markdown",
   "metadata": {},
   "source": [
    "6. Write a Pandas program to create a time-series from a given list of dates as strings"
   ]
  },
  {
   "cell_type": "code",
   "execution_count": 6,
   "metadata": {},
   "outputs": [
    {
     "name": "stdout",
     "output_type": "stream",
     "text": [
      "2014-08-01   -0.948069\n",
      "2014-08-02   -0.363532\n",
      "2014-08-03   -1.098930\n",
      "2014-08-04    0.030733\n",
      "dtype: float64\n"
     ]
    }
   ],
   "source": [
    "dates = ['2014-08-01','2014-08-02','2014-08-03','2014-08-04']\n",
    "time_series = pd.Series(np.random.randn(4), dates)\n",
    "print(time_series)"
   ]
  },
  {
   "attachments": {},
   "cell_type": "markdown",
   "metadata": {},
   "source": [
    "7. Write a Pandas program to create a time series object that has time indexed data. Also select the dates of same year and select the dates between certain dates."
   ]
  },
  {
   "cell_type": "code",
   "execution_count": 8,
   "metadata": {},
   "outputs": [
    {
     "name": "stdout",
     "output_type": "stream",
     "text": [
      "Time series object with indexed data:\n",
      "2010-08-04    3\n",
      "2011-08-04    5\n",
      "2011-09-02    0\n",
      "2012-08-04    1\n",
      "2012-08-04    7\n",
      "2015-03-03    4\n",
      "2015-04-03    6\n",
      "2015-09-03    2\n",
      "dtype: int64\n",
      "\n",
      "Dates of same year:\n",
      "2015-03-03    4\n",
      "2015-04-03    6\n",
      "2015-09-03    2\n",
      "dtype: int64\n",
      "\n",
      "Dates between 2012-01-01 and 2012-12-31\n",
      "2012-08-04    1\n",
      "2012-08-04    7\n",
      "dtype: int64\n"
     ]
    }
   ],
   "source": [
    "index = pd.DatetimeIndex(['2011-09-02', '2012-08-04',\n",
    "                          '2015-09-03', '2010-08-04',\n",
    "                          '2015-03-03', '2011-08-04',\n",
    "                          '2015-04-03', '2012-08-04'])\n",
    "\n",
    "s_dates = pd.Series([0, 1, 2, 3, 4, 5, 6, 7], index=index)\n",
    "\n",
    "s_dates = s_dates.sort_index()\n",
    "\n",
    "print(\"Time series object with indexed data:\")\n",
    "print(s_dates)\n",
    "print(\"\\nDates of same year:\")\n",
    "print(s_dates['2015'])\n",
    "print(\"\\nDates between 2012-01-01 and 2012-12-31\")\n",
    "print(s_dates.loc['2012-01-01':'2012-12-31']) "
   ]
  },
  {
   "attachments": {},
   "cell_type": "markdown",
   "metadata": {},
   "source": [
    "8. Write a Pandas program to create a date range using a startpoint date and a number of periods."
   ]
  },
  {
   "cell_type": "code",
   "execution_count": 9,
   "metadata": {},
   "outputs": [
    {
     "name": "stdout",
     "output_type": "stream",
     "text": [
      "Date range of perods 45:\n",
      "DatetimeIndex(['2020-01-01', '2020-01-02', '2020-01-03', '2020-01-04',\n",
      "               '2020-01-05', '2020-01-06', '2020-01-07', '2020-01-08',\n",
      "               '2020-01-09', '2020-01-10', '2020-01-11', '2020-01-12',\n",
      "               '2020-01-13', '2020-01-14', '2020-01-15', '2020-01-16',\n",
      "               '2020-01-17', '2020-01-18', '2020-01-19', '2020-01-20',\n",
      "               '2020-01-21', '2020-01-22', '2020-01-23', '2020-01-24',\n",
      "               '2020-01-25', '2020-01-26', '2020-01-27', '2020-01-28',\n",
      "               '2020-01-29', '2020-01-30', '2020-01-31', '2020-02-01',\n",
      "               '2020-02-02', '2020-02-03', '2020-02-04', '2020-02-05',\n",
      "               '2020-02-06', '2020-02-07', '2020-02-08', '2020-02-09',\n",
      "               '2020-02-10', '2020-02-11', '2020-02-12', '2020-02-13',\n",
      "               '2020-02-14'],\n",
      "              dtype='datetime64[ns]', freq='D')\n"
     ]
    }
   ],
   "source": [
    "date_range = pd.date_range('2020-01-01', periods=45)\n",
    "print(\"Date range of perods 45:\")\n",
    "print(date_range)"
   ]
  },
  {
   "attachments": {},
   "cell_type": "markdown",
   "metadata": {},
   "source": [
    "9. Write a Pandas program to create a whole month of dates in daily frequencies. Also find the maximum, minimum timestamp and indexs."
   ]
  },
  {
   "cell_type": "code",
   "execution_count": 10,
   "metadata": {},
   "outputs": [
    {
     "name": "stdout",
     "output_type": "stream",
     "text": [
      "Month of December 2020:\n",
      "0    2020-12-01\n",
      "1    2020-12-02\n",
      "2    2020-12-03\n",
      "3    2020-12-04\n",
      "4    2020-12-05\n",
      "5    2020-12-06\n",
      "6    2020-12-07\n",
      "7    2020-12-08\n",
      "8    2020-12-09\n",
      "9    2020-12-10\n",
      "10   2020-12-11\n",
      "11   2020-12-12\n",
      "12   2020-12-13\n",
      "13   2020-12-14\n",
      "14   2020-12-15\n",
      "15   2020-12-16\n",
      "16   2020-12-17\n",
      "17   2020-12-18\n",
      "18   2020-12-19\n",
      "19   2020-12-20\n",
      "20   2020-12-21\n",
      "21   2020-12-22\n",
      "22   2020-12-23\n",
      "23   2020-12-24\n",
      "24   2020-12-25\n",
      "25   2020-12-26\n",
      "26   2020-12-27\n",
      "27   2020-12-28\n",
      "28   2020-12-29\n",
      "29   2020-12-30\n",
      "30   2020-12-31\n",
      "dtype: datetime64[ns]\n",
      "\n",
      "Maximum date:  2020-12-31 00:00:00\n",
      "Minimum date:  2020-12-01 00:00:00\n",
      "Maximum index:  30\n",
      "Minimum index:  0\n"
     ]
    }
   ],
   "source": [
    "dates = pd.Series(pd.date_range('2020-12-01',periods=31, freq='D'))\n",
    "print(\"Month of December 2020:\")\n",
    "print(dates)\n",
    "dates = pd.Series(pd.date_range('2020-12-01',periods=31, freq='D'))\n",
    "print(\"\\nMaximum date: \", dates.max())\n",
    "print(\"Minimum date: \", dates.min())\n",
    "print(\"Maximum index: \", dates.idxmax())\n",
    "print(\"Minimum index: \", dates.idxmin())"
   ]
  },
  {
   "attachments": {},
   "cell_type": "markdown",
   "metadata": {},
   "source": [
    "10. Write a Pandas program to create a time series using three months frequency."
   ]
  },
  {
   "cell_type": "code",
   "execution_count": 11,
   "metadata": {},
   "outputs": [
    {
     "name": "stdout",
     "output_type": "stream",
     "text": [
      "Time series using three months frequency:\n",
      "DatetimeIndex(['2021-01-31', '2021-04-30', '2021-07-31', '2021-10-31',\n",
      "               '2022-01-31', '2022-04-30', '2022-07-31', '2022-10-31',\n",
      "               '2023-01-31', '2023-04-30', '2023-07-31', '2023-10-31',\n",
      "               '2024-01-31', '2024-04-30', '2024-07-31', '2024-10-31',\n",
      "               '2025-01-31', '2025-04-30', '2025-07-31', '2025-10-31',\n",
      "               '2026-01-31', '2026-04-30', '2026-07-31', '2026-10-31',\n",
      "               '2027-01-31', '2027-04-30', '2027-07-31', '2027-10-31',\n",
      "               '2028-01-31', '2028-04-30', '2028-07-31', '2028-10-31',\n",
      "               '2029-01-31', '2029-04-30', '2029-07-31', '2029-10-31'],\n",
      "              dtype='datetime64[ns]', freq='3M')\n"
     ]
    }
   ],
   "source": [
    "time_series = pd.date_range('1/1/2021', periods = 36, freq='3M')\n",
    "print(\"Time series using three months frequency:\")\n",
    "print(time_series) "
   ]
  }
 ],
 "metadata": {
  "kernelspec": {
   "display_name": ".venv",
   "language": "python",
   "name": "python3"
  },
  "language_info": {
   "codemirror_mode": {
    "name": "ipython",
    "version": 3
   },
   "file_extension": ".py",
   "mimetype": "text/x-python",
   "name": "python",
   "nbconvert_exporter": "python",
   "pygments_lexer": "ipython3",
   "version": "3.10.8"
  },
  "orig_nbformat": 4
 },
 "nbformat": 4,
 "nbformat_minor": 2
}
